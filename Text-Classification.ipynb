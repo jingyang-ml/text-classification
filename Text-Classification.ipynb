{
 "cells": [
  {
   "cell_type": "markdown",
   "metadata": {
    "colab_type": "text",
    "id": "3swiValoUu5U"
   },
   "source": [
    "<h1><center>Text Classification</h1></center>\n",
    "<h1><center>Jing Yang</h1></center>\n",
    "\n",
    " "
   ]
  },
  {
   "cell_type": "markdown",
   "metadata": {
    "colab": {},
    "colab_type": "code",
    "id": "CxXFb3qJUbQs"
   },
   "source": [
    "# Task 1.<a id='top'></a>\n",
    "\n",
    "Explore the dataset. Plot the distribution of the attributes if applicable. Find most/least common words, average sentence length for textual attributes? What is the proportion of each class in the dataset? What trends can you find in your data? (0.1)\n",
    "</a>"
   ]
  },
  {
   "cell_type": "markdown",
   "metadata": {},
   "source": [
    "### Explore the dataset. Plot the distribution of the attributes if applicable."
   ]
  },
  {
   "cell_type": "code",
   "execution_count": 70,
   "metadata": {},
   "outputs": [
    {
     "data": {
      "text/html": [
       "<div>\n",
       "<style scoped>\n",
       "    .dataframe tbody tr th:only-of-type {\n",
       "        vertical-align: middle;\n",
       "    }\n",
       "\n",
       "    .dataframe tbody tr th {\n",
       "        vertical-align: top;\n",
       "    }\n",
       "\n",
       "    .dataframe thead th {\n",
       "        text-align: right;\n",
       "    }\n",
       "</style>\n",
       "<table border=\"1\" class=\"dataframe\">\n",
       "  <thead>\n",
       "    <tr style=\"text-align: right;\">\n",
       "      <th></th>\n",
       "      <th>Release Year</th>\n",
       "      <th>Title</th>\n",
       "      <th>Origin/Ethnicity</th>\n",
       "      <th>Director</th>\n",
       "      <th>Cast</th>\n",
       "      <th>Genre</th>\n",
       "      <th>Wiki Page</th>\n",
       "      <th>Plot</th>\n",
       "    </tr>\n",
       "  </thead>\n",
       "  <tbody>\n",
       "    <tr>\n",
       "      <th>0</th>\n",
       "      <td>1901</td>\n",
       "      <td>Kansas Saloon Smashers</td>\n",
       "      <td>American</td>\n",
       "      <td>Unknown</td>\n",
       "      <td>NaN</td>\n",
       "      <td>unknown</td>\n",
       "      <td>https://en.wikipedia.org/wiki/Kansas_Saloon_Sm...</td>\n",
       "      <td>A bartender is working at a saloon, serving dr...</td>\n",
       "    </tr>\n",
       "    <tr>\n",
       "      <th>1</th>\n",
       "      <td>1901</td>\n",
       "      <td>Love by the Light of the Moon</td>\n",
       "      <td>American</td>\n",
       "      <td>Unknown</td>\n",
       "      <td>NaN</td>\n",
       "      <td>unknown</td>\n",
       "      <td>https://en.wikipedia.org/wiki/Love_by_the_Ligh...</td>\n",
       "      <td>The moon, painted with a smiling face hangs ov...</td>\n",
       "    </tr>\n",
       "    <tr>\n",
       "      <th>2</th>\n",
       "      <td>1901</td>\n",
       "      <td>The Martyred Presidents</td>\n",
       "      <td>American</td>\n",
       "      <td>Unknown</td>\n",
       "      <td>NaN</td>\n",
       "      <td>unknown</td>\n",
       "      <td>https://en.wikipedia.org/wiki/The_Martyred_Pre...</td>\n",
       "      <td>The film, just over a minute long, is composed...</td>\n",
       "    </tr>\n",
       "    <tr>\n",
       "      <th>3</th>\n",
       "      <td>1901</td>\n",
       "      <td>Terrible Teddy, the Grizzly King</td>\n",
       "      <td>American</td>\n",
       "      <td>Unknown</td>\n",
       "      <td>NaN</td>\n",
       "      <td>unknown</td>\n",
       "      <td>https://en.wikipedia.org/wiki/Terrible_Teddy,_...</td>\n",
       "      <td>Lasting just 61 seconds and consisting of two ...</td>\n",
       "    </tr>\n",
       "    <tr>\n",
       "      <th>4</th>\n",
       "      <td>1902</td>\n",
       "      <td>Jack and the Beanstalk</td>\n",
       "      <td>American</td>\n",
       "      <td>George S. Fleming, Edwin S. Porter</td>\n",
       "      <td>NaN</td>\n",
       "      <td>unknown</td>\n",
       "      <td>https://en.wikipedia.org/wiki/Jack_and_the_Bea...</td>\n",
       "      <td>The earliest known adaptation of the classic f...</td>\n",
       "    </tr>\n",
       "  </tbody>\n",
       "</table>\n",
       "</div>"
      ],
      "text/plain": [
       "   Release Year                             Title Origin/Ethnicity  \\\n",
       "0          1901            Kansas Saloon Smashers         American   \n",
       "1          1901     Love by the Light of the Moon         American   \n",
       "2          1901           The Martyred Presidents         American   \n",
       "3          1901  Terrible Teddy, the Grizzly King         American   \n",
       "4          1902            Jack and the Beanstalk         American   \n",
       "\n",
       "                             Director Cast    Genre  \\\n",
       "0                             Unknown  NaN  unknown   \n",
       "1                             Unknown  NaN  unknown   \n",
       "2                             Unknown  NaN  unknown   \n",
       "3                             Unknown  NaN  unknown   \n",
       "4  George S. Fleming, Edwin S. Porter  NaN  unknown   \n",
       "\n",
       "                                           Wiki Page  \\\n",
       "0  https://en.wikipedia.org/wiki/Kansas_Saloon_Sm...   \n",
       "1  https://en.wikipedia.org/wiki/Love_by_the_Ligh...   \n",
       "2  https://en.wikipedia.org/wiki/The_Martyred_Pre...   \n",
       "3  https://en.wikipedia.org/wiki/Terrible_Teddy,_...   \n",
       "4  https://en.wikipedia.org/wiki/Jack_and_the_Bea...   \n",
       "\n",
       "                                                Plot  \n",
       "0  A bartender is working at a saloon, serving dr...  \n",
       "1  The moon, painted with a smiling face hangs ov...  \n",
       "2  The film, just over a minute long, is composed...  \n",
       "3  Lasting just 61 seconds and consisting of two ...  \n",
       "4  The earliest known adaptation of the classic f...  "
      ]
     },
     "execution_count": 70,
     "metadata": {},
     "output_type": "execute_result"
    }
   ],
   "source": [
    "import pandas as pd\n",
    "Wikipedia_Movie_Plots = pd.read_csv(\"wiki_movie_plots_deduped.csv\")\n",
    "Wikipedia_Movie_Plots.head()"
   ]
  },
  {
   "cell_type": "markdown",
   "metadata": {},
   "source": [
    "### Check the number of null values of each attributes."
   ]
  },
  {
   "cell_type": "code",
   "execution_count": 71,
   "metadata": {},
   "outputs": [
    {
     "data": {
      "text/plain": [
       "Release Year           0\n",
       "Title                  0\n",
       "Origin/Ethnicity       0\n",
       "Director               0\n",
       "Cast                1422\n",
       "Genre                  0\n",
       "Wiki Page              0\n",
       "Plot                   0\n",
       "dtype: int64"
      ]
     },
     "execution_count": 71,
     "metadata": {},
     "output_type": "execute_result"
    }
   ],
   "source": [
    "Wikipedia_Movie_Plots.isnull().sum()"
   ]
  },
  {
   "cell_type": "code",
   "execution_count": 72,
   "metadata": {},
   "outputs": [
    {
     "data": {
      "text/plain": [
       "(34886, 8)"
      ]
     },
     "execution_count": 72,
     "metadata": {},
     "output_type": "execute_result"
    }
   ],
   "source": [
    "Wikipedia_Movie_Plots.shape"
   ]
  },
  {
   "cell_type": "code",
   "execution_count": 73,
   "metadata": {},
   "outputs": [
    {
     "data": {
      "text/plain": [
       "0                unknown\n",
       "1                unknown\n",
       "2                unknown\n",
       "3                unknown\n",
       "4                unknown\n",
       "              ...       \n",
       "34881            unknown\n",
       "34882             comedy\n",
       "34883             comedy\n",
       "34884    romantic comedy\n",
       "34885           romantic\n",
       "Name: Genre, Length: 34886, dtype: object"
      ]
     },
     "execution_count": 73,
     "metadata": {},
     "output_type": "execute_result"
    }
   ],
   "source": [
    "Wikipedia_Movie_Plots.Genre"
   ]
  },
  {
   "cell_type": "code",
   "execution_count": 74,
   "metadata": {},
   "outputs": [
    {
     "data": {
      "text/plain": [
       "(2265,)"
      ]
     },
     "execution_count": 74,
     "metadata": {},
     "output_type": "execute_result"
    }
   ],
   "source": [
    "Wikipedia_Movie_Plots.Genre.unique().shape"
   ]
  },
  {
   "cell_type": "code",
   "execution_count": 75,
   "metadata": {},
   "outputs": [
    {
     "data": {
      "text/plain": [
       "Index(['Release Year', 'Title', 'Origin/Ethnicity', 'Director', 'Cast',\n",
       "       'Genre', 'Wiki Page', 'Plot'],\n",
       "      dtype='object')"
      ]
     },
     "execution_count": 75,
     "metadata": {},
     "output_type": "execute_result"
    }
   ],
   "source": [
    "Wikipedia_Movie_Plots.columns"
   ]
  },
  {
   "cell_type": "code",
   "execution_count": 76,
   "metadata": {},
   "outputs": [
    {
     "data": {
      "text/plain": [
       "0        American\n",
       "1        American\n",
       "2        American\n",
       "3        American\n",
       "4        American\n",
       "           ...   \n",
       "34881     Turkish\n",
       "34882     Turkish\n",
       "34883     Turkish\n",
       "34884     Turkish\n",
       "34885     Turkish\n",
       "Name: Origin/Ethnicity, Length: 34886, dtype: object"
      ]
     },
     "execution_count": 76,
     "metadata": {},
     "output_type": "execute_result"
    }
   ],
   "source": [
    "Wikipedia_Movie_Plots['Origin/Ethnicity']"
   ]
  },
  {
   "cell_type": "code",
   "execution_count": 77,
   "metadata": {},
   "outputs": [],
   "source": [
    "import matplotlib.pyplot as plt\n",
    "%matplotlib inline\n",
    "\n",
    "import seaborn as sns\n"
   ]
  },
  {
   "cell_type": "markdown",
   "metadata": {},
   "source": [
    "### Plot the distribution of the Origin/Ethnicity attribute. <a href='#1'>[2]"
   ]
  },
  {
   "cell_type": "code",
   "execution_count": 78,
   "metadata": {},
   "outputs": [
    {
     "data": {
      "image/png": "[encoded data removed]",
      "text/plain": [
       "<Figure size 2160x1440 with 1 Axes>"
      ]
     },
     "metadata": {},
     "output_type": "display_data"
    }
   ],
   "source": [
    "sns.set(style=\"darkgrid\")\n",
    "fig, ax = plt.subplots(figsize=(30,20))\n",
    "sns.countplot(x=Wikipedia_Movie_Plots['Origin/Ethnicity'],data=Wikipedia_Movie_Plots,ax=ax)\n",
    "plt.title('Origin/Ethnicity Distribution', fontsize=25)\n",
    "plt.ylabel('Frequency', fontsize=25)\n",
    "plt.yticks(fontsize=20)\n",
    "plt.xlabel('Origin/Ethnicity', fontsize=25)\n",
    "plt.xticks(rotation=50,fontsize=20)\n",
    "plt.show()"
   ]
  },
  {
   "cell_type": "code",
   "execution_count": 79,
   "metadata": {},
   "outputs": [
    {
     "data": {
      "text/plain": [
       "American        17377\n",
       "British          3670\n",
       "Bollywood        2931\n",
       "Tamil            2599\n",
       "Telugu           1311\n",
       "Japanese         1188\n",
       "Malayalam        1095\n",
       "Hong Kong         791\n",
       "Canadian          723\n",
       "Australian        576\n",
       "South_Korean      522\n",
       "Chinese           463\n",
       "Kannada           444\n",
       "Bengali           306\n",
       "Russian           232\n",
       "Marathi           141\n",
       "Filipino          128\n",
       "Bangladeshi        87\n",
       "Punjabi            84\n",
       "Turkish            70\n",
       "Malaysian          70\n",
       "Egyptian           67\n",
       "Assamese            9\n",
       "Maldivian           2\n",
       "Name: Origin/Ethnicity, dtype: int64"
      ]
     },
     "execution_count": 79,
     "metadata": {},
     "output_type": "execute_result"
    }
   ],
   "source": [
    "Wikipedia_Movie_Plots['Origin/Ethnicity'].value_counts()"
   ]
  },
  {
   "cell_type": "code",
   "execution_count": 80,
   "metadata": {},
   "outputs": [
    {
     "data": {
      "text/plain": [
       "(24,)"
      ]
     },
     "execution_count": 80,
     "metadata": {},
     "output_type": "execute_result"
    }
   ],
   "source": [
    "Wikipedia_Movie_Plots['Origin/Ethnicity'].unique().shape"
   ]
  },
  {
   "cell_type": "code",
   "execution_count": 81,
   "metadata": {},
   "outputs": [
    {
     "data": {
      "text/plain": [
       "(32183,)"
      ]
     },
     "execution_count": 81,
     "metadata": {},
     "output_type": "execute_result"
    }
   ],
   "source": [
    "Wikipedia_Movie_Plots.Cast.unique().shape"
   ]
  },
  {
   "cell_type": "markdown",
   "metadata": {},
   "source": [
    "### Plot the distribution of the Release Year attribute. <a href='#1'>[2]"
   ]
  },
  {
   "cell_type": "code",
   "execution_count": 82,
   "metadata": {},
   "outputs": [
    {
     "data": {
      "image/png": "[encoded data removed]",
      "text/plain": [
       "<Figure size 3600x2880 with 1 Axes>"
      ]
     },
     "metadata": {},
     "output_type": "display_data"
    }
   ],
   "source": [
    "sns.set(style=\"darkgrid\")\n",
    "fig, ax = plt.subplots(figsize=(50,40))\n",
    "sns.countplot(x=Wikipedia_Movie_Plots['Release Year'],data=Wikipedia_Movie_Plots,ax=ax)\n",
    "plt.title('Release Year Distribution', fontsize=45)\n",
    "plt.ylabel('Frequency', fontsize=45)\n",
    "plt.yticks(fontsize=30)\n",
    "plt.xlabel('Release Year', fontsize=45)\n",
    "plt.xticks(rotation=90,fontsize=25)\n",
    "plt.show()"
   ]
  },
  {
   "cell_type": "markdown",
   "metadata": {},
   "source": [
    "### Find most/least common words, average sentence length for textual attributes."
   ]
  },
  {
   "cell_type": "markdown",
   "metadata": {},
   "source": [
    "#### Detect listing duplicates."
   ]
  },
  {
   "cell_type": "code",
   "execution_count": 83,
   "metadata": {},
   "outputs": [
    {
     "data": {
      "text/plain": [
       "0"
      ]
     },
     "execution_count": 83,
     "metadata": {},
     "output_type": "execute_result"
    }
   ],
   "source": [
    "Wikipedia_Movie_Plots.duplicated().sum()"
   ]
  },
  {
   "cell_type": "code",
   "execution_count": 84,
   "metadata": {},
   "outputs": [
    {
     "data": {
      "text/plain": [
       "0        A bartender is working at a saloon, serving dr...\n",
       "1        The moon, painted with a smiling face hangs ov...\n",
       "2        The film, just over a minute long, is composed...\n",
       "3        Lasting just 61 seconds and consisting of two ...\n",
       "4        The earliest known adaptation of the classic f...\n",
       "                               ...                        \n",
       "34881    The film begins in 1919, just after World War ...\n",
       "34882    Two musicians, Salih and Gürkan, described the...\n",
       "34883    Zafer, a sailor living with his mother Döndü i...\n",
       "34884    The film centres around a young woman named Am...\n",
       "34885    The writer Orhan Şahin returns to İstanbul aft...\n",
       "Name: Plot, Length: 34886, dtype: object"
      ]
     },
     "execution_count": 84,
     "metadata": {},
     "output_type": "execute_result"
    }
   ],
   "source": [
    "Wikipedia_Movie_Plots['Plot']"
   ]
  },
  {
   "cell_type": "markdown",
   "metadata": {},
   "source": [
    "### Define a function for find the most/least common words, average sentence length for textual attributes.  <a href='#1'>[3][4][5]"
   ]
  },
  {
   "cell_type": "code",
   "execution_count": 85,
   "metadata": {},
   "outputs": [],
   "source": [
    "# from nltk.probabiliy import the FreqDist class which is used to encode \"frequency distributions\", counting the\n",
    "# number of times that each outcome of an experiment occurs.\n",
    "from nltk.probability import FreqDist\n",
    "# from nltk.tokenize import the word_tokenize word tokenizer.\n",
    "from nltk.tokenize import word_tokenize\n",
    "from nltk.tokenize import sent_tokenize\n",
    "def freq_words(x):\n",
    "    # join all words\n",
    "    all_words = ' '.join([text for text in x])\n",
    "    # calculate frequency distributions of tokenized all words\n",
    "    fdist = FreqDist(word_tokenize(all_words))\n",
    "    # count the number of words\n",
    "    num_words = len(word_tokenize(all_words))\n",
    "    # count the number of sentences\n",
    "    num_sents = len(sent_tokenize(all_words))\n",
    "    # calculate the average sentence length by the number of words divided by the number of sentences.\n",
    "    average_sentence_length = round(num_words/num_sents)\n",
    "    # print the most/least common words, average sentence length for textual attribute.\n",
    "    print('Most common words: ', fdist.most_common(1))\n",
    "    print('Least common words: ', fdist.most_common()[-1:])\n",
    "    print('Average sentence length for textual attribute: ', average_sentence_length)"
   ]
  },
  {
   "cell_type": "markdown",
   "metadata": {},
   "source": [
    "### Find the most/least common words, average sentence length for textual attribute 'Plot'"
   ]
  },
  {
   "cell_type": "code",
   "execution_count": 86,
   "metadata": {},
   "outputs": [
    {
     "name": "stdout",
     "output_type": "stream",
     "text": [
      "Most common words:  [(',', 777424)]\n",
      "Least common words:  [('Soysal', 1)]\n",
      "Average sentence length for textual attribute:  23\n"
     ]
    }
   ],
   "source": [
    "freq_words(Wikipedia_Movie_Plots['Plot'])"
   ]
  },
  {
   "cell_type": "markdown",
   "metadata": {},
   "source": [
    "## The proportion of each class in the dataset.  <a href='#1'>[6][11]"
   ]
  },
  {
   "cell_type": "code",
   "execution_count": 87,
   "metadata": {},
   "outputs": [
    {
     "data": {
      "text/plain": [
       "[('unknown', 17.43679412945021),\n",
       " ('drama', 17.09568308203864),\n",
       " ('comedy', 12.55231324886774),\n",
       " ('horror', 3.345181448145388),\n",
       " ('action', 3.1473943702344775),\n",
       " ('thriller', 2.7690190907527374),\n",
       " ('romance', 2.6457604769821708),\n",
       " ('western', 2.479504672361406),\n",
       " ('crime', 1.6281602935274895),\n",
       " ('adventure', 1.5077681591469356),\n",
       " ('musical', 1.3386458751361578),\n",
       " ('crime drama', 1.3300464369661182),\n",
       " ('romantic comedy', 1.3214469987960786),\n",
       " ('science fiction', 1.1981883850255117),\n",
       " ('film noir', 0.9889353895545491),\n",
       " ('mystery', 0.8886086109040877),\n",
       " ('war', 0.7825488734735998),\n",
       " ('animation', 0.756750558963481),\n",
       " ('comedy, drama', 0.6764891360431119),\n",
       " ('sci-fi', 0.6334919451929141),\n",
       " ('family', 0.6220260276328613),\n",
       " ('fantasy', 0.5847617955626899),\n",
       " ('animated', 0.5589634810525712),\n",
       " ('musical comedy', 0.4414378260620306),\n",
       " ('comedy-drama', 0.39270767643180643),\n",
       " ('biography', 0.38984119704179326),\n",
       " ('anime', 0.32104569168147684),\n",
       " ('suspense', 0.29811385656137135),\n",
       " ('romantic drama', 0.2952473771713581),\n",
       " ('comedy drama', 0.2952473771713581),\n",
       " ('animated short', 0.2608496244911999),\n",
       " ('drama, romance', 0.24651722754113398),\n",
       " ('social', 0.23505130998108123),\n",
       " ('historical', 0.2207189130310153),\n",
       " ('documentary', 0.20925299547096257),\n",
       " ('action thriller', 0.20925299547096257),\n",
       " ('serial', 0.20352003669093618),\n",
       " ('world war ii', 0.20065355730092302),\n",
       " ('family drama', 0.18918763974087024),\n",
       " ('war drama', 0.18632116035085708),\n",
       " ('drama, crime', 0.18345468096084389),\n",
       " ('comedy, musical', 0.1805882015708307),\n",
       " ('comedy/drama', 0.1777217221808175),\n",
       " ('comedy, romance', 0.17198876340079114),\n",
       " ('romance, drama', 0.16625580462076478),\n",
       " ('biopic', 0.16338932523075161),\n",
       " ('crime thriller', 0.16052284584073842),\n",
       " ('historical drama', 0.15478988706071203),\n",
       " ('black comedy', 0.14905692828068567),\n",
       " ('action comedy', 0.14619044889067248),\n",
       " ('comedy short', 0.1433239695006593),\n",
       " ('superhero', 0.13759101072063293),\n",
       " ('crime comedy', 0.13472453133061973),\n",
       " ('horror comedy', 0.13472453133061973),\n",
       " ('drama, biography', 0.13185805194060654),\n",
       " ('martial arts', 0.13185805194060654),\n",
       " ('action, drama', 0.13185805194060654),\n",
       " ('action, romance', 0.12899157255059335),\n",
       " ('drama, war', 0.12612509316058018),\n",
       " ('action, thriller', 0.12325861377056699),\n",
       " ('romance/comedy', 0.11752565499054062),\n",
       " ('social drama', 0.11465917560052744),\n",
       " ('melodrama', 0.11179269621051426),\n",
       " ('drama, adventure', 0.11179269621051426),\n",
       " ('romance/drama', 0.10892621682050106),\n",
       " ('action, comedy', 0.10605973743048787),\n",
       " ('biography, drama', 0.1031932580404747),\n",
       " ('action drama', 0.1031932580404747),\n",
       " ('drama, musical', 0.10032677865046151),\n",
       " ('drama, family', 0.10032677865046151),\n",
       " ('comedy, family', 0.10032677865046151),\n",
       " ('drama, thriller', 0.09459381987043512),\n",
       " ('comedy, crime', 0.08886086109040875),\n",
       " ('mockumentary', 0.08886086109040875),\n",
       " ('short', 0.08599438170039557),\n",
       " ('drama / romance', 0.08599438170039557),\n",
       " ('comedy / romance', 0.08599438170039557),\n",
       " ('romance, comedy', 0.08312790231038239),\n",
       " ('romance drama', 0.08026142292036921),\n",
       " (' ', 0.08026142292036921),\n",
       " ('tokusatsu', 0.08026142292036921),\n",
       " ('spy', 0.07739494353035602),\n",
       " ('action, crime, drama', 0.07739494353035602),\n",
       " ('drama ', 0.07739494353035602),\n",
       " ('animated film', 0.07166198475032964),\n",
       " ('drama, comedy', 0.06879550536031646),\n",
       " ('dramedy', 0.06879550536031646),\n",
       " ('sports', 0.06592902597030327),\n",
       " ('drama, mystery', 0.06306254658029009),\n",
       " ('psychological thriller', 0.06306254658029009),\n",
       " ('mythology', 0.06306254658029009),\n",
       " ('drama, action', 0.0601960671902769),\n",
       " ('action ', 0.0601960671902769),\n",
       " ('biographical', 0.05732958780026372),\n",
       " ('comedy, fantasy', 0.05732958780026372),\n",
       " ('sports drama', 0.05732958780026372),\n",
       " ('family, fantasy', 0.05732958780026372),\n",
       " ('action, sci-fi', 0.05732958780026372),\n",
       " ('action / drama', 0.05732958780026372),\n",
       " ('literary drama', 0.05732958780026372),\n",
       " ('drama, sports', 0.05446310841025053),\n",
       " ('comedy, horror', 0.05446310841025053),\n",
       " ('short subject', 0.05446310841025053),\n",
       " ('spy/action', 0.05446310841025053),\n",
       " ('comedy ', 0.05446310841025053),\n",
       " ('political thriller', 0.05159662902023735),\n",
       " ('romantic thriller', 0.05159662902023735),\n",
       " ('romance / drama', 0.05159662902023735),\n",
       " ('thriller ', 0.05159662902023735),\n",
       " ('comedy, mystery', 0.04873014963022416),\n",
       " ('romance ', 0.04873014963022416),\n",
       " ('folklore', 0.04873014963022416),\n",
       " ('crime, drama', 0.04586367024021097),\n",
       " ('costume drama', 0.04586367024021097),\n",
       " ('docudrama', 0.04586367024021097),\n",
       " ('family, drama', 0.04586367024021097),\n",
       " ('horror, thriller', 0.04586367024021097),\n",
       " ('action, crime', 0.04586367024021097),\n",
       " ('horror thriller', 0.04586367024021097),\n",
       " ('comedy/crime', 0.04586367024021097),\n",
       " ('crime/drama', 0.04586367024021097),\n",
       " ('action/drama', 0.04586367024021097),\n",
       " ('masala', 0.04586367024021097),\n",
       " ('western comedy', 0.042997190850197785),\n",
       " ('science-fiction', 0.042997190850197785),\n",
       " ('comedy / drama', 0.042997190850197785),\n",
       " ('drama, horror', 0.040130711460184605),\n",
       " ('action adventure', 0.040130711460184605),\n",
       " ('war, drama', 0.040130711460184605),\n",
       " ('rom com', 0.040130711460184605),\n",
       " ('animated feature', 0.040130711460184605),\n",
       " ('comedy, action', 0.040130711460184605),\n",
       " ('animated, family', 0.040130711460184605),\n",
       " ('family film', 0.040130711460184605),\n",
       " ('action / comedy', 0.040130711460184605),\n",
       " ('action/thriller', 0.040130711460184605),\n",
       " ('social family drama', 0.040130711460184605),\n",
       " ('propaganda', 0.03726423207017142),\n",
       " ('horror, comedy', 0.03726423207017142),\n",
       " ('musical drama', 0.03726423207017142),\n",
       " ('action, science fiction', 0.03726423207017142),\n",
       " ('action/comedy', 0.03726423207017142),\n",
       " ('sex comedy', 0.03726423207017142),\n",
       " ('action / crime', 0.03726423207017142),\n",
       " ('kaiju', 0.03726423207017142),\n",
       " ('western, comedy', 0.03439775268015823),\n",
       " ('slapstick', 0.03439775268015823),\n",
       " ('sci-fi comedy', 0.03439775268015823),\n",
       " ('comedy horror', 0.03439775268015823),\n",
       " ('slasher', 0.03439775268015823),\n",
       " ('crime, comedy', 0.03439775268015823),\n",
       " ('comedy, thriller', 0.03439775268015823),\n",
       " ('comedy/romance', 0.03439775268015823),\n",
       " ('crime/thriller', 0.03439775268015823),\n",
       " ('drama/comedy', 0.03439775268015823),\n",
       " ('action/romance', 0.03439775268015823),\n",
       " ('devotional', 0.03439775268015823),\n",
       " ('period drama', 0.031531273290145045),\n",
       " ('mystery, thriller', 0.031531273290145045),\n",
       " ('screwball comedy', 0.031531273290145045),\n",
       " ('disaster film', 0.031531273290145045),\n",
       " ('comedy, sports', 0.031531273290145045),\n",
       " ('action, horror', 0.031531273290145045),\n",
       " ('romantic-comedy', 0.031531273290145045),\n",
       " ('action, crime, drama, romance', 0.031531273290145045),\n",
       " ('action masala', 0.031531273290145045),\n",
       " ('epic', 0.02866479390013186),\n",
       " ('swashbuckler', 0.02866479390013186),\n",
       " ('war comedy', 0.02866479390013186),\n",
       " ('disaster', 0.02866479390013186),\n",
       " ('comedy, science fiction', 0.02866479390013186),\n",
       " ('comedy/action', 0.02866479390013186),\n",
       " ('musical, comedy', 0.025798314510118676),\n",
       " ('adventure, fantasy', 0.025798314510118676),\n",
       " ('comedy thriller', 0.025798314510118676),\n",
       " ('political drama', 0.025798314510118676),\n",
       " ('adventure, family', 0.025798314510118676),\n",
       " ('action-adventure, fantasy', 0.025798314510118676),\n",
       " ('comedy, drama, romance', 0.025798314510118676),\n",
       " ('musical/comedy', 0.025798314510118676),\n",
       " ('romance/thriller', 0.025798314510118676),\n",
       " ('national film board animated short', 0.025798314510118676),\n",
       " ('wuxia', 0.025798314510118676),\n",
       " ('action / romance', 0.025798314510118676),\n",
       " ('horror, romance, comedy', 0.025798314510118676),\n",
       " ('thriller drama', 0.025798314510118676),\n",
       " ('comedy, western', 0.022931835120105486),\n",
       " ('drama, western', 0.022931835120105486),\n",
       " ('mystery, comedy', 0.022931835120105486),\n",
       " ('exploitation', 0.022931835120105486),\n",
       " ('spy thriller', 0.022931835120105486),\n",
       " ('biography, crime', 0.022931835120105486),\n",
       " ('sexploitation', 0.022931835120105486),\n",
       " ('comedy, parody', 0.022931835120105486),\n",
       " ('animation, family', 0.022931835120105486),\n",
       " ('action, fantasy', 0.022931835120105486),\n",
       " ('parody', 0.022931835120105486),\n",
       " ('comedy, teen', 0.022931835120105486),\n",
       " ('satire', 0.022931835120105486),\n",
       " ('action-comedy', 0.022931835120105486),\n",
       " ('dark comedy', 0.022931835120105486),\n",
       " ('supernatural horror', 0.022931835120105486),\n",
       " ('drama, romance ', 0.022931835120105486),\n",
       " ('thriller, drama', 0.022931835120105486),\n",
       " ('romance / comedy', 0.022931835120105486),\n",
       " ('drama / action', 0.022931835120105486),\n",
       " ('comedy / action', 0.022931835120105486),\n",
       " ('drama, social', 0.022931835120105486),\n",
       " ('suspense thriller', 0.022931835120105486),\n",
       " ('short film', 0.020065355730092303),\n",
       " ('fantasy drama', 0.020065355730092303),\n",
       " ('detective', 0.020065355730092303),\n",
       " ('spy drama', 0.020065355730092303),\n",
       " ('romantic', 0.020065355730092303),\n",
       " ('adventure, drama', 0.020065355730092303),\n",
       " ('bio-pic', 0.020065355730092303),\n",
       " ('western, biography', 0.020065355730092303),\n",
       " ('musical, drama', 0.020065355730092303),\n",
       " ('spy film', 0.020065355730092303),\n",
       " ('adult', 0.020065355730092303),\n",
       " ('anthology', 0.020065355730092303),\n",
       " ('crime, action', 0.020065355730092303),\n",
       " ('action, adventure', 0.020065355730092303),\n",
       " ('action, family', 0.020065355730092303),\n",
       " (\"children's film\", 0.020065355730092303),\n",
       " ('historical/drama', 0.020065355730092303),\n",
       " ('comedy/musical', 0.020065355730092303),\n",
       " ('drama/thriller', 0.020065355730092303),\n",
       " ('comedy/horror', 0.020065355730092303),\n",
       " ('drama/musical', 0.020065355730092303),\n",
       " ('romantic, drama', 0.020065355730092303),\n",
       " ('children', 0.020065355730092303),\n",
       " ('romance/action', 0.020065355730092303),\n",
       " ('action, comedy, romance', 0.020065355730092303),\n",
       " ('religious', 0.020065355730092303),\n",
       " ('romance, thriller', 0.020065355730092303),\n",
       " ('action, drama, family', 0.020065355730092303),\n",
       " ('action-masala', 0.020065355730092303),\n",
       " ('ero', 0.020065355730092303),\n",
       " ('fantasy, romance', 0.017198876340079116),\n",
       " ('comedy romance', 0.017198876340079116),\n",
       " ('sci-fi, horror', 0.017198876340079116),\n",
       " ('fantasy thriller', 0.017198876340079116),\n",
       " ('historical epic', 0.017198876340079116),\n",
       " ('musical, biography', 0.017198876340079116),\n",
       " ('comedy, biography', 0.017198876340079116),\n",
       " ('spy comedy', 0.017198876340079116),\n",
       " ('sports comedy', 0.017198876340079116),\n",
       " ('science fiction, thriller', 0.017198876340079116),\n",
       " ('crime, thriller', 0.017198876340079116),\n",
       " ('musical, romance', 0.017198876340079116),\n",
       " ('animation, comedy', 0.017198876340079116),\n",
       " ('bio-pic, drama', 0.017198876340079116),\n",
       " ('horror, suspense', 0.017198876340079116),\n",
       " ('romance, comedy, drama', 0.017198876340079116),\n",
       " ('world war i', 0.017198876340079116),\n",
       " ('african adventure', 0.017198876340079116),\n",
       " ('spy/thriller', 0.017198876340079116),\n",
       " ('horror/comedy', 0.017198876340079116),\n",
       " ('drama / comedy', 0.017198876340079116),\n",
       " ('kung fu', 0.017198876340079116),\n",
       " ('martial arts / action', 0.017198876340079116),\n",
       " ('action thriller ', 0.017198876340079116),\n",
       " ('love', 0.017198876340079116),\n",
       " ('fantasy anime', 0.017198876340079116),\n",
       " ('comedy western', 0.01433239695006593),\n",
       " ('biblical drama', 0.01433239695006593),\n",
       " ('operetta', 0.01433239695006593),\n",
       " ('comedy mystery', 0.01433239695006593),\n",
       " ('romance musical', 0.01433239695006593),\n",
       " ('prison drama', 0.01433239695006593),\n",
       " ('horror, science fiction', 0.01433239695006593),\n",
       " ('horror, sci-fi', 0.01433239695006593),\n",
       " ('crime, horror', 0.01433239695006593),\n",
       " ('science fiction comedy', 0.01433239695006593),\n",
       " ('biography, musical', 0.01433239695006593),\n",
       " ('biker film', 0.01433239695006593),\n",
       " ('psychological horror', 0.01433239695006593),\n",
       " ('science fiction, comedy', 0.01433239695006593),\n",
       " ('shakespearean', 0.01433239695006593),\n",
       " ('war film', 0.01433239695006593),\n",
       " ('family, musical', 0.01433239695006593),\n",
       " ('fantasy romance', 0.01433239695006593),\n",
       " ('action-adventure', 0.01433239695006593),\n",
       " ('drama, romantic comedy', 0.01433239695006593),\n",
       " ('supernatural thriller', 0.01433239695006593),\n",
       " ('animated, comedy, family', 0.01433239695006593),\n",
       " ('action-thriller', 0.01433239695006593),\n",
       " ('horror / thriller', 0.01433239695006593),\n",
       " ('war/drama', 0.01433239695006593),\n",
       " ('drama/romance', 0.01433239695006593),\n",
       " ('sports/comedy', 0.01433239695006593),\n",
       " ('coming-of-age drama', 0.01433239695006593),\n",
       " ('drama film', 0.01433239695006593),\n",
       " ('comedy film', 0.01433239695006593),\n",
       " ('drama/action', 0.01433239695006593),\n",
       " ('crime / thriller', 0.01433239695006593),\n",
       " ('action / martial arts', 0.01433239695006593),\n",
       " ('drama / action / crime', 0.01433239695006593),\n",
       " ('history', 0.01433239695006593),\n",
       " ('comedy, drama, family', 0.01433239695006593),\n",
       " ('action, comedy, drama', 0.01433239695006593),\n",
       " ('action, comedy, crime, drama', 0.01433239695006593),\n",
       " ('romance, action', 0.01433239695006593),\n",
       " ('thriller, romance', 0.01433239695006593),\n",
       " ('horror ', 0.01433239695006593),\n",
       " ('political', 0.01433239695006593),\n",
       " ('thriller/drama', 0.01433239695006593),\n",
       " ('horror / comedy', 0.01433239695006593),\n",
       " ('tokusatsu, action, sci-fi', 0.01433239695006593),\n",
       " ('biographical drama', 0.011465917560052743),\n",
       " ('adventure serial', 0.011465917560052743),\n",
       " ('short comedy', 0.011465917560052743),\n",
       " ('comedy, adventure', 0.011465917560052743),\n",
       " ('fantasy, adventure', 0.011465917560052743),\n",
       " ('dramatic comedy', 0.011465917560052743),\n",
       " ('science fiction, horror', 0.011465917560052743),\n",
       " ('mystery, horror', 0.011465917560052743),\n",
       " ('drama, science fiction', 0.011465917560052743),\n",
       " ('drama, fantasy', 0.011465917560052743),\n",
       " ('gangster', 0.011465917560052743),\n",
       " ('biblical', 0.011465917560052743),\n",
       " ('war, biography', 0.011465917560052743),\n",
       " ('experimental', 0.011465917560052743),\n",
       " ('espionage', 0.011465917560052743),\n",
       " ('biography, war', 0.011465917560052743),\n",
       " ('comedy, satire', 0.011465917560052743),\n",
       " ('neo-noir', 0.011465917560052743),\n",
       " ('sci-fi, comedy', 0.011465917560052743),\n",
       " ('sci-fi horror', 0.011465917560052743),\n",
       " ('fantasy, thriller', 0.011465917560052743),\n",
       " ('erotic thriller', 0.011465917560052743),\n",
       " ('rom-com', 0.011465917560052743),\n",
       " ('teen comedy', 0.011465917560052743),\n",
       " ('comedy-drama, romance', 0.011465917560052743),\n",
       " ('dance', 0.011465917560052743),\n",
       " ('action, crime drama', 0.011465917560052743),\n",
       " ('adventure, comedy', 0.011465917560052743),\n",
       " ('family, live-action', 0.011465917560052743),\n",
       " ('biographical, drama', 0.011465917560052743),\n",
       " ('christian', 0.011465917560052743),\n",
       " ('crime, drama, thriller', 0.011465917560052743),\n",
       " ('thriller, action', 0.011465917560052743),\n",
       " ('comedy / horror', 0.011465917560052743),\n",
       " ('action / adventure', 0.011465917560052743),\n",
       " ('action romance', 0.011465917560052743),\n",
       " ('romance action', 0.011465917560052743),\n",
       " ('comedy/thriller', 0.011465917560052743),\n",
       " ('world war ii/drama', 0.011465917560052743),\n",
       " ('short drama', 0.011465917560052743),\n",
       " ('world war ii/pow', 0.011465917560052743),\n",
       " ('world war ii comedy', 0.011465917560052743),\n",
       " ('drama/biographical', 0.011465917560052743),\n",
       " ('slasher film', 0.011465917560052743),\n",
       " ('national film board documentary', 0.011465917560052743),\n",
       " ('action/adventure', 0.011465917560052743),\n",
       " ('suspense / thriller', 0.011465917560052743),\n",
       " ('action / thriller', 0.011465917560052743),\n",
       " ('drama / crime', 0.011465917560052743),\n",
       " ('comedy / fantasy', 0.011465917560052743),\n",
       " ('sword', 0.011465917560052743),\n",
       " ('action / kung fu / comedy', 0.011465917560052743),\n",
       " ('action / martial arts / comedy', 0.011465917560052743),\n",
       " ('romance, comedy, horror', 0.011465917560052743),\n",
       " ('horror, drama', 0.011465917560052743),\n",
       " ('romance / action', 0.011465917560052743),\n",
       " ('costume', 0.011465917560052743),\n",
       " ('suspense, thriller', 0.011465917560052743),\n",
       " ('adult comedy', 0.011465917560052743),\n",
       " ('satirical comedy', 0.011465917560052743),\n",
       " ('satire, drama', 0.011465917560052743),\n",
       " ('romantic comedy ', 0.011465917560052743),\n",
       " ('comedy-thriller', 0.011465917560052743),\n",
       " ('supernatural', 0.011465917560052743),\n",
       " ('socio-fantasy', 0.011465917560052743),\n",
       " ('samurai film', 0.011465917560052743),\n",
       " ('pink', 0.011465917560052743),\n",
       " ('yakuza', 0.011465917560052743),\n",
       " ('science fiction anime', 0.011465917560052743),\n",
       " ('drama, romance, slice of life', 0.011465917560052743),\n",
       " ('western drama', 0.008599438170039558),\n",
       " ('drama romance', 0.008599438170039558),\n",
       " ('comedy, drama, musical', 0.008599438170039558),\n",
       " ('western, musical', 0.008599438170039558),\n",
       " ('drama, music', 0.008599438170039558),\n",
       " ('adventure drama', 0.008599438170039558),\n",
       " ('musical fantasy', 0.008599438170039558),\n",
       " ('animated comedy', 0.008599438170039558),\n",
       " ('romantic fantasy', 0.008599438170039558),\n",
       " ('horror, musical', 0.008599438170039558),\n",
       " ('romantic musical', 0.008599438170039558),\n",
       " ('fantasy, comedy', 0.008599438170039558),\n",
       " ('educational', 0.008599438170039558),\n",
       " ('drama, epic', 0.008599438170039558),\n",
       " ('family comedy', 0.008599438170039558),\n",
       " ('family, comedy', 0.008599438170039558),\n",
       " ('spy film, comedy', 0.008599438170039558),\n",
       " ('true crime', 0.008599438170039558),\n",
       " ('biography, sports', 0.008599438170039558),\n",
       " ('war, comedy', 0.008599438170039558),\n",
       " ('war, action', 0.008599438170039558),\n",
       " ('adult film', 0.008599438170039558),\n",
       " ('sci-fi drama', 0.008599438170039558),\n",
       " ('action, war', 0.008599438170039558),\n",
       " ('science fiction, drama', 0.008599438170039558),\n",
       " ('animated, comedy', 0.008599438170039558),\n",
       " ('romance, war', 0.008599438170039558),\n",
       " ('science fiction, action', 0.008599438170039558),\n",
       " ('fantasy adventure', 0.008599438170039558),\n",
       " ('dance, drama', 0.008599438170039558),\n",
       " ('horror, mystery', 0.008599438170039558),\n",
       " ('action, spy film', 0.008599438170039558),\n",
       " ('biopic, drama', 0.008599438170039558),\n",
       " ('anthology, horror', 0.008599438170039558),\n",
       " ('animation adventure', 0.008599438170039558),\n",
       " ('animation comedy', 0.008599438170039558),\n",
       " ('superhero action adventure', 0.008599438170039558),\n",
       " ('thriller, fantasy', 0.008599438170039558),\n",
       " ('crime, drama, mystery', 0.008599438170039558),\n",
       " ('drama / thriller', 0.008599438170039558),\n",
       " ('music', 0.008599438170039558),\n",
       " ('crime / drama', 0.008599438170039558),\n",
       " ('action / crime / drama', 0.008599438170039558),\n",
       " ('drama / comedy / romance', 0.008599438170039558),\n",
       " ('mystery/thriller', 0.008599438170039558),\n",
       " ('musical/drama', 0.008599438170039558),\n",
       " ('fantasy/adventure', 0.008599438170039558),\n",
       " ('musical/romance', 0.008599438170039558),\n",
       " ('comedy/satire', 0.008599438170039558),\n",
       " ('crime/romance', 0.008599438170039558),\n",
       " ('nfb animated short', 0.008599438170039558),\n",
       " ('romantic comedy, drama', 0.008599438170039558),\n",
       " ('sci-fi fantasy', 0.008599438170039558),\n",
       " ('horror drama', 0.008599438170039558),\n",
       " ('historical/action', 0.008599438170039558),\n",
       " ('drama/history', 0.008599438170039558),\n",
       " ('action / crime / thriller', 0.008599438170039558),\n",
       " ('action / fantasy', 0.008599438170039558),\n",
       " ('mystery / thriller', 0.008599438170039558),\n",
       " ('drama / family', 0.008599438170039558),\n",
       " ('drama / mystery / crime', 0.008599438170039558),\n",
       " ('action / adventure / martial arts', 0.008599438170039558),\n",
       " ('erotic / drama', 0.008599438170039558),\n",
       " ('-', 0.008599438170039558),\n",
       " ('action/romance/comedy', 0.008599438170039558),\n",
       " ('costume action', 0.008599438170039558),\n",
       " ('social family', 0.008599438170039558),\n",
       " ('thriller romance', 0.008599438170039558),\n",
       " ('social romance', 0.008599438170039558),\n",
       " ('thriller, mystery', 0.008599438170039558),\n",
       " ('action, crime, romance', 0.008599438170039558),\n",
       " ('comedy, romance, musical', 0.008599438170039558),\n",
       " ('action, crime, drama, thriller', 0.008599438170039558),\n",
       " ('action, drama, romance', 0.008599438170039558),\n",
       " ('romance, action, comedy', 0.008599438170039558),\n",
       " ('action, romance, drama', 0.008599438170039558),\n",
       " ('drama, romance, thriller', 0.008599438170039558),\n",
       " ('historical, drama', 0.008599438170039558),\n",
       " ('drama, social ', 0.008599438170039558),\n",
       " ('drama, thriller ', 0.008599438170039558),\n",
       " ('comedy, romance ', 0.008599438170039558),\n",
       " ('comedy, drama, romance ', 0.008599438170039558),\n",
       " ('political satire', 0.008599438170039558),\n",
       " ('heist', 0.008599438170039558),\n",
       " ('action, masala', 0.008599438170039558),\n",
       " ('drama-thriller', 0.008599438170039558),\n",
       " ('action & romance', 0.008599438170039558),\n",
       " ('roman porno', 0.008599438170039558),\n",
       " ('sci-fi for children', 0.008599438170039558),\n",
       " ('anime for children', 0.008599438170039558),\n",
       " ('supernatural/action/anime', 0.008599438170039558),\n",
       " ('science fiction, mystery', 0.008599438170039558),\n",
       " ('anime fantasy', 0.008599438170039558),\n",
       " ('horror, psychological thriller, drama, dark fantasy', 0.008599438170039558),\n",
       " ('historical, fantasy, adventure, action, science fantasy, superheroes',\n",
       "  0.008599438170039558),\n",
       " ('adventure, thriller', 0.005732958780026371),\n",
       " ('historical comedy', 0.005732958780026371),\n",
       " ('adventure, action', 0.005732958780026371),\n",
       " ('musical biography', 0.005732958780026371),\n",
       " ('western, war', 0.005732958780026371),\n",
       " ('murder mystery', 0.005732958780026371),\n",
       " ('drama, exploitation', 0.005732958780026371),\n",
       " ('animated, musical', 0.005732958780026371),\n",
       " ('musical romance', 0.005732958780026371),\n",
       " ('western serial', 0.005732958780026371),\n",
       " ('charlie chan', 0.005732958780026371),\n",
       " ('spy serial', 0.005732958780026371),\n",
       " ('propaganda short', 0.005732958780026371),\n",
       " ('action western', 0.005732958780026371),\n",
       " ('animated, war', 0.005732958780026371),\n",
       " ('comedy, short', 0.005732958780026371),\n",
       " ('animated, short', 0.005732958780026371),\n",
       " ('western, serial', 0.005732958780026371),\n",
       " ('p.o.w.', 0.005732958780026371),\n",
       " ('war romance', 0.005732958780026371),\n",
       " ('animated musical', 0.005732958780026371),\n",
       " ('epic, biography', 0.005732958780026371),\n",
       " ('musical, fantasy', 0.005732958780026371),\n",
       " ('musical, family', 0.005732958780026371),\n",
       " ('western, horror', 0.005732958780026371),\n",
       " ('biker', 0.005732958780026371),\n",
       " ('horror, action', 0.005732958780026371),\n",
       " ('animated, adult', 0.005732958780026371),\n",
       " ('sci-fi, drama', 0.005732958780026371),\n",
       " ('blaxploitation', 0.005732958780026371),\n",
       " ('sci-fi, action', 0.005732958780026371),\n",
       " ('action, biography', 0.005732958780026371),\n",
       " ('mystery, drama', 0.005732958780026371),\n",
       " ('teen', 0.005732958780026371),\n",
       " ('thriller, crime', 0.005732958780026371),\n",
       " ('horror, slasher', 0.005732958780026371),\n",
       " ('superhero, action', 0.005732958780026371),\n",
       " ('crime drama, action', 0.005732958780026371),\n",
       " ('avant-garde', 0.005732958780026371),\n",
       " ('action comedy, family', 0.005732958780026371),\n",
       " ('road thriller', 0.005732958780026371),\n",
       " ('comedy action', 0.005732958780026371),\n",
       " ('biography, comedy', 0.005732958780026371),\n",
       " ('family adventure', 0.005732958780026371),\n",
       " ('historical biopic', 0.005732958780026371),\n",
       " ('action, superhero', 0.005732958780026371),\n",
       " ('family, animated', 0.005732958780026371),\n",
       " ('thriller, comedy', 0.005732958780026371),\n",
       " ('science fiction thriller', 0.005732958780026371),\n",
       " ('drama, biopic', 0.005732958780026371),\n",
       " ('crime, family', 0.005732958780026371),\n",
       " ('action, 007', 0.005732958780026371),\n",
       " ('horror, western', 0.005732958780026371),\n",
       " ('fantasy, science fiction', 0.005732958780026371),\n",
       " ('family, live-action/animated film', 0.005732958780026371),\n",
       " ('buddy cop, comedy', 0.005732958780026371),\n",
       " ('comedy, road', 0.005732958780026371),\n",
       " ('action comedy, superhero', 0.005732958780026371),\n",
       " ('comedy, superhero', 0.005732958780026371),\n",
       " ('action thriller, science fiction', 0.005732958780026371),\n",
       " ('action, romantic comedy', 0.005732958780026371),\n",
       " ('sci-fi, thriller', 0.005732958780026371),\n",
       " ('dance, drama, romance', 0.005732958780026371),\n",
       " ('dramedy, thriller', 0.005732958780026371),\n",
       " ('nature documentary', 0.005732958780026371),\n",
       " ('romantic comedy, teen', 0.005732958780026371),\n",
       " ('christian drama', 0.005732958780026371),\n",
       " ('action-adventure, family', 0.005732958780026371),\n",
       " ('legal drama', 0.005732958780026371),\n",
       " ('adventure, animated', 0.005732958780026371),\n",
       " ('drama, coming of age', 0.005732958780026371),\n",
       " ('horror comedy, parody', 0.005732958780026371),\n",
       " ('animated, superhero', 0.005732958780026371),\n",
       " ('thriller, western', 0.005732958780026371),\n",
       " ('romance thriller', 0.005732958780026371),\n",
       " ('comedy-horror', 0.005732958780026371),\n",
       " ('supernatural comedy', 0.005732958780026371),\n",
       " ('action, adventure, fantasy, sci-fi', 0.005732958780026371),\n",
       " ('thriller, horror', 0.005732958780026371),\n",
       " ('horror, mystery, thriller', 0.005732958780026371),\n",
       " ('biography, war, drama', 0.005732958780026371),\n",
       " ('biography, crime, drama', 0.005732958780026371),\n",
       " ('drama / history', 0.005732958780026371),\n",
       " ('imdb', 0.005732958780026371),\n",
       " ('adventure / comedy', 0.005732958780026371),\n",
       " ('horror / drama', 0.005732958780026371),\n",
       " ('action / adventure / comedy', 0.005732958780026371),\n",
       " ('comedy / thriller', 0.005732958780026371),\n",
       " (\"children's\", 0.005732958780026371),\n",
       " ('family, adventure', 0.005732958780026371),\n",
       " ('erotic drama', 0.005732958780026371),\n",
       " ('romance/musical', 0.005732958780026371),\n",
       " ('mystery/horror', 0.005732958780026371),\n",
       " ('war/romance', 0.005732958780026371),\n",
       " ('shakespearean drama', 0.005732958780026371),\n",
       " ('australian western', 0.005732958780026371),\n",
       " ('african drama', 0.005732958780026371),\n",
       " ('comedy/western', 0.005732958780026371),\n",
       " ('spy/comedy', 0.005732958780026371),\n",
       " ('futuristic drama', 0.005732958780026371),\n",
       " ('sci-fi/comedy', 0.005732958780026371),\n",
       " ('portmanteau horror', 0.005732958780026371),\n",
       " ('thriller/horror', 0.005732958780026371),\n",
       " ('world war ii/adventure', 0.005732958780026371),\n",
       " ('period', 0.005732958780026371),\n",
       " ('animated/adventure', 0.005732958780026371),\n",
       " ('socio-political', 0.005732958780026371),\n",
       " ('slapstick comedy', 0.005732958780026371),\n",
       " ('action/crime', 0.005732958780026371),\n",
       " ('gangster drama', 0.005732958780026371),\n",
       " ('thriller comedy', 0.005732958780026371),\n",
       " ('animated short co-produced with the national film board',\n",
       "  0.005732958780026371),\n",
       " ('police drama', 0.005732958780026371),\n",
       " ('zombie comedy', 0.005732958780026371),\n",
       " ('comedy, family film', 0.005732958780026371),\n",
       " ('boxing drama', 0.005732958780026371),\n",
       " ('science fiction film', 0.005732958780026371),\n",
       " ('zombie horror', 0.005732958780026371),\n",
       " ('biodrama', 0.005732958780026371),\n",
       " ('anthology film', 0.005732958780026371),\n",
       " ('tragedy', 0.005732958780026371),\n",
       " ('biographical/historical', 0.005732958780026371),\n",
       " ('war/historical', 0.005732958780026371),\n",
       " ('romance / fantasy', 0.005732958780026371),\n",
       " ('fantasy / romance / action', 0.005732958780026371),\n",
       " ('action / drama / crime', 0.005732958780026371),\n",
       " ('action / comedy / crime', 0.005732958780026371),\n",
       " ('action / comedy / drama', 0.005732958780026371),\n",
       " ('sci-fi / action', 0.005732958780026371),\n",
       " ('comedy / action / fantasy', 0.005732958780026371),\n",
       " ('animation / fantasy / adventure', 0.005732958780026371),\n",
       " ('romance / suspense', 0.005732958780026371),\n",
       " ('thriller / horror', 0.005732958780026371),\n",
       " ('comedy / romance / fantasy', 0.005732958780026371),\n",
       " ('drama / sports', 0.005732958780026371),\n",
       " ('drama / action / martial arts / costume', 0.005732958780026371),\n",
       " ('drama / action / fantasy / adventure', 0.005732958780026371),\n",
       " ('comedy / fantasy / adventure / costume', 0.005732958780026371),\n",
       " ('comedy / mystery', 0.005732958780026371),\n",
       " ('drama / mystery', 0.005732958780026371),\n",
       " ('fantasy / adventure', 0.005732958780026371),\n",
       " ('action / martial arts / costume', 0.005732958780026371),\n",
       " ('action / crime / adventure', 0.005732958780026371),\n",
       " ('comedy / action / adventure', 0.005732958780026371),\n",
       " ('comedy / crime', 0.005732958780026371),\n",
       " ('action / kung fu', 0.005732958780026371),\n",
       " ('martial arts / action / comedy', 0.005732958780026371),\n",
       " ('fantasy, drama', 0.005732958780026371),\n",
       " ('gangster film', 0.005732958780026371),\n",
       " ('gun fu', 0.005732958780026371),\n",
       " ('action / crime / comedy', 0.005732958780026371),\n",
       " ('comedy, romance, drama', 0.005732958780026371),\n",
       " ('horror / romance / comedy', 0.005732958780026371),\n",
       " ('horror, comedy, romance', 0.005732958780026371),\n",
       " ('horror, fantasy, adventure', 0.005732958780026371),\n",
       " ('horror, romance', 0.005732958780026371),\n",
       " ('family romance', 0.005732958780026371),\n",
       " ('biopic drama', 0.005732958780026371),\n",
       " ('costume action adventure', 0.005732958780026371),\n",
       " ('biopic devotional', 0.005732958780026371),\n",
       " ('drama, musical, romance', 0.005732958780026371),\n",
       " ('romance comedy', 0.005732958780026371),\n",
       " ('crime thriller romance', 0.005732958780026371),\n",
       " ('crime romance', 0.005732958780026371),\n",
       " ('romance comedy drama', 0.005732958780026371),\n",
       " ('social crime', 0.005732958780026371),\n",
       " ('children drama', 0.005732958780026371),\n",
       " ('family social', 0.005732958780026371),\n",
       " ('drama action', 0.005732958780026371),\n",
       " ('romantic family drama', 0.005732958780026371),\n",
       " ('drama, mystery, thriller', 0.005732958780026371),\n",
       " ('drama, family, romance', 0.005732958780026371),\n",
       " ('family, drama, romance', 0.005732958780026371),\n",
       " ('comedy, drama, romance, family', 0.005732958780026371),\n",
       " ('action, crime, drama, family', 0.005732958780026371),\n",
       " ('crime/action', 0.005732958780026371),\n",
       " ('romance, drama, musical', 0.005732958780026371),\n",
       " ('drama, romance, musical ', 0.005732958780026371),\n",
       " ('romance, drama, comedy', 0.005732958780026371),\n",
       " ('drama, romance, thriller, musical', 0.005732958780026371),\n",
       " ('crime, thriller ', 0.005732958780026371),\n",
       " ('action, romance ', 0.005732958780026371),\n",
       " ('comedy, drama ', 0.005732958780026371),\n",
       " ('social/drama', 0.005732958780026371),\n",
       " ('adult/comedy', 0.005732958780026371),\n",
       " ('romantic/comedy', 0.005732958780026371),\n",
       " ('adult/horror', 0.005732958780026371),\n",
       " ('suspense/thriller', 0.005732958780026371),\n",
       " ('adult/thriller', 0.005732958780026371),\n",
       " ('historical fiction', 0.005732958780026371),\n",
       " ('social satire', 0.005732958780026371),\n",
       " ('yash raj films', 0.005732958780026371),\n",
       " ('romance / thriller', 0.005732958780026371),\n",
       " ('romantic action', 0.005732958780026371),\n",
       " ('action, thriller, romance, drama, comedy', 0.005732958780026371),\n",
       " ('family, thriller', 0.005732958780026371),\n",
       " ('romance, comedy, thriller', 0.005732958780026371),\n",
       " ('medical thriller', 0.005732958780026371),\n",
       " ('politics', 0.005732958780026371),\n",
       " ('social thriller', 0.005732958780026371),\n",
       " ('remake', 0.005732958780026371),\n",
       " ('super hit movie', 0.005732958780026371),\n",
       " ('mythological', 0.005732958780026371),\n",
       " ('fiction', 0.005732958780026371),\n",
       " ('drama, romance, action', 0.005732958780026371),\n",
       " ('socio-fantasy, comedy', 0.005732958780026371),\n",
       " ('historical film', 0.005732958780026371),\n",
       " ('action & love', 0.005732958780026371),\n",
       " ('action - romance', 0.005732958780026371),\n",
       " ('jidaigeki', 0.005732958780026371),\n",
       " ('samurai', 0.005732958780026371),\n",
       " ('drama[not in citation given]', 0.005732958780026371),\n",
       " ('chambara', 0.005732958780026371),\n",
       " ('kaiju eiga', 0.005732958780026371),\n",
       " ('avant-garde, drama', 0.005732958780026371),\n",
       " ('action for children', 0.005732958780026371),\n",
       " ('avant-garde, horror', 0.005732958780026371),\n",
       " ('fantasy, anime', 0.005732958780026371),\n",
       " ('j-horror', 0.005732958780026371),\n",
       " ('action, samurai film', 0.005732958780026371),\n",
       " ('detective fiction, drama', 0.005732958780026371),\n",
       " ('comedy-drama, slice of life, sci-fi', 0.005732958780026371),\n",
       " ('drama, action, sci-fi, comedy', 0.005732958780026371),\n",
       " ('political, drama, crime, mystery, thriller', 0.005732958780026371),\n",
       " ('drama, action, spy, sci-fi, superheroes, tokusatsu', 0.005732958780026371),\n",
       " ('horror, thriller, supernatural', 0.005732958780026371),\n",
       " ('horror, dark fantasy, drama, supernatural horror, action, monster',\n",
       "  0.005732958780026371),\n",
       " ('drama, comedy, action', 0.005732958780026371),\n",
       " (\"drama, children's, romance, slice of life, sci-fi, youth\",\n",
       "  0.005732958780026371),\n",
       " ('drama, comedy-drama, slice of life', 0.005732958780026371),\n",
       " ('historical, action, military, spy, superheroes', 0.005732958780026371),\n",
       " (\"fantasy, drama, children's, action, comedy\", 0.005732958780026371),\n",
       " ('fantasy, action, science fantasy', 0.005732958780026371),\n",
       " ('sports (shogi, chess), comedy-drama', 0.005732958780026371),\n",
       " ('comedy-drama, romantic comedy, youth, science fantasy',\n",
       "  0.005732958780026371),\n",
       " ('historical, fantasy, drama, jidaigeki, action', 0.005732958780026371),\n",
       " ('drama, mecha, sci-fi, adventure, spy', 0.005732958780026371),\n",
       " ('horror / mystery', 0.005732958780026371),\n",
       " ('fairy tale', 0.005732958780026371),\n",
       " ('comedy, drama film', 0.005732958780026371),\n",
       " ('short action/crime western', 0.0028664793900131857),\n",
       " ('short fantasy', 0.0028664793900131857),\n",
       " ('silent sports', 0.0028664793900131857),\n",
       " ('documentary drama', 0.0028664793900131857),\n",
       " ('comedy–drama', 0.0028664793900131857),\n",
       " ('sexual hygiene/exploitation film', 0.0028664793900131857),\n",
       " ('ww1 propaganda', 0.0028664793900131857),\n",
       " ('animated series', 0.0028664793900131857),\n",
       " ('fantasy, family', 0.0028664793900131857),\n",
       " ('romantic comedy/drama', 0.0028664793900131857),\n",
       " ('american football', 0.0028664793900131857),\n",
       " ('comedy, horror, mystery', 0.0028664793900131857),\n",
       " ('semi-staged documentary', 0.0028664793900131857),\n",
       " ('race film', 0.0028664793900131857),\n",
       " ('comedy adventure', 0.0028664793900131857),\n",
       " ('romantic crime/mystery', 0.0028664793900131857),\n",
       " ('adventure film', 0.0028664793900131857),\n",
       " ('adventure horror', 0.0028664793900131857),\n",
       " ('comedy, drama, crime', 0.0028664793900131857),\n",
       " ('adventure, romance', 0.0028664793900131857),\n",
       " ('drama, sport', 0.0028664793900131857),\n",
       " ('musical western', 0.0028664793900131857),\n",
       " ('comedy 2-reeler', 0.0028664793900131857),\n",
       " ('action, western', 0.0028664793900131857),\n",
       " ('action, drama, war', 0.0028664793900131857),\n",
       " ('sport, drama', 0.0028664793900131857),\n",
       " ('military romance', 0.0028664793900131857),\n",
       " ('western romance', 0.0028664793900131857),\n",
       " ('western, romance', 0.0028664793900131857),\n",
       " ('adventure, music', 0.0028664793900131857),\n",
       " ('mystery comedy', 0.0028664793900131857),\n",
       " ('crime, film noir', 0.0028664793900131857),\n",
       " ('epic drama', 0.0028664793900131857),\n",
       " ('crime, sci-fi', 0.0028664793900131857),\n",
       " ('war spy', 0.0028664793900131857),\n",
       " ('comedy spy', 0.0028664793900131857),\n",
       " ('science fiction horror', 0.0028664793900131857),\n",
       " ('drama war', 0.0028664793900131857),\n",
       " ('western musical', 0.0028664793900131857),\n",
       " ('race', 0.0028664793900131857),\n",
       " ('cartoon', 0.0028664793900131857),\n",
       " ('aviation', 0.0028664793900131857),\n",
       " ('war, romance', 0.0028664793900131857),\n",
       " ('crime musical', 0.0028664793900131857),\n",
       " ('musical biopic', 0.0028664793900131857),\n",
       " ('short animation', 0.0028664793900131857),\n",
       " ('drama, comedy; 6 separate stories', 0.0028664793900131857),\n",
       " ('war documentary', 0.0028664793900131857),\n",
       " ('propaganda short animated short', 0.0028664793900131857),\n",
       " ('musical bio-pic', 0.0028664793900131857),\n",
       " ('drama anthology', 0.0028664793900131857),\n",
       " ('musical–comedy', 0.0028664793900131857),\n",
       " ('war drama propaganda', 0.0028664793900131857),\n",
       " ('crime, adventure', 0.0028664793900131857),\n",
       " ('war propaganda', 0.0028664793900131857),\n",
       " ('crime mystery', 0.0028664793900131857),\n",
       " ('war biography', 0.0028664793900131857),\n",
       " ('family, western', 0.0028664793900131857),\n",
       " ('nature', 0.0028664793900131857),\n",
       " ('adventure, serial', 0.0028664793900131857),\n",
       " ('historic', 0.0028664793900131857),\n",
       " ('western, film noir', 0.0028664793900131857),\n",
       " ('comedy–horror', 0.0028664793900131857),\n",
       " ('cold war', 0.0028664793900131857),\n",
       " ('sports biopic', 0.0028664793900131857),\n",
       " ('adventures', 0.0028664793900131857),\n",
       " ('horror, 3-d', 0.0028664793900131857),\n",
       " ('thriller, 3-d', 0.0028664793900131857),\n",
       " ('sci-fi, 3-d', 0.0028664793900131857),\n",
       " ('western, 3-d', 0.0028664793900131857),\n",
       " ('romance, trilogy', 0.0028664793900131857),\n",
       " ('western, drama', 0.0028664793900131857),\n",
       " ('war, western', 0.0028664793900131857),\n",
       " ('warner bros. drama', 0.0028664793900131857),\n",
       " ('paramount. biblical epic', 0.0028664793900131857),\n",
       " ('united artists. biography', 0.0028664793900131857),\n",
       " ('warner bros. biography', 0.0028664793900131857),\n",
       " ('crime, western', 0.0028664793900131857),\n",
       " ('cartoon short', 0.0028664793900131857),\n",
       " ('war short', 0.0028664793900131857),\n",
       " ('epic western', 0.0028664793900131857),\n",
       " ('erotic comedy', 0.0028664793900131857),\n",
       " ('travel', 0.0028664793900131857),\n",
       " ('war, satire', 0.0028664793900131857),\n",
       " ('horror musical', 0.0028664793900131857),\n",
       " ('spy anthology', 0.0028664793900131857),\n",
       " ('pow comedy', 0.0028664793900131857),\n",
       " ('compilation', 0.0028664793900131857),\n",
       " ('stop-motion animation', 0.0028664793900131857),\n",
       " ('experimental short', 0.0028664793900131857),\n",
       " ('spy film, mystery', 0.0028664793900131857),\n",
       " ('outlaw biker film', 0.0028664793900131857),\n",
       " ('biker drama', 0.0028664793900131857),\n",
       " ('spy spoof', 0.0028664793900131857),\n",
       " ('western, mystery', 0.0028664793900131857),\n",
       " ('musical, western', 0.0028664793900131857),\n",
       " ('comedy, war', 0.0028664793900131857),\n",
       " ('war, biker', 0.0028664793900131857),\n",
       " ('disaster film, adventure', 0.0028664793900131857),\n",
       " ('biography, crime drama', 0.0028664793900131857),\n",
       " ('crime, biography', 0.0028664793900131857),\n",
       " ('thriller, adventure', 0.0028664793900131857),\n",
       " ('science-fiction, thriller', 0.0028664793900131857),\n",
       " ('adult, horror', 0.0028664793900131857),\n",
       " ('drama, biographical', 0.0028664793900131857),\n",
       " ('erotic musical', 0.0028664793900131857),\n",
       " ('horror, fantasy', 0.0028664793900131857),\n",
       " ('drama, television miniseries', 0.0028664793900131857),\n",
       " ('animated, fantasy', 0.0028664793900131857),\n",
       " ('fantasy, animated', 0.0028664793900131857),\n",
       " ('superhero film', 0.0028664793900131857),\n",
       " ('historical, erotic', 0.0028664793900131857),\n",
       " ('disaster film, sci-fi', 0.0028664793900131857),\n",
       " ('fantasy, musical', 0.0028664793900131857),\n",
       " ('drama, animated', 0.0028664793900131857),\n",
       " ('comedy, anthology', 0.0028664793900131857),\n",
       " ('animation, adult', 0.0028664793900131857),\n",
       " ('16\\xa0mm film', 0.0028664793900131857),\n",
       " ('action film', 0.0028664793900131857),\n",
       " ('sci-fi action', 0.0028664793900131857),\n",
       " ('comedy, cult', 0.0028664793900131857),\n",
       " ('cult film', 0.0028664793900131857),\n",
       " ('crime drama, comedy', 0.0028664793900131857),\n",
       " ('anthology, drama', 0.0028664793900131857),\n",
       " ('horror and priquitianism', 0.0028664793900131857),\n",
       " ('crime, romance', 0.0028664793900131857),\n",
       " ('adventure, biography', 0.0028664793900131857),\n",
       " ('family. drama', 0.0028664793900131857),\n",
       " ('science fiction, adventure', 0.0028664793900131857),\n",
       " ('clay animation', 0.0028664793900131857),\n",
       " ('science fiction, family', 0.0028664793900131857),\n",
       " ('imax', 0.0028664793900131857),\n",
       " ('student film', 0.0028664793900131857),\n",
       " ('biogtaphy, crime, drama', 0.0028664793900131857),\n",
       " ('family, mystery', 0.0028664793900131857),\n",
       " ('disaster, science fiction', 0.0028664793900131857),\n",
       " ('fantasy, sports', 0.0028664793900131857),\n",
       " ('historical epic, disaster', 0.0028664793900131857),\n",
       " ('science fiction, fantasy, action', 0.0028664793900131857),\n",
       " ('family, animation', 0.0028664793900131857),\n",
       " ('action-comedy, family', 0.0028664793900131857),\n",
       " ('animation, science fiction, drama, family', 0.0028664793900131857),\n",
       " ('comedy,horror', 0.0028664793900131857),\n",
       " ('superhero comedy', 0.0028664793900131857),\n",
       " ('animation, musical, comedy', 0.0028664793900131857),\n",
       " ('space opera', 0.0028664793900131857),\n",
       " ('animation comedy family', 0.0028664793900131857),\n",
       " ('comedy, drama, sports', 0.0028664793900131857),\n",
       " ('independent', 0.0028664793900131857),\n",
       " ('animation, adventure', 0.0028664793900131857),\n",
       " ('action, drama, epic,', 0.0028664793900131857),\n",
       " ('animation, fantasy', 0.0028664793900131857),\n",
       " ('comedy, sci-fi', 0.0028664793900131857),\n",
       " ('war, horror', 0.0028664793900131857),\n",
       " ('reality', 0.0028664793900131857),\n",
       " ('drama, mystery, romance', 0.0028664793900131857),\n",
       " ('comedy-drama, fantasy', 0.0028664793900131857),\n",
       " ('live-action/animation', 0.0028664793900131857),\n",
       " ('fantasy, swashbuckler', 0.0028664793900131857),\n",
       " ('action film, war', 0.0028664793900131857),\n",
       " ('action, history', 0.0028664793900131857),\n",
       " ('disaster, sci-fi', 0.0028664793900131857),\n",
       " ('family, superhero', 0.0028664793900131857),\n",
       " ('western, romantic drama', 0.0028664793900131857),\n",
       " ('adventure, epic fantasy,', 0.0028664793900131857),\n",
       " ('fantasy, teen', 0.0028664793900131857),\n",
       " ('drama, silent', 0.0028664793900131857),\n",
       " ('animation, musical', 0.0028664793900131857),\n",
       " ('action, spy', 0.0028664793900131857),\n",
       " ('drama, dance', 0.0028664793900131857),\n",
       " ('romance-horror', 0.0028664793900131857),\n",
       " ('martial arts/horror/comedy', 0.0028664793900131857),\n",
       " ('adventure/comedy/drama/family', 0.0028664793900131857),\n",
       " ('biography, western', 0.0028664793900131857),\n",
       " ('parody, sports', 0.0028664793900131857),\n",
       " ('family, sports', 0.0028664793900131857),\n",
       " ('bio-pic, musical', 0.0028664793900131857),\n",
       " ('family, sci-fi', 0.0028664793900131857),\n",
       " ('comedy-drama, family', 0.0028664793900131857),\n",
       " ('adventure, swashbuckler', 0.0028664793900131857),\n",
       " ('musical, thriller', 0.0028664793900131857),\n",
       " ('drama, martial arts', 0.0028664793900131857),\n",
       " ('adventure, mystery', 0.0028664793900131857),\n",
       " ('epic, science fiction', 0.0028664793900131857),\n",
       " ('science fiction, animated', 0.0028664793900131857),\n",
       " ('biography, horror', 0.0028664793900131857),\n",
       " ('dance, parody', 0.0028664793900131857),\n",
       " ('fantasy, romantic comedy', 0.0028664793900131857),\n",
       " ('horror–thriller', 0.0028664793900131857),\n",
       " ('black comedy, biography', 0.0028664793900131857),\n",
       " ('war, science fiction', 0.0028664793900131857),\n",
       " ('comedy horror, teen', 0.0028664793900131857),\n",
       " ('concert', 0.0028664793900131857),\n",
       " ('biography, romantic comedy', 0.0028664793900131857),\n",
       " ('romantic comedy, romantic', 0.0028664793900131857),\n",
       " ('dance, romance', 0.0028664793900131857),\n",
       " ('action, martial arts', 0.0028664793900131857),\n",
       " ('crime drama, biography', 0.0028664793900131857),\n",
       " ('family, science fiction', 0.0028664793900131857),\n",
       " ('action adventure, superhero', 0.0028664793900131857),\n",
       " ('animated, comedy, drama, family', 0.0028664793900131857),\n",
       " ('lgbt-themed comedy-drama', 0.0028664793900131857),\n",
       " ('political drama, thriller', 0.0028664793900131857),\n",
       " ('dramedy, musical', 0.0028664793900131857),\n",
       " ('biography, spy thriller', 0.0028664793900131857),\n",
       " ('bio-pic, comedy-drama', 0.0028664793900131857),\n",
       " ('superhero, western', 0.0028664793900131857),\n",
       " ('drama comedy', 0.0028664793900131857),\n",
       " ('action-adventure, fantasy, family', 0.0028664793900131857),\n",
       " ('dramedy, romance', 0.0028664793900131857),\n",
       " ('action thriller, fantasy', 0.0028664793900131857),\n",
       " ('action-comedy, parody', 0.0028664793900131857),\n",
       " ('comedy-drama, crime', 0.0028664793900131857),\n",
       " ('action horror, science fiction', 0.0028664793900131857),\n",
       " ('crime thriller, drama', 0.0028664793900131857),\n",
       " ('adventure, comedy, fantasy', 0.0028664793900131857),\n",
       " ('spoof', 0.0028664793900131857),\n",
       " ('drama, suspense thriller', 0.0028664793900131857),\n",
       " ('romance, science fiction, thriller', 0.0028664793900131857),\n",
       " ('fantasy, sci-fi drama', 0.0028664793900131857),\n",
       " ('animated, family, fantasy', 0.0028664793900131857),\n",
       " ('drama, political thriller', 0.0028664793900131857),\n",
       " ('animated, family, spy film', 0.0028664793900131857),\n",
       " ('sci-fi western', 0.0028664793900131857),\n",
       " ('action thriller, sci-fi horror', 0.0028664793900131857),\n",
       " ('drama, spy thriller', 0.0028664793900131857),\n",
       " ('action, horror comedy', 0.0028664793900131857),\n",
       " ('adventure, historical drama', 0.0028664793900131857),\n",
       " ('supernatural horror, thriller', 0.0028664793900131857),\n",
       " ('dance, dramedy, romance', 0.0028664793900131857),\n",
       " ('family, live action', 0.0028664793900131857),\n",
       " ('sci-fi, teen', 0.0028664793900131857),\n",
       " ('political drama, political thriller', 0.0028664793900131857),\n",
       " ('action drama, fantasy', 0.0028664793900131857),\n",
       " ('concert, documentary', 0.0028664793900131857),\n",
       " ('mystery, suspense thriller', 0.0028664793900131857),\n",
       " ('action, biopic', 0.0028664793900131857),\n",
       " ('animated, sci-fi comedy', 0.0028664793900131857),\n",
       " ('dark comedy, thriller', 0.0028664793900131857),\n",
       " ('animated, family, western', 0.0028664793900131857),\n",
       " ('fantasy romance, horror', 0.0028664793900131857),\n",
       " ('adventure, disaster', 0.0028664793900131857),\n",
       " ('action, mystery', 0.0028664793900131857),\n",
       " ('drama, teen', 0.0028664793900131857),\n",
       " ('family, spy film', 0.0028664793900131857),\n",
       " ('dark comedy, superhero', 0.0028664793900131857),\n",
       " ('anthology, horror comedy', 0.0028664793900131857),\n",
       " ('parody, horror', 0.0028664793900131857),\n",
       " ('family, animated, fantasy', 0.0028664793900131857),\n",
       " ('family, romantic drama', 0.0028664793900131857),\n",
       " ('family, direct-to-dvd', 0.0028664793900131857),\n",
       " ('adventure, animated, fantasy', 0.0028664793900131857),\n",
       " ('adventure, drama, epic', 0.0028664793900131857),\n",
       " ('crime drama, superhero', 0.0028664793900131857),\n",
       " ('family film, direct-to-dvd', 0.0028664793900131857),\n",
       " ('animated, horror comedy', 0.0028664793900131857),\n",
       " ('action thriller, adventure drama', 0.0028664793900131857),\n",
       " ('action drama, science fiction', 0.0028664793900131857),\n",
       " ('crime thriller, dark comedy', 0.0028664793900131857),\n",
       " ('drama, gangster', 0.0028664793900131857),\n",
       " ('action-adventure, drama', 0.0028664793900131857),\n",
       " ('biopic, political drama', 0.0028664793900131857),\n",
       " ('dramedy, fantasy', 0.0028664793900131857),\n",
       " ('animated, horror comedy, thriller', 0.0028664793900131857),\n",
       " ('dramedy, teen', 0.0028664793900131857),\n",
       " ('action, horror, science fiction', 0.0028664793900131857),\n",
       " ('action drama, war', 0.0028664793900131857),\n",
       " ('action-adventure, animated, family', 0.0028664793900131857),\n",
       " ('musical, romantic comedy', 0.0028664793900131857),\n",
       " ('animated, family, 3d', 0.0028664793900131857),\n",
       " ('comedy, spy film', 0.0028664793900131857),\n",
       " ('family, sports comedy', 0.0028664793900131857),\n",
       " ('drama, independent movie', 0.0028664793900131857),\n",
       " ('bio-pic, sports', 0.0028664793900131857),\n",
       " ('horror-thriller', 0.0028664793900131857),\n",
       " ('survival', 0.0028664793900131857),\n",
       " ('action drama, bio-pic, thriller', 0.0028664793900131857),\n",
       " ('historical, music', 0.0028664793900131857),\n",
       " ('adventure, animated, comedy', 0.0028664793900131857),\n",
       " ('crime thriller, neo-noir', 0.0028664793900131857),\n",
       " ('adventure, animated, family, fantasy-comedy', 0.0028664793900131857),\n",
       " ('animated, sci-fi', 0.0028664793900131857),\n",
       " ('animated, buddy comedy', 0.0028664793900131857),\n",
       " ('animated, fantasy, musical', 0.0028664793900131857),\n",
       " ('bio-pic, drama, music', 0.0028664793900131857),\n",
       " ...]"
      ]
     },
     "execution_count": 87,
     "metadata": {},
     "output_type": "execute_result"
    }
   ],
   "source": [
    "from collections import Counter\n",
    "# Find the number of each class of Genre occurrences using Counter().\n",
    "count_each_class_Genre = Counter(Wikipedia_Movie_Plots['Genre'])\n",
    "# calculate and print the proportion of each class of Genre in order from highest to lowest.\n",
    "[(i, count_each_class_Genre[i] / len(Wikipedia_Movie_Plots['Genre']) * 100.0) for i, count in count_each_class_Genre.most_common()]\n",
    "\n"
   ]
  },
  {
   "cell_type": "markdown",
   "metadata": {},
   "source": [
    "## What trends can you find in your data?"
   ]
  },
  {
   "cell_type": "markdown",
   "metadata": {},
   "source": [
    "### For the Release Year attribute, from the above distribution of the Release Year attribute plot, we can observed that from the year 1901 to the year 2017, the number of released movies tend to more. For the Origin/Ethnicity attribute, according to the above distribution of the Origin/Ethnicity attribute plot, the highest number of released movies' Origin/Ethnicity is American, almost half of the released movies are from American. For the 'Genre' attribute, there are so many classes in the 'Genre', therefore classification for 'Genre' attribute is hard."
   ]
  },
  {
   "cell_type": "markdown",
   "metadata": {},
   "source": [
    "# Task 2.<a id='top'></a>\n",
    "\n",
    "Select the following five movie genres (classes):\n",
    "Drama, comedy, adventure, romance, western.\n",
    "Some of the instances in the dataset belong to multiple genres. Be sure to motivate your selection strategy for those cases.\n",
    "</a>  <a href='#1'>[15]"
   ]
  },
  {
   "cell_type": "markdown",
   "metadata": {},
   "source": [
    "### Using the str.contains method to select the five genres classes into a new selected_classes_df DataFrame.  <a href='#1'>[7]"
   ]
  },
  {
   "cell_type": "code",
   "execution_count": 88,
   "metadata": {},
   "outputs": [
    {
     "data": {
      "text/html": [
       "<div>\n",
       "<style scoped>\n",
       "    .dataframe tbody tr th:only-of-type {\n",
       "        vertical-align: middle;\n",
       "    }\n",
       "\n",
       "    .dataframe tbody tr th {\n",
       "        vertical-align: top;\n",
       "    }\n",
       "\n",
       "    .dataframe thead th {\n",
       "        text-align: right;\n",
       "    }\n",
       "</style>\n",
       "<table border=\"1\" class=\"dataframe\">\n",
       "  <thead>\n",
       "    <tr style=\"text-align: right;\">\n",
       "      <th></th>\n",
       "      <th>Release Year</th>\n",
       "      <th>Title</th>\n",
       "      <th>Origin/Ethnicity</th>\n",
       "      <th>Director</th>\n",
       "      <th>Cast</th>\n",
       "      <th>Genre</th>\n",
       "      <th>Wiki Page</th>\n",
       "      <th>Plot</th>\n",
       "    </tr>\n",
       "  </thead>\n",
       "  <tbody>\n",
       "    <tr>\n",
       "      <th>6</th>\n",
       "      <td>1903</td>\n",
       "      <td>The Great Train Robbery</td>\n",
       "      <td>American</td>\n",
       "      <td>Edwin S. Porter</td>\n",
       "      <td>NaN</td>\n",
       "      <td>western</td>\n",
       "      <td>https://en.wikipedia.org/wiki/The_Great_Train_...</td>\n",
       "      <td>The film opens with two bandits breaking into ...</td>\n",
       "    </tr>\n",
       "    <tr>\n",
       "      <th>7</th>\n",
       "      <td>1904</td>\n",
       "      <td>The Suburbanite</td>\n",
       "      <td>American</td>\n",
       "      <td>Wallace McCutcheon</td>\n",
       "      <td>NaN</td>\n",
       "      <td>comedy</td>\n",
       "      <td>https://en.wikipedia.org/wiki/The_Suburbanite</td>\n",
       "      <td>The film is about a family who move to the sub...</td>\n",
       "    </tr>\n",
       "    <tr>\n",
       "      <th>14</th>\n",
       "      <td>1907</td>\n",
       "      <td>How Brown Saw the Baseball Game</td>\n",
       "      <td>American</td>\n",
       "      <td>Unknown</td>\n",
       "      <td>Unknown</td>\n",
       "      <td>comedy</td>\n",
       "      <td>https://en.wikipedia.org/wiki/How_Brown_Saw_th...</td>\n",
       "      <td>Before heading out to a baseball game at a nea...</td>\n",
       "    </tr>\n",
       "    <tr>\n",
       "      <th>15</th>\n",
       "      <td>1907</td>\n",
       "      <td>Laughing Gas</td>\n",
       "      <td>American</td>\n",
       "      <td>Edwin Stanton Porter</td>\n",
       "      <td>Bertha Regustus, Edward Boulden</td>\n",
       "      <td>comedy</td>\n",
       "      <td>https://en.wikipedia.org/wiki/Laughing_Gas_(fi...</td>\n",
       "      <td>The plot is that of a black woman going to the...</td>\n",
       "    </tr>\n",
       "    <tr>\n",
       "      <th>16</th>\n",
       "      <td>1908</td>\n",
       "      <td>The Adventures of Dollie</td>\n",
       "      <td>American</td>\n",
       "      <td>D. W. Griffith</td>\n",
       "      <td>Arthur V. Johnson, Linda Arvidson</td>\n",
       "      <td>drama</td>\n",
       "      <td>https://en.wikipedia.org/wiki/The_Adventures_o...</td>\n",
       "      <td>On a beautiful summer day a father and mother ...</td>\n",
       "    </tr>\n",
       "    <tr>\n",
       "      <th>...</th>\n",
       "      <td>...</td>\n",
       "      <td>...</td>\n",
       "      <td>...</td>\n",
       "      <td>...</td>\n",
       "      <td>...</td>\n",
       "      <td>...</td>\n",
       "      <td>...</td>\n",
       "      <td>...</td>\n",
       "    </tr>\n",
       "    <tr>\n",
       "      <th>34874</th>\n",
       "      <td>2011</td>\n",
       "      <td>White as Snow</td>\n",
       "      <td>Turkish</td>\n",
       "      <td>Selim Güneş</td>\n",
       "      <td>Hakan Korkmaz, Sinem İslamoğlu &amp; Gürkan Piri O...</td>\n",
       "      <td>drama</td>\n",
       "      <td>https://en.wikipedia.org/wiki/White_as_Snow_(f...</td>\n",
       "      <td>Hasan is a twelve-year-old boy living with his...</td>\n",
       "    </tr>\n",
       "    <tr>\n",
       "      <th>34875</th>\n",
       "      <td>2011</td>\n",
       "      <td>Once Upon a Time in Anatolia</td>\n",
       "      <td>Turkish</td>\n",
       "      <td>Nuri Bilge Ceylan</td>\n",
       "      <td>Yılmaz Erdoğan, Taner Birsel &amp; Ufuk Karaali</td>\n",
       "      <td>drama</td>\n",
       "      <td>https://en.wikipedia.org/wiki/Once_Upon_a_Time...</td>\n",
       "      <td>Through the night, three cars carry a small gr...</td>\n",
       "    </tr>\n",
       "    <tr>\n",
       "      <th>34876</th>\n",
       "      <td>2013</td>\n",
       "      <td>Selam</td>\n",
       "      <td>Turkish</td>\n",
       "      <td>Levent Demirkale</td>\n",
       "      <td>Bucin Abdullah, Selma Alispahic, Tina Cvitanov...</td>\n",
       "      <td>drama</td>\n",
       "      <td>https://en.wikipedia.org/wiki/Selam_(film)</td>\n",
       "      <td>The film opens with a Senegalese boy named Kha...</td>\n",
       "    </tr>\n",
       "    <tr>\n",
       "      <th>34882</th>\n",
       "      <td>2017</td>\n",
       "      <td>Çalgı Çengi İkimiz</td>\n",
       "      <td>Turkish</td>\n",
       "      <td>Selçuk Aydemir</td>\n",
       "      <td>Ahmet Kural, Murat Cemcir</td>\n",
       "      <td>comedy</td>\n",
       "      <td>https://en.wikipedia.org/wiki/%C3%87alg%C4%B1_...</td>\n",
       "      <td>Two musicians, Salih and Gürkan, described the...</td>\n",
       "    </tr>\n",
       "    <tr>\n",
       "      <th>34883</th>\n",
       "      <td>2017</td>\n",
       "      <td>Olanlar Oldu</td>\n",
       "      <td>Turkish</td>\n",
       "      <td>Hakan Algül</td>\n",
       "      <td>Ata Demirer, Tuvana Türkay, Ülkü Duru</td>\n",
       "      <td>comedy</td>\n",
       "      <td>https://en.wikipedia.org/wiki/Olanlar_Oldu</td>\n",
       "      <td>Zafer, a sailor living with his mother Döndü i...</td>\n",
       "    </tr>\n",
       "  </tbody>\n",
       "</table>\n",
       "<p>12657 rows × 8 columns</p>\n",
       "</div>"
      ],
      "text/plain": [
       "       Release Year                            Title Origin/Ethnicity  \\\n",
       "6              1903          The Great Train Robbery         American   \n",
       "7              1904                  The Suburbanite         American   \n",
       "14             1907  How Brown Saw the Baseball Game         American   \n",
       "15             1907                     Laughing Gas         American   \n",
       "16             1908         The Adventures of Dollie         American   \n",
       "...             ...                              ...              ...   \n",
       "34874          2011                    White as Snow          Turkish   \n",
       "34875          2011     Once Upon a Time in Anatolia          Turkish   \n",
       "34876          2013                            Selam          Turkish   \n",
       "34882          2017               Çalgı Çengi İkimiz          Turkish   \n",
       "34883          2017                     Olanlar Oldu          Turkish   \n",
       "\n",
       "                   Director  \\\n",
       "6           Edwin S. Porter   \n",
       "7        Wallace McCutcheon   \n",
       "14                  Unknown   \n",
       "15     Edwin Stanton Porter   \n",
       "16           D. W. Griffith   \n",
       "...                     ...   \n",
       "34874           Selim Güneş   \n",
       "34875     Nuri Bilge Ceylan   \n",
       "34876      Levent Demirkale   \n",
       "34882        Selçuk Aydemir   \n",
       "34883           Hakan Algül   \n",
       "\n",
       "                                                    Cast    Genre  \\\n",
       "6                                                    NaN  western   \n",
       "7                                                    NaN   comedy   \n",
       "14                                               Unknown   comedy   \n",
       "15                       Bertha Regustus, Edward Boulden   comedy   \n",
       "16                     Arthur V. Johnson, Linda Arvidson    drama   \n",
       "...                                                  ...      ...   \n",
       "34874  Hakan Korkmaz, Sinem İslamoğlu & Gürkan Piri O...    drama   \n",
       "34875        Yılmaz Erdoğan, Taner Birsel & Ufuk Karaali    drama   \n",
       "34876  Bucin Abdullah, Selma Alispahic, Tina Cvitanov...    drama   \n",
       "34882                          Ahmet Kural, Murat Cemcir   comedy   \n",
       "34883              Ata Demirer, Tuvana Türkay, Ülkü Duru   comedy   \n",
       "\n",
       "                                               Wiki Page  \\\n",
       "6      https://en.wikipedia.org/wiki/The_Great_Train_...   \n",
       "7          https://en.wikipedia.org/wiki/The_Suburbanite   \n",
       "14     https://en.wikipedia.org/wiki/How_Brown_Saw_th...   \n",
       "15     https://en.wikipedia.org/wiki/Laughing_Gas_(fi...   \n",
       "16     https://en.wikipedia.org/wiki/The_Adventures_o...   \n",
       "...                                                  ...   \n",
       "34874  https://en.wikipedia.org/wiki/White_as_Snow_(f...   \n",
       "34875  https://en.wikipedia.org/wiki/Once_Upon_a_Time...   \n",
       "34876         https://en.wikipedia.org/wiki/Selam_(film)   \n",
       "34882  https://en.wikipedia.org/wiki/%C3%87alg%C4%B1_...   \n",
       "34883         https://en.wikipedia.org/wiki/Olanlar_Oldu   \n",
       "\n",
       "                                                    Plot  \n",
       "6      The film opens with two bandits breaking into ...  \n",
       "7      The film is about a family who move to the sub...  \n",
       "14     Before heading out to a baseball game at a nea...  \n",
       "15     The plot is that of a black woman going to the...  \n",
       "16     On a beautiful summer day a father and mother ...  \n",
       "...                                                  ...  \n",
       "34874  Hasan is a twelve-year-old boy living with his...  \n",
       "34875  Through the night, three cars carry a small gr...  \n",
       "34876  The film opens with a Senegalese boy named Kha...  \n",
       "34882  Two musicians, Salih and Gürkan, described the...  \n",
       "34883  Zafer, a sailor living with his mother Döndü i...  \n",
       "\n",
       "[12657 rows x 8 columns]"
      ]
     },
     "execution_count": 88,
     "metadata": {},
     "output_type": "execute_result"
    }
   ],
   "source": [
    "# The 'Genre' attribute.\n",
    "Genre = Wikipedia_Movie_Plots['Genre']\n",
    "# Select five movie genres (classes): Drama, comedy, adventure, romance, western\n",
    "selected_classes_df = Wikipedia_Movie_Plots.loc[(Genre == 'drama') | (Genre == 'comedy') | (Genre == 'adventure') | (Genre == 'romance') | (Genre == 'western')]\n",
    "selected_classes_df\n"
   ]
  },
  {
   "cell_type": "markdown",
   "metadata": {},
   "source": [
    "# Task 3.<a id='top'></a>\n",
    "\n",
    "Clean the text:\n",
    "Remove stop words.\n",
    "Remove numbers and other non-letter characters.\n",
    "Perform either lemmatization or stemming. Motivate your choice.\n",
    "</a>"
   ]
  },
  {
   "cell_type": "markdown",
   "metadata": {},
   "source": [
    "### Define a function that remove stop words. <a href='#1'>[8][9]"
   ]
  },
  {
   "cell_type": "code",
   "execution_count": 90,
   "metadata": {},
   "outputs": [],
   "source": [
    "# from nltk.corpus import the stopwords list. \n",
    "from nltk.corpus import stopwords\n",
    "# set the stop words list to English stop words list.\n",
    "stop_words = set(stopwords.words('english'))\n",
    "\n",
    "def remove_stopwords(text):\n",
    "    # split text at space and remove stop words.\n",
    "    removed_stopwords_text = [w for w in text.split() if not w in stop_words]\n",
    "    # rejoin removed stopwords words.\n",
    "    return ' '.join(removed_stopwords_text)\n",
    "\n"
   ]
  },
  {
   "cell_type": "markdown",
   "metadata": {},
   "source": [
    "**Check our 'Genre' classes using unique().**"
   ]
  },
  {
   "cell_type": "code",
   "execution_count": 91,
   "metadata": {},
   "outputs": [
    {
     "data": {
      "text/plain": [
       "array(['western', 'comedy', 'drama', 'adventure', 'romance'], dtype=object)"
      ]
     },
     "execution_count": 91,
     "metadata": {},
     "output_type": "execute_result"
    }
   ],
   "source": [
    "selected_classes_df['Genre'].unique()"
   ]
  },
  {
   "cell_type": "markdown",
   "metadata": {},
   "source": [
    "**Apply the remove_stopwords() function on the 'Plot' attribute by using apply lambda.**"
   ]
  },
  {
   "cell_type": "code",
   "execution_count": 92,
   "metadata": {},
   "outputs": [
    {
     "name": "stderr",
     "output_type": "stream",
     "text": [
      "/Users/jingyang/opt/anaconda3/lib/python3.7/site-packages/ipykernel_launcher.py:1: SettingWithCopyWarning: \n",
      "A value is trying to be set on a copy of a slice from a DataFrame.\n",
      "Try using .loc[row_indexer,col_indexer] = value instead\n",
      "\n",
      "See the caveats in the documentation: https://pandas.pydata.org/pandas-docs/stable/user_guide/indexing.html#returning-a-view-versus-a-copy\n",
      "  \"\"\"Entry point for launching an IPython kernel.\n"
     ]
    }
   ],
   "source": [
    "selected_classes_df['Plot'] = selected_classes_df['Plot'].apply(lambda x: remove_stopwords(x))"
   ]
  },
  {
   "cell_type": "code",
   "execution_count": 93,
   "metadata": {},
   "outputs": [
    {
     "data": {
      "text/plain": [
       "6        The film opens two bandits breaking railroad t...\n",
       "7        The film family move suburbs, hoping quiet lif...\n",
       "14       Before heading baseball game nearby ballpark, ...\n",
       "15       The plot black woman going dentist toothache g...\n",
       "16       On beautiful summer day father mother take dau...\n",
       "                               ...                        \n",
       "34874    Hasan twelve-year-old boy living two younger s...\n",
       "34875    Through night, three cars carry small group me...\n",
       "34876    The film opens Senegalese boy named Khadim tol...\n",
       "34882    Two musicians, Salih Gürkan, described adventu...\n",
       "34883    Zafer, sailor living mother Döndü coastal vill...\n",
       "Name: Plot, Length: 12657, dtype: object"
      ]
     },
     "execution_count": 93,
     "metadata": {},
     "output_type": "execute_result"
    }
   ],
   "source": [
    "selected_classes_df['Plot']"
   ]
  },
  {
   "cell_type": "code",
   "execution_count": 94,
   "metadata": {},
   "outputs": [
    {
     "data": {
      "text/plain": [
       "array([\"The film opens two bandits breaking railroad telegraph office, force operator gunpoint train stopped transmit orders engineer fill locomotive's tender station's water tank. They knock operator tie up. As train stops boarded bandits\\u200d—\\u200cnow four. Two bandits enter express car, kill messenger open box valuables dynamite; others kill fireman force engineer halt train disconnect locomotive. The bandits force passengers train rifle belongings. One passenger tries escape instantly shot down. Carrying loot, bandits escape locomotive, later stopping valley horses left. Meanwhile, back telegraph office, bound operator awakens, collapses again. His daughter arrives bringing meal cuts free, restores consciousness dousing water. There comic relief dance hall, Eastern stranger forced dance locals fire feet. The door suddenly opens telegraph operator rushes tell robbery. The men quickly form posse, overtakes bandits, final shootout kills recovers stolen mail.\",\n",
       "       'The film family move suburbs, hoping quiet life. Things start go wrong, wife gets violent starts throwing crockery, leading arrest.',\n",
       "       \"Before heading baseball game nearby ballpark, sports fan Mr. Brown drinks several highball cocktails. He arrives ballpark watch game, become inebriated game appears reverse, players running bases backwards baseball flying back pitcher's hand. After game over, Mr. Brown escorted home one friends. When arrive Brown's house, encounter wife becomes furious friend proceeds physically assault him, believing responsible husband's severe intoxication.[1]\",\n",
       "       ...,\n",
       "       'The film opens Senegalese boy named Khadim told little sister Aya fallen rocks. The parents two kids debating whether take Aya hospital since hospital whites, Khadim Aya\\'s family black. The parents quickly decide go \"whites\" hospital hospital far away hoping find car give lift. A car white couple, touring Lake Retba area, actually pass husband tells wife listen tour guide, told never stop might robbed. So, white couple pass black Senegal family adults screaming help. A Muslim, Turkish, woman (Zehra) veil shown check-in airport Istanbul, Muslim man named Harun approaches her, surprised drops pen breaks it. Zehra Harun know might relationship. They heading different countries teach schools opened Turkish entrepreneurs. Zehra heading Kabul Afghanistan, Harun heading Senegal. They say they\\'re farewells exchange gifts. Harun gives Zehra pen since broken, Zehra gives Harun tape created him. The scene shifts man (Adem) pregnant wife (Meltem) mother (Zeyneb) also saying goodbyes. Adem also heading teach Turkish school opened Turkish entrepreneurs Bosnia. Adem teaching students word \"Selam\" greetings. Adem says word many meanings signify peace. Later, Adem shows students gesture one also means \"Selam\". In teachers\\' room, Adem contemplating picture pregnant wife Meltem stuck locker. A Miss Irina enters asks Adem could talk Almir participating singing contest event school hold Turkey. Adem asks Irina wants talk Almir since Muslim Almir also Muslim. Irina explains case reason Bosnians could remove Turkish traditions country Turks came saying \"Selam\". Zehra teaching students many rivers Bosnia, rivers connect, one thing connects rivers \"Selam\". A boy named Salim brother decide go Turkish soldiers, guarding time, meat. Salim\\'s family poor cannot meat, soldier offers meat. Before eat it, mother shows takes away. Salim\\'s brother, Mahmut, found laying ground mother shouts Salim going soldiers eat meat since cannot afford Mahmut tries it, want everyday. Aya\\'s brother, Khadim, seen crying grave. His mother approaches white shirt. Khadim refuses put belongs whites believes whites caused sister, Aya, die. Aya Khadim\\'s Father, Musa, goes school Harun working manager look job. Harun offers Musa job, return, Harun offer take Musa\\'s son student school also offer family accommodation. Musa goes wife son, Khadim, tell nicely Harun treated him, believe saying white people evil. Musa, wife, son Khadem go school Harun works. Khadem like idea go whites\\' school. Once family enter, see Harun playing soccer group black kids. Khadem sitting beach confused Harun, white man, treating well contrast white people. Khadem wondering colors black white color hate. Eid al Adha, second two Muslim holidays, arrived Muslims Turkey, Afghanistan, Africa, Bosnia seen praying Eid prayer. Harun, Harun\\'s father, Adem praying one God, Allah. The Turks giving away free meat Eid Salim would like brother Mahmut protein deficiency. He asks Zehra could give distracted Salim get meat. Adem teaching students sacrificing meat Eid al Adha. Almir agrees participate singing contest condition, participate Sasha. Zehra brings meat Salim\\'s home Salim\\'s mother want take poor cannot afford kids ask again. To practice singing, Almir takes Sasha bridge tries kill him, so, fall river Adem jumps them. Adem manages save tells Almir river bridge. Although Adem saves them, drowns dies. The students teachers Kabul, Sarajevo, Senegal go Istanbul contest. Harun\\'s mother able save money build well Senegal. It turns Zehra Harun\\'s students singing song end singing together, Harun Zehra finally meetup. Both Almir Sasha sing together promise take care Adem\\'s orphaned child. The movie ends Adem\\'s voice saying one wants happy, must make someone else happy, one must spread \"Selam\"',\n",
       "       'Two musicians, Salih Gürkan, described adventures cousins.',\n",
       "       \"Zafer, sailor living mother Döndü coastal village Izmir, separated girlfriend Mehtap whose father also sailor. While Döndü friend, Fahriye try help Zafer marry someone family, famous talented actress, Aslı surprisingly attends Zafer's boat tour. Then Asli Zafer find getting know other.\"],\n",
       "      dtype=object)"
      ]
     },
     "execution_count": 94,
     "metadata": {},
     "output_type": "execute_result"
    }
   ],
   "source": [
    "selected_classes_df['Plot'].values"
   ]
  },
  {
   "cell_type": "markdown",
   "metadata": {},
   "source": [
    "### Define a funtion that remove numbers and other non-letter characters. <a href='#1'>[8][9][10]"
   ]
  },
  {
   "cell_type": "code",
   "execution_count": 95,
   "metadata": {},
   "outputs": [],
   "source": [
    "import re\n",
    "\n",
    "def remove_non_letter(text):\n",
    "    # remove everything except alphabets\n",
    "    text = re.sub(\"[^a-zA-Z]\", \" \", text)\n",
    "    # remove whitespaces caused by remove non letter characters.\n",
    "    text = ' '.join(text.split())\n",
    "    return text\n",
    "    "
   ]
  },
  {
   "cell_type": "markdown",
   "metadata": {},
   "source": [
    "**Apply the remove_non_letter() function on the 'Plot' attribute by using apply lambda**"
   ]
  },
  {
   "cell_type": "code",
   "execution_count": 96,
   "metadata": {},
   "outputs": [
    {
     "name": "stderr",
     "output_type": "stream",
     "text": [
      "/Users/jingyang/opt/anaconda3/lib/python3.7/site-packages/ipykernel_launcher.py:1: SettingWithCopyWarning: \n",
      "A value is trying to be set on a copy of a slice from a DataFrame.\n",
      "Try using .loc[row_indexer,col_indexer] = value instead\n",
      "\n",
      "See the caveats in the documentation: https://pandas.pydata.org/pandas-docs/stable/user_guide/indexing.html#returning-a-view-versus-a-copy\n",
      "  \"\"\"Entry point for launching an IPython kernel.\n"
     ]
    }
   ],
   "source": [
    "selected_classes_df['Plot'] = selected_classes_df['Plot'].apply(lambda x: remove_non_letter(x))"
   ]
  },
  {
   "cell_type": "markdown",
   "metadata": {},
   "source": [
    "## Perform either lemmatization or stemming. Motivate your choice."
   ]
  },
  {
   "cell_type": "markdown",
   "metadata": {},
   "source": [
    "### Choose to preform stemming. <a href='#1'>[12]"
   ]
  },
  {
   "cell_type": "code",
   "execution_count": 98,
   "metadata": {},
   "outputs": [],
   "source": [
    "# from nltk.stem import the PorterStemmer stemming algorithms module.\n",
    "from nltk.stem import PorterStemmer\n",
    "from nltk.tokenize import word_tokenize\n",
    "\n",
    "ps = PorterStemmer()\n",
    "\n",
    "def stemming(text):\n",
    "    # preform word tokenize on all of the text.\n",
    "    tokens = word_tokenize(text)\n",
    "    # preform stemming on all of the word tokenized text.\n",
    "    stemmed_words = [ps.stem(w) for w in tokens]\n",
    "    # rejoin stemmed words.\n",
    "    return ' '.join(stemmed_words)\n"
   ]
  },
  {
   "cell_type": "markdown",
   "metadata": {},
   "source": [
    "### apply stemming() function to 'Plot' attribute using lambda."
   ]
  },
  {
   "cell_type": "code",
   "execution_count": 99,
   "metadata": {},
   "outputs": [
    {
     "name": "stderr",
     "output_type": "stream",
     "text": [
      "/Users/jingyang/opt/anaconda3/lib/python3.7/site-packages/ipykernel_launcher.py:1: SettingWithCopyWarning: \n",
      "A value is trying to be set on a copy of a slice from a DataFrame.\n",
      "Try using .loc[row_indexer,col_indexer] = value instead\n",
      "\n",
      "See the caveats in the documentation: https://pandas.pydata.org/pandas-docs/stable/user_guide/indexing.html#returning-a-view-versus-a-copy\n",
      "  \"\"\"Entry point for launching an IPython kernel.\n"
     ]
    }
   ],
   "source": [
    "selected_classes_df['Plot'] = selected_classes_df['Plot'].apply(lambda x: stemming(x))"
   ]
  },
  {
   "cell_type": "code",
   "execution_count": 100,
   "metadata": {},
   "outputs": [
    {
     "data": {
      "text/plain": [
       "numpy.ndarray"
      ]
     },
     "execution_count": 100,
     "metadata": {},
     "output_type": "execute_result"
    }
   ],
   "source": [
    "type(selected_classes_df['Plot'].values)"
   ]
  },
  {
   "cell_type": "markdown",
   "metadata": {},
   "source": [
    "# Task 4.<a id='top'></a>\n",
    "\n",
    "Convert the corpus into a bag-of-words tf-idf weighted vector representation.\n",
    "</a> <a href='#1'>[13]"
   ]
  },
  {
   "cell_type": "markdown",
   "metadata": {},
   "source": [
    "## Convert the corpus into a bag-of-words tf-idf weighted vector representation. <a href='#1'>[21]"
   ]
  },
  {
   "cell_type": "code",
   "execution_count": 103,
   "metadata": {},
   "outputs": [
    {
     "data": {
      "text/plain": [
       "(12657, 54506)"
      ]
     },
     "execution_count": 103,
     "metadata": {},
     "output_type": "execute_result"
    }
   ],
   "source": [
    "from sklearn.feature_extraction.text import CountVectorizer\n",
    "Plot = selected_classes_df['Plot'].values\n",
    "count_vect = CountVectorizer()\n",
    "X_counts = count_vect.fit_transform(Plot)\n",
    "X_counts.shape"
   ]
  },
  {
   "cell_type": "code",
   "execution_count": 104,
   "metadata": {},
   "outputs": [
    {
     "data": {
      "text/plain": [
       "(12657, 54506)"
      ]
     },
     "execution_count": 104,
     "metadata": {},
     "output_type": "execute_result"
    }
   ],
   "source": [
    "from sklearn.feature_extraction.text import TfidfTransformer\n",
    "tfidf_transformer = TfidfTransformer()\n",
    "X_tfidf = tfidf_transformer.fit_transform(X_counts)\n",
    "X_tfidf.shape"
   ]
  },
  {
   "cell_type": "markdown",
   "metadata": {},
   "source": [
    "# Task 5.<a id='top'></a>\n",
    "\n",
    "Split the data randomly into training and testing sets (70-30 %).\n",
    "Train SVM and report confusion matrix.\n",
    "Train Multinomial NB and report confusion matrix.\n",
    "Which algorithm has a higher weighted F1 measure and why?\n",
    "Does changing the kernel of the SVM change the weighted F1 measure or decrease\n",
    "confusion between classes?\n",
    "</a>"
   ]
  },
  {
   "cell_type": "markdown",
   "metadata": {},
   "source": [
    "### Split the data randomly into training and testing sets (70-30 %)."
   ]
  },
  {
   "cell_type": "code",
   "execution_count": 106,
   "metadata": {},
   "outputs": [],
   "source": [
    "from sklearn.model_selection import train_test_split\n",
    "\n",
    "X = X_tfidf\n",
    "y = selected_classes_df['Genre'].values\n",
    "X_train, X_test, y_train, y_test = train_test_split(X, y, test_size=0.3)"
   ]
  },
  {
   "cell_type": "markdown",
   "metadata": {},
   "source": [
    "### Train SVM and report confusion matrix. <a href='#1'>[14]"
   ]
  },
  {
   "cell_type": "code",
   "execution_count": 107,
   "metadata": {},
   "outputs": [],
   "source": [
    "from sklearn.linear_model import SGDClassifier\n",
    "clf = SGDClassifier(loss='hinge', penalty='l2', alpha=1e-3, random_state=42, max_iter=5, tol=None)"
   ]
  },
  {
   "cell_type": "code",
   "execution_count": 108,
   "metadata": {},
   "outputs": [
    {
     "data": {
      "text/plain": [
       "SGDClassifier(alpha=0.001, max_iter=5, random_state=42, tol=None)"
      ]
     },
     "execution_count": 108,
     "metadata": {},
     "output_type": "execute_result"
    }
   ],
   "source": [
    "# fit SVM SGDClassifier to our data.\n",
    "clf.fit(X_train, y_train)"
   ]
  },
  {
   "cell_type": "code",
   "execution_count": 109,
   "metadata": {},
   "outputs": [
    {
     "name": "stdout",
     "output_type": "stream",
     "text": [
      "Accuracy of SVM(SGDClassifier):  0.6074249605055292\n"
     ]
    }
   ],
   "source": [
    "from sklearn.metrics import accuracy_score\n",
    "# make prediction.\n",
    "predicted = clf.predict(X_test)\n",
    "# print the Accuracy of SVM.\n",
    "print(\"Accuracy of SVM(SGDClassifier): \", accuracy_score(y_test, predicted))"
   ]
  },
  {
   "cell_type": "markdown",
   "metadata": {},
   "source": [
    "### Report confusion matrix"
   ]
  },
  {
   "cell_type": "code",
   "execution_count": 110,
   "metadata": {},
   "outputs": [
    {
     "data": {
      "text/plain": [
       "array([[  11,   12,  146,    0,    4],\n",
       "       [   0,  440,  894,    1,    8],\n",
       "       [   0,   61, 1698,    0,    2],\n",
       "       [   0,    7,  248,    5,    0],\n",
       "       [   0,    5,  103,    0,  153]])"
      ]
     },
     "execution_count": 110,
     "metadata": {},
     "output_type": "execute_result"
    }
   ],
   "source": [
    "from sklearn import metrics\n",
    "metrics.confusion_matrix(y_test, predicted)"
   ]
  },
  {
   "cell_type": "code",
   "execution_count": 111,
   "metadata": {},
   "outputs": [
    {
     "data": {
      "text/plain": [
       "<matplotlib.axes._subplots.AxesSubplot at 0x17b5ed890>"
      ]
     },
     "execution_count": 111,
     "metadata": {},
     "output_type": "execute_result"
    },
    {
     "data": {
      "image/png": "[encoded data removed]",
      "text/plain": [
       "<Figure size 432x288 with 1 Axes>"
      ]
     },
     "metadata": {},
     "output_type": "display_data"
    }
   ],
   "source": [
    "from sklearn.metrics import confusion_matrix\n",
    "import seaborn as sns; sns.set()\n",
    "\n",
    "mat = confusion_matrix(y_test, predicted)\n",
    "\n",
    "sns.heatmap(mat.T, square=True, annot=True, fmt='d', cbar=False,\n",
    "            xticklabels=selected_classes_df['Genre'].unique(), yticklabels=selected_classes_df['Genre'].unique())"
   ]
  },
  {
   "cell_type": "markdown",
   "metadata": {},
   "source": [
    "### Classification report"
   ]
  },
  {
   "cell_type": "code",
   "execution_count": 112,
   "metadata": {},
   "outputs": [
    {
     "name": "stdout",
     "output_type": "stream",
     "text": [
      "              precision    recall  f1-score   support\n",
      "\n",
      "   adventure       1.00      0.06      0.12       173\n",
      "      comedy       0.84      0.33      0.47      1343\n",
      "       drama       0.55      0.96      0.70      1761\n",
      "     romance       0.83      0.02      0.04       260\n",
      "     western       0.92      0.59      0.71       261\n",
      "\n",
      "    accuracy                           0.61      3798\n",
      "   macro avg       0.83      0.39      0.41      3798\n",
      "weighted avg       0.72      0.61      0.55      3798\n",
      "\n"
     ]
    }
   ],
   "source": [
    "print(metrics.classification_report(y_test, predicted))"
   ]
  },
  {
   "cell_type": "markdown",
   "metadata": {},
   "source": [
    "### Train SVM(SVC) and report confusion matrix. <a href='#1'>[20]"
   ]
  },
  {
   "cell_type": "code",
   "execution_count": 113,
   "metadata": {},
   "outputs": [
    {
     "name": "stdout",
     "output_type": "stream",
     "text": [
      "Accuracy of SVM(SVC):  0.6074249605055292\n"
     ]
    }
   ],
   "source": [
    "from sklearn import svm\n",
    "# initialize our svm.SVC model wity kernel is 'linear'.\n",
    "linear_svc = svm.SVC(kernel='linear')\n",
    "# fit svm.SVC to our data.\n",
    "linear_svc.fit(X_train, y_train)\n",
    "# make prediction.\n",
    "predicted = linear_svc.predict(X_test)\n",
    "# print the Accuracy of SVM.\n",
    "print(\"Accuracy of SVM(SVC): \", accuracy_score(y_test, predicted))"
   ]
  },
  {
   "cell_type": "markdown",
   "metadata": {},
   "source": [
    "### Report confusion matrix"
   ]
  },
  {
   "cell_type": "code",
   "execution_count": 114,
   "metadata": {},
   "outputs": [
    {
     "data": {
      "text/plain": [
       "array([[  11,   12,  146,    0,    4],\n",
       "       [   0,  440,  894,    1,    8],\n",
       "       [   0,   61, 1698,    0,    2],\n",
       "       [   0,    7,  248,    5,    0],\n",
       "       [   0,    5,  103,    0,  153]])"
      ]
     },
     "execution_count": 114,
     "metadata": {},
     "output_type": "execute_result"
    }
   ],
   "source": [
    "from sklearn import metrics\n",
    "metrics.confusion_matrix(y_test, predicted)"
   ]
  },
  {
   "cell_type": "code",
   "execution_count": 115,
   "metadata": {},
   "outputs": [
    {
     "data": {
      "text/plain": [
       "<matplotlib.axes._subplots.AxesSubplot at 0x17b33f490>"
      ]
     },
     "execution_count": 115,
     "metadata": {},
     "output_type": "execute_result"
    },
    {
     "data": {
      "image/png": "[encoded data removed]",
      "text/plain": [
       "<Figure size 432x288 with 1 Axes>"
      ]
     },
     "metadata": {},
     "output_type": "display_data"
    }
   ],
   "source": [
    "from sklearn.metrics import confusion_matrix\n",
    "import seaborn as sns; sns.set()\n",
    "\n",
    "mat = confusion_matrix(y_test, predicted)\n",
    "\n",
    "sns.heatmap(mat.T, square=True, annot=True, fmt='d', cbar=False,\n",
    "            xticklabels=selected_classes_df['Genre'].unique(), yticklabels=selected_classes_df['Genre'].unique())"
   ]
  },
  {
   "cell_type": "markdown",
   "metadata": {},
   "source": [
    "### Classification report"
   ]
  },
  {
   "cell_type": "code",
   "execution_count": 116,
   "metadata": {},
   "outputs": [
    {
     "name": "stdout",
     "output_type": "stream",
     "text": [
      "              precision    recall  f1-score   support\n",
      "\n",
      "   adventure       1.00      0.06      0.12       173\n",
      "      comedy       0.84      0.33      0.47      1343\n",
      "       drama       0.55      0.96      0.70      1761\n",
      "     romance       0.83      0.02      0.04       260\n",
      "     western       0.92      0.59      0.71       261\n",
      "\n",
      "    accuracy                           0.61      3798\n",
      "   macro avg       0.83      0.39      0.41      3798\n",
      "weighted avg       0.72      0.61      0.55      3798\n",
      "\n"
     ]
    }
   ],
   "source": [
    "print(metrics.classification_report(y_test, predicted))"
   ]
  },
  {
   "cell_type": "markdown",
   "metadata": {},
   "source": [
    "## Train Multinomial NB and report confusion matrix.<a href='#1'>[14]"
   ]
  },
  {
   "cell_type": "code",
   "execution_count": 117,
   "metadata": {},
   "outputs": [
    {
     "data": {
      "text/plain": [
       "MultinomialNB()"
      ]
     },
     "execution_count": 117,
     "metadata": {},
     "output_type": "execute_result"
    }
   ],
   "source": [
    "from sklearn.naive_bayes import MultinomialNB\n",
    "\n",
    "clf = MultinomialNB()\n",
    "# fit Multinomial NB classifier to our data.\n",
    "clf.fit(X_train, y_train)"
   ]
  },
  {
   "cell_type": "code",
   "execution_count": 118,
   "metadata": {},
   "outputs": [
    {
     "name": "stdout",
     "output_type": "stream",
     "text": [
      "Accuracy of Multinomial NB:  0.5071090047393365\n"
     ]
    }
   ],
   "source": [
    "from sklearn.metrics import accuracy_score\n",
    "# make prediction.\n",
    "predicted = clf.predict(X_test)\n",
    "# print the Accuracy of Multinomial NB.\n",
    "print(\"Accuracy of Multinomial NB: \", accuracy_score(y_test, predicted))"
   ]
  },
  {
   "cell_type": "markdown",
   "metadata": {},
   "source": [
    "### Report confusion matrix"
   ]
  },
  {
   "cell_type": "code",
   "execution_count": 119,
   "metadata": {},
   "outputs": [
    {
     "data": {
      "text/plain": [
       "array([[   0,    3,  170,    0,    0],\n",
       "       [   0,  178, 1165,    0,    0],\n",
       "       [   0,   13, 1748,    0,    0],\n",
       "       [   0,    2,  258,    0,    0],\n",
       "       [   0,    6,  255,    0,    0]])"
      ]
     },
     "execution_count": 119,
     "metadata": {},
     "output_type": "execute_result"
    }
   ],
   "source": [
    "from sklearn import metrics\n",
    "metrics.confusion_matrix(y_test, predicted)"
   ]
  },
  {
   "cell_type": "code",
   "execution_count": 120,
   "metadata": {},
   "outputs": [
    {
     "data": {
      "text/plain": [
       "<matplotlib.axes._subplots.AxesSubplot at 0x17b2a7bd0>"
      ]
     },
     "execution_count": 120,
     "metadata": {},
     "output_type": "execute_result"
    },
    {
     "data": {
      "image/png": "[encoded data removed]",
      "text/plain": [
       "<Figure size 432x288 with 1 Axes>"
      ]
     },
     "metadata": {},
     "output_type": "display_data"
    }
   ],
   "source": [
    "from sklearn.metrics import confusion_matrix\n",
    "import seaborn as sns; sns.set()\n",
    "\n",
    "mat = confusion_matrix(y_test, predicted)\n",
    "\n",
    "sns.heatmap(mat.T, square=True, annot=True, fmt='d', cbar=False,\n",
    "            xticklabels=selected_classes_df['Genre'].unique(), yticklabels=selected_classes_df['Genre'].unique())"
   ]
  },
  {
   "cell_type": "markdown",
   "metadata": {},
   "source": [
    "### Classification report"
   ]
  },
  {
   "cell_type": "code",
   "execution_count": 121,
   "metadata": {},
   "outputs": [
    {
     "name": "stdout",
     "output_type": "stream",
     "text": [
      "              precision    recall  f1-score   support\n",
      "\n",
      "   adventure       0.00      0.00      0.00       173\n",
      "      comedy       0.88      0.13      0.23      1343\n",
      "       drama       0.49      0.99      0.65      1761\n",
      "     romance       0.00      0.00      0.00       260\n",
      "     western       0.00      0.00      0.00       261\n",
      "\n",
      "    accuracy                           0.51      3798\n",
      "   macro avg       0.27      0.23      0.18      3798\n",
      "weighted avg       0.54      0.51      0.38      3798\n",
      "\n"
     ]
    },
    {
     "name": "stderr",
     "output_type": "stream",
     "text": [
      "/Users/jingyang/opt/anaconda3/lib/python3.7/site-packages/sklearn/metrics/_classification.py:1221: UndefinedMetricWarning: Precision and F-score are ill-defined and being set to 0.0 in labels with no predicted samples. Use `zero_division` parameter to control this behavior.\n",
      "  _warn_prf(average, modifier, msg_start, len(result))\n"
     ]
    }
   ],
   "source": [
    "print(metrics.classification_report(y_test, predicted))"
   ]
  },
  {
   "cell_type": "markdown",
   "metadata": {},
   "source": [
    "## Which algorithm has a higher weighted F1 measure and why?"
   ]
  },
  {
   "cell_type": "markdown",
   "metadata": {},
   "source": [
    "### According to the above classification reports, we can see that the weighted average F1 measure of the SVM model is 0.55, the weighted average F1 measure of the Multinomial NB model is 0.38, therefore, SVM algorithm has a higher weighted F1 measure. The reason is that the F1 score can be interpreted as a weighted average of the precision and recall, where an F1 score reaches its best value at 1 and worst score at 0. In the multi-class and multi-label case, this is the average of the F1 score of each class with weighting depending on the average parameter."
   ]
  },
  {
   "cell_type": "markdown",
   "metadata": {},
   "source": [
    "## Does changing the kernel of the SVM change the weighted F1 measure or decrease confusion between classes?"
   ]
  },
  {
   "cell_type": "markdown",
   "metadata": {},
   "source": [
    "### Using GridSearchCV which exhaustive search over specified parameter values for an estimator, for tuning the hyperparameter 'kernel' to determining whether changing the kernel of SVM change the weighted F1 measure or decrease confusion between classes.<a href='#1'>[18][19]"
   ]
  },
  {
   "cell_type": "code",
   "execution_count": 122,
   "metadata": {},
   "outputs": [
    {
     "name": "stdout",
     "output_type": "stream",
     "text": [
      "Fitting 5 folds for each of 4 candidates, totalling 20 fits\n",
      "[CV] kernel=linear ...................................................\n"
     ]
    },
    {
     "name": "stderr",
     "output_type": "stream",
     "text": [
      "[Parallel(n_jobs=1)]: Using backend SequentialBackend with 1 concurrent workers.\n"
     ]
    },
    {
     "name": "stdout",
     "output_type": "stream",
     "text": [
      "[CV] ....................... kernel=linear, score=0.687, total= 1.1min\n",
      "[CV] kernel=linear ...................................................\n"
     ]
    },
    {
     "name": "stderr",
     "output_type": "stream",
     "text": [
      "[Parallel(n_jobs=1)]: Done   1 out of   1 | elapsed:  1.1min remaining:    0.0s\n"
     ]
    },
    {
     "name": "stdout",
     "output_type": "stream",
     "text": [
      "[CV] ....................... kernel=linear, score=0.717, total= 1.2min\n",
      "[CV] kernel=linear ...................................................\n"
     ]
    },
    {
     "name": "stderr",
     "output_type": "stream",
     "text": [
      "[Parallel(n_jobs=1)]: Done   2 out of   2 | elapsed:  2.3min remaining:    0.0s\n"
     ]
    },
    {
     "name": "stdout",
     "output_type": "stream",
     "text": [
      "[CV] ....................... kernel=linear, score=0.692, total= 1.0min\n",
      "[CV] kernel=linear ...................................................\n",
      "[CV] ....................... kernel=linear, score=0.701, total= 1.1min\n",
      "[CV] kernel=linear ...................................................\n",
      "[CV] ....................... kernel=linear, score=0.677, total= 1.2min\n",
      "[CV] kernel=poly .....................................................\n",
      "[CV] ......................... kernel=poly, score=0.484, total= 1.8min\n",
      "[CV] kernel=poly .....................................................\n",
      "[CV] ......................... kernel=poly, score=0.484, total= 1.9min\n",
      "[CV] kernel=poly .....................................................\n",
      "[CV] ......................... kernel=poly, score=0.484, total= 1.9min\n",
      "[CV] kernel=poly .....................................................\n",
      "[CV] ......................... kernel=poly, score=0.488, total= 1.9min\n",
      "[CV] kernel=poly .....................................................\n",
      "[CV] ......................... kernel=poly, score=0.479, total= 1.9min\n",
      "[CV] kernel=rbf ......................................................\n",
      "[CV] .......................... kernel=rbf, score=0.653, total= 1.8min\n",
      "[CV] kernel=rbf ......................................................\n",
      "[CV] .......................... kernel=rbf, score=0.679, total= 1.8min\n",
      "[CV] kernel=rbf ......................................................\n",
      "[CV] .......................... kernel=rbf, score=0.652, total= 1.6min\n",
      "[CV] kernel=rbf ......................................................\n",
      "[CV] .......................... kernel=rbf, score=0.665, total= 1.6min\n",
      "[CV] kernel=rbf ......................................................\n",
      "[CV] .......................... kernel=rbf, score=0.636, total= 1.6min\n",
      "[CV] kernel=sigmoid ..................................................\n",
      "[CV] ...................... kernel=sigmoid, score=0.685, total= 1.1min\n",
      "[CV] kernel=sigmoid ..................................................\n",
      "[CV] ...................... kernel=sigmoid, score=0.717, total= 1.1min\n",
      "[CV] kernel=sigmoid ..................................................\n",
      "[CV] ...................... kernel=sigmoid, score=0.687, total= 1.0min\n",
      "[CV] kernel=sigmoid ..................................................\n",
      "[CV] ...................... kernel=sigmoid, score=0.698, total=  59.5s\n",
      "[CV] kernel=sigmoid ..................................................\n",
      "[CV] ...................... kernel=sigmoid, score=0.677, total=  57.1s\n"
     ]
    },
    {
     "name": "stderr",
     "output_type": "stream",
     "text": [
      "[Parallel(n_jobs=1)]: Done  20 out of  20 | elapsed: 28.5min finished\n"
     ]
    },
    {
     "data": {
      "text/plain": [
       "GridSearchCV(estimator=SVC(),\n",
       "             param_grid={'kernel': ['linear', 'poly', 'rbf', 'sigmoid']},\n",
       "             verbose=3)"
      ]
     },
     "execution_count": 122,
     "metadata": {},
     "output_type": "execute_result"
    }
   ],
   "source": [
    "# import GridSearchCV which exhaustive search over specified parameter values for an estimator.\n",
    "from sklearn.model_selection import GridSearchCV\n",
    "from sklearn.svm import SVC\n",
    "# Set the GridSearchCV hyperparameters 'kernel' of SVC to be 'linear', 'poly', 'rbf', 'sigmoid', 'precomputed'.\n",
    "param_grid_svc = {'kernel': ['linear', 'poly', 'rbf', 'sigmoid']}\n",
    "# GridSearchCV with our SVC model.\n",
    "grid_search = GridSearchCV(SVC(), param_grid_svc, refit=True, verbose=3)\n",
    "# fitting the model for GridSearchCV.\n",
    "grid_search.fit(X_train, y_train)"
   ]
  },
  {
   "cell_type": "code",
   "execution_count": 123,
   "metadata": {},
   "outputs": [
    {
     "name": "stdout",
     "output_type": "stream",
     "text": [
      "grid_search best params :  {'kernel': 'linear'} grid_search best estimator  SVC(kernel='linear')\n"
     ]
    }
   ],
   "source": [
    "# print best parameter and estimator after tuning.\n",
    "print(\"grid_search best params : \", grid_search.best_params_, \"grid_search best estimator \", grid_search.best_estimator_)\n",
    "\n",
    "\n",
    "\n"
   ]
  },
  {
   "cell_type": "code",
   "execution_count": 124,
   "metadata": {},
   "outputs": [
    {
     "name": "stdout",
     "output_type": "stream",
     "text": [
      "Accuracy of SVM(SVC) after tuning kernel hyperparameter:  0.7037914691943128\n"
     ]
    }
   ],
   "source": [
    "# make predictions.\n",
    "grid_predictions = grid_search.predict(X_test)\n",
    "# print the Accuracy of SVM.\n",
    "print(\"Accuracy of SVM(SVC) after tuning kernel hyperparameter: \", accuracy_score(y_test, grid_predictions))"
   ]
  },
  {
   "cell_type": "markdown",
   "metadata": {},
   "source": [
    "### Report confusion matrix"
   ]
  },
  {
   "cell_type": "code",
   "execution_count": 126,
   "metadata": {},
   "outputs": [
    {
     "data": {
      "text/plain": [
       "array([[  45,   17,  104,    0,    7],\n",
       "       [   3,  907,  416,   11,    6],\n",
       "       [   1,  273, 1460,   24,    3],\n",
       "       [   0,   45,  163,   52,    0],\n",
       "       [   1,   11,   40,    0,  209]])"
      ]
     },
     "execution_count": 126,
     "metadata": {},
     "output_type": "execute_result"
    }
   ],
   "source": [
    "from sklearn import metrics\n",
    "metrics.confusion_matrix(y_test, grid_predictions)"
   ]
  },
  {
   "cell_type": "code",
   "execution_count": 127,
   "metadata": {},
   "outputs": [
    {
     "data": {
      "image/png": "[encoded data removed]",
      "text/plain": [
       "<Figure size 1080x720 with 2 Axes>"
      ]
     },
     "metadata": {},
     "output_type": "display_data"
    }
   ],
   "source": [
    "from sklearn.metrics import confusion_matrix\n",
    "conf_mat = confusion_matrix(y_test, grid_predictions)\n",
    "fig, ax = plt.subplots(figsize=(15,10))\n",
    "sns.heatmap(conf_mat, annot=True, fmt='d',\n",
    "            xticklabels=selected_classes_df['Genre'].unique(), yticklabels=selected_classes_df['Genre'].unique())\n",
    "plt.ylabel('Actual')\n",
    "plt.xlabel('Predicted')\n",
    "plt.show()"
   ]
  },
  {
   "cell_type": "code",
   "execution_count": 128,
   "metadata": {},
   "outputs": [
    {
     "name": "stdout",
     "output_type": "stream",
     "text": [
      "              precision    recall  f1-score   support\n",
      "\n",
      "   adventure       0.90      0.26      0.40       173\n",
      "      comedy       0.72      0.68      0.70      1343\n",
      "       drama       0.67      0.83      0.74      1761\n",
      "     romance       0.60      0.20      0.30       260\n",
      "     western       0.93      0.80      0.86       261\n",
      "\n",
      "    accuracy                           0.70      3798\n",
      "   macro avg       0.76      0.55      0.60      3798\n",
      "weighted avg       0.71      0.70      0.69      3798\n",
      "\n"
     ]
    }
   ],
   "source": [
    "# print classification report.\n",
    "print(metrics.classification_report(y_test, grid_predictions))"
   ]
  },
  {
   "cell_type": "markdown",
   "metadata": {},
   "source": [
    "## From the above GridSearchCV approach for tuning the kernel hyperparamter, we can find that changing the kernel of the SVM make influences on the weighted F1 measure and the confusion between classes."
   ]
  },
  {
   "cell_type": "markdown",
   "metadata": {},
   "source": [
    "# Task 6.<a id='top'></a>\n",
    "\n",
    "Perform part-of-speech tagging on the raw data (i.e. prior to cleaning it), clean as in Task 3, and extract the nouns only to obtain a bag-of-words tf-idf weighted vector representation using only the nouns. Repeat question Task 5. How does this weighted F1 measure compare with that of Task 5? How does the size of the vocabulary compare with that of Task 5?\n",
    "</a>"
   ]
  },
  {
   "cell_type": "markdown",
   "metadata": {},
   "source": [
    "## Perform part-of-speech tagging on the raw data (i.e. prior to cleaning it)."
   ]
  },
  {
   "cell_type": "markdown",
   "metadata": {},
   "source": [
    "### Firstly get the raw data."
   ]
  },
  {
   "cell_type": "code",
   "execution_count": 148,
   "metadata": {},
   "outputs": [
    {
     "data": {
      "text/html": [
       "<div>\n",
       "<style scoped>\n",
       "    .dataframe tbody tr th:only-of-type {\n",
       "        vertical-align: middle;\n",
       "    }\n",
       "\n",
       "    .dataframe tbody tr th {\n",
       "        vertical-align: top;\n",
       "    }\n",
       "\n",
       "    .dataframe thead th {\n",
       "        text-align: right;\n",
       "    }\n",
       "</style>\n",
       "<table border=\"1\" class=\"dataframe\">\n",
       "  <thead>\n",
       "    <tr style=\"text-align: right;\">\n",
       "      <th></th>\n",
       "      <th>Release Year</th>\n",
       "      <th>Title</th>\n",
       "      <th>Origin/Ethnicity</th>\n",
       "      <th>Director</th>\n",
       "      <th>Cast</th>\n",
       "      <th>Genre</th>\n",
       "      <th>Wiki Page</th>\n",
       "      <th>Plot</th>\n",
       "    </tr>\n",
       "  </thead>\n",
       "  <tbody>\n",
       "    <tr>\n",
       "      <th>0</th>\n",
       "      <td>1901</td>\n",
       "      <td>Kansas Saloon Smashers</td>\n",
       "      <td>American</td>\n",
       "      <td>Unknown</td>\n",
       "      <td>NaN</td>\n",
       "      <td>unknown</td>\n",
       "      <td>https://en.wikipedia.org/wiki/Kansas_Saloon_Sm...</td>\n",
       "      <td>A bartender is working at a saloon, serving dr...</td>\n",
       "    </tr>\n",
       "    <tr>\n",
       "      <th>1</th>\n",
       "      <td>1901</td>\n",
       "      <td>Love by the Light of the Moon</td>\n",
       "      <td>American</td>\n",
       "      <td>Unknown</td>\n",
       "      <td>NaN</td>\n",
       "      <td>unknown</td>\n",
       "      <td>https://en.wikipedia.org/wiki/Love_by_the_Ligh...</td>\n",
       "      <td>The moon, painted with a smiling face hangs ov...</td>\n",
       "    </tr>\n",
       "    <tr>\n",
       "      <th>2</th>\n",
       "      <td>1901</td>\n",
       "      <td>The Martyred Presidents</td>\n",
       "      <td>American</td>\n",
       "      <td>Unknown</td>\n",
       "      <td>NaN</td>\n",
       "      <td>unknown</td>\n",
       "      <td>https://en.wikipedia.org/wiki/The_Martyred_Pre...</td>\n",
       "      <td>The film, just over a minute long, is composed...</td>\n",
       "    </tr>\n",
       "    <tr>\n",
       "      <th>3</th>\n",
       "      <td>1901</td>\n",
       "      <td>Terrible Teddy, the Grizzly King</td>\n",
       "      <td>American</td>\n",
       "      <td>Unknown</td>\n",
       "      <td>NaN</td>\n",
       "      <td>unknown</td>\n",
       "      <td>https://en.wikipedia.org/wiki/Terrible_Teddy,_...</td>\n",
       "      <td>Lasting just 61 seconds and consisting of two ...</td>\n",
       "    </tr>\n",
       "    <tr>\n",
       "      <th>4</th>\n",
       "      <td>1902</td>\n",
       "      <td>Jack and the Beanstalk</td>\n",
       "      <td>American</td>\n",
       "      <td>George S. Fleming, Edwin S. Porter</td>\n",
       "      <td>NaN</td>\n",
       "      <td>unknown</td>\n",
       "      <td>https://en.wikipedia.org/wiki/Jack_and_the_Bea...</td>\n",
       "      <td>The earliest known adaptation of the classic f...</td>\n",
       "    </tr>\n",
       "  </tbody>\n",
       "</table>\n",
       "</div>"
      ],
      "text/plain": [
       "   Release Year                             Title Origin/Ethnicity  \\\n",
       "0          1901            Kansas Saloon Smashers         American   \n",
       "1          1901     Love by the Light of the Moon         American   \n",
       "2          1901           The Martyred Presidents         American   \n",
       "3          1901  Terrible Teddy, the Grizzly King         American   \n",
       "4          1902            Jack and the Beanstalk         American   \n",
       "\n",
       "                             Director Cast    Genre  \\\n",
       "0                             Unknown  NaN  unknown   \n",
       "1                             Unknown  NaN  unknown   \n",
       "2                             Unknown  NaN  unknown   \n",
       "3                             Unknown  NaN  unknown   \n",
       "4  George S. Fleming, Edwin S. Porter  NaN  unknown   \n",
       "\n",
       "                                           Wiki Page  \\\n",
       "0  https://en.wikipedia.org/wiki/Kansas_Saloon_Sm...   \n",
       "1  https://en.wikipedia.org/wiki/Love_by_the_Ligh...   \n",
       "2  https://en.wikipedia.org/wiki/The_Martyred_Pre...   \n",
       "3  https://en.wikipedia.org/wiki/Terrible_Teddy,_...   \n",
       "4  https://en.wikipedia.org/wiki/Jack_and_the_Bea...   \n",
       "\n",
       "                                                Plot  \n",
       "0  A bartender is working at a saloon, serving dr...  \n",
       "1  The moon, painted with a smiling face hangs ov...  \n",
       "2  The film, just over a minute long, is composed...  \n",
       "3  Lasting just 61 seconds and consisting of two ...  \n",
       "4  The earliest known adaptation of the classic f...  "
      ]
     },
     "execution_count": 148,
     "metadata": {},
     "output_type": "execute_result"
    }
   ],
   "source": [
    "Wikipedia_Movie_Plots_raw = pd.read_csv(\"wiki_movie_plots_deduped.csv\")\n",
    "Wikipedia_Movie_Plots_raw.head()"
   ]
  },
  {
   "cell_type": "markdown",
   "metadata": {},
   "source": [
    "### Select Drama, comedy, adventure, romance, western Genre classes."
   ]
  },
  {
   "cell_type": "code",
   "execution_count": 149,
   "metadata": {},
   "outputs": [
    {
     "data": {
      "text/html": [
       "<div>\n",
       "<style scoped>\n",
       "    .dataframe tbody tr th:only-of-type {\n",
       "        vertical-align: middle;\n",
       "    }\n",
       "\n",
       "    .dataframe tbody tr th {\n",
       "        vertical-align: top;\n",
       "    }\n",
       "\n",
       "    .dataframe thead th {\n",
       "        text-align: right;\n",
       "    }\n",
       "</style>\n",
       "<table border=\"1\" class=\"dataframe\">\n",
       "  <thead>\n",
       "    <tr style=\"text-align: right;\">\n",
       "      <th></th>\n",
       "      <th>Release Year</th>\n",
       "      <th>Title</th>\n",
       "      <th>Origin/Ethnicity</th>\n",
       "      <th>Director</th>\n",
       "      <th>Cast</th>\n",
       "      <th>Genre</th>\n",
       "      <th>Wiki Page</th>\n",
       "      <th>Plot</th>\n",
       "    </tr>\n",
       "  </thead>\n",
       "  <tbody>\n",
       "    <tr>\n",
       "      <th>6</th>\n",
       "      <td>1903</td>\n",
       "      <td>The Great Train Robbery</td>\n",
       "      <td>American</td>\n",
       "      <td>Edwin S. Porter</td>\n",
       "      <td>NaN</td>\n",
       "      <td>western</td>\n",
       "      <td>https://en.wikipedia.org/wiki/The_Great_Train_...</td>\n",
       "      <td>The film opens with two bandits breaking into ...</td>\n",
       "    </tr>\n",
       "    <tr>\n",
       "      <th>7</th>\n",
       "      <td>1904</td>\n",
       "      <td>The Suburbanite</td>\n",
       "      <td>American</td>\n",
       "      <td>Wallace McCutcheon</td>\n",
       "      <td>NaN</td>\n",
       "      <td>comedy</td>\n",
       "      <td>https://en.wikipedia.org/wiki/The_Suburbanite</td>\n",
       "      <td>The film is about a family who move to the sub...</td>\n",
       "    </tr>\n",
       "    <tr>\n",
       "      <th>14</th>\n",
       "      <td>1907</td>\n",
       "      <td>How Brown Saw the Baseball Game</td>\n",
       "      <td>American</td>\n",
       "      <td>Unknown</td>\n",
       "      <td>Unknown</td>\n",
       "      <td>comedy</td>\n",
       "      <td>https://en.wikipedia.org/wiki/How_Brown_Saw_th...</td>\n",
       "      <td>Before heading out to a baseball game at a nea...</td>\n",
       "    </tr>\n",
       "    <tr>\n",
       "      <th>15</th>\n",
       "      <td>1907</td>\n",
       "      <td>Laughing Gas</td>\n",
       "      <td>American</td>\n",
       "      <td>Edwin Stanton Porter</td>\n",
       "      <td>Bertha Regustus, Edward Boulden</td>\n",
       "      <td>comedy</td>\n",
       "      <td>https://en.wikipedia.org/wiki/Laughing_Gas_(fi...</td>\n",
       "      <td>The plot is that of a black woman going to the...</td>\n",
       "    </tr>\n",
       "    <tr>\n",
       "      <th>16</th>\n",
       "      <td>1908</td>\n",
       "      <td>The Adventures of Dollie</td>\n",
       "      <td>American</td>\n",
       "      <td>D. W. Griffith</td>\n",
       "      <td>Arthur V. Johnson, Linda Arvidson</td>\n",
       "      <td>drama</td>\n",
       "      <td>https://en.wikipedia.org/wiki/The_Adventures_o...</td>\n",
       "      <td>On a beautiful summer day a father and mother ...</td>\n",
       "    </tr>\n",
       "    <tr>\n",
       "      <th>...</th>\n",
       "      <td>...</td>\n",
       "      <td>...</td>\n",
       "      <td>...</td>\n",
       "      <td>...</td>\n",
       "      <td>...</td>\n",
       "      <td>...</td>\n",
       "      <td>...</td>\n",
       "      <td>...</td>\n",
       "    </tr>\n",
       "    <tr>\n",
       "      <th>34874</th>\n",
       "      <td>2011</td>\n",
       "      <td>White as Snow</td>\n",
       "      <td>Turkish</td>\n",
       "      <td>Selim Güneş</td>\n",
       "      <td>Hakan Korkmaz, Sinem İslamoğlu &amp; Gürkan Piri O...</td>\n",
       "      <td>drama</td>\n",
       "      <td>https://en.wikipedia.org/wiki/White_as_Snow_(f...</td>\n",
       "      <td>Hasan is a twelve-year-old boy living with his...</td>\n",
       "    </tr>\n",
       "    <tr>\n",
       "      <th>34875</th>\n",
       "      <td>2011</td>\n",
       "      <td>Once Upon a Time in Anatolia</td>\n",
       "      <td>Turkish</td>\n",
       "      <td>Nuri Bilge Ceylan</td>\n",
       "      <td>Yılmaz Erdoğan, Taner Birsel &amp; Ufuk Karaali</td>\n",
       "      <td>drama</td>\n",
       "      <td>https://en.wikipedia.org/wiki/Once_Upon_a_Time...</td>\n",
       "      <td>Through the night, three cars carry a small gr...</td>\n",
       "    </tr>\n",
       "    <tr>\n",
       "      <th>34876</th>\n",
       "      <td>2013</td>\n",
       "      <td>Selam</td>\n",
       "      <td>Turkish</td>\n",
       "      <td>Levent Demirkale</td>\n",
       "      <td>Bucin Abdullah, Selma Alispahic, Tina Cvitanov...</td>\n",
       "      <td>drama</td>\n",
       "      <td>https://en.wikipedia.org/wiki/Selam_(film)</td>\n",
       "      <td>The film opens with a Senegalese boy named Kha...</td>\n",
       "    </tr>\n",
       "    <tr>\n",
       "      <th>34882</th>\n",
       "      <td>2017</td>\n",
       "      <td>Çalgı Çengi İkimiz</td>\n",
       "      <td>Turkish</td>\n",
       "      <td>Selçuk Aydemir</td>\n",
       "      <td>Ahmet Kural, Murat Cemcir</td>\n",
       "      <td>comedy</td>\n",
       "      <td>https://en.wikipedia.org/wiki/%C3%87alg%C4%B1_...</td>\n",
       "      <td>Two musicians, Salih and Gürkan, described the...</td>\n",
       "    </tr>\n",
       "    <tr>\n",
       "      <th>34883</th>\n",
       "      <td>2017</td>\n",
       "      <td>Olanlar Oldu</td>\n",
       "      <td>Turkish</td>\n",
       "      <td>Hakan Algül</td>\n",
       "      <td>Ata Demirer, Tuvana Türkay, Ülkü Duru</td>\n",
       "      <td>comedy</td>\n",
       "      <td>https://en.wikipedia.org/wiki/Olanlar_Oldu</td>\n",
       "      <td>Zafer, a sailor living with his mother Döndü i...</td>\n",
       "    </tr>\n",
       "  </tbody>\n",
       "</table>\n",
       "<p>12657 rows × 8 columns</p>\n",
       "</div>"
      ],
      "text/plain": [
       "       Release Year                            Title Origin/Ethnicity  \\\n",
       "6              1903          The Great Train Robbery         American   \n",
       "7              1904                  The Suburbanite         American   \n",
       "14             1907  How Brown Saw the Baseball Game         American   \n",
       "15             1907                     Laughing Gas         American   \n",
       "16             1908         The Adventures of Dollie         American   \n",
       "...             ...                              ...              ...   \n",
       "34874          2011                    White as Snow          Turkish   \n",
       "34875          2011     Once Upon a Time in Anatolia          Turkish   \n",
       "34876          2013                            Selam          Turkish   \n",
       "34882          2017               Çalgı Çengi İkimiz          Turkish   \n",
       "34883          2017                     Olanlar Oldu          Turkish   \n",
       "\n",
       "                   Director  \\\n",
       "6           Edwin S. Porter   \n",
       "7        Wallace McCutcheon   \n",
       "14                  Unknown   \n",
       "15     Edwin Stanton Porter   \n",
       "16           D. W. Griffith   \n",
       "...                     ...   \n",
       "34874           Selim Güneş   \n",
       "34875     Nuri Bilge Ceylan   \n",
       "34876      Levent Demirkale   \n",
       "34882        Selçuk Aydemir   \n",
       "34883           Hakan Algül   \n",
       "\n",
       "                                                    Cast    Genre  \\\n",
       "6                                                    NaN  western   \n",
       "7                                                    NaN   comedy   \n",
       "14                                               Unknown   comedy   \n",
       "15                       Bertha Regustus, Edward Boulden   comedy   \n",
       "16                     Arthur V. Johnson, Linda Arvidson    drama   \n",
       "...                                                  ...      ...   \n",
       "34874  Hakan Korkmaz, Sinem İslamoğlu & Gürkan Piri O...    drama   \n",
       "34875        Yılmaz Erdoğan, Taner Birsel & Ufuk Karaali    drama   \n",
       "34876  Bucin Abdullah, Selma Alispahic, Tina Cvitanov...    drama   \n",
       "34882                          Ahmet Kural, Murat Cemcir   comedy   \n",
       "34883              Ata Demirer, Tuvana Türkay, Ülkü Duru   comedy   \n",
       "\n",
       "                                               Wiki Page  \\\n",
       "6      https://en.wikipedia.org/wiki/The_Great_Train_...   \n",
       "7          https://en.wikipedia.org/wiki/The_Suburbanite   \n",
       "14     https://en.wikipedia.org/wiki/How_Brown_Saw_th...   \n",
       "15     https://en.wikipedia.org/wiki/Laughing_Gas_(fi...   \n",
       "16     https://en.wikipedia.org/wiki/The_Adventures_o...   \n",
       "...                                                  ...   \n",
       "34874  https://en.wikipedia.org/wiki/White_as_Snow_(f...   \n",
       "34875  https://en.wikipedia.org/wiki/Once_Upon_a_Time...   \n",
       "34876         https://en.wikipedia.org/wiki/Selam_(film)   \n",
       "34882  https://en.wikipedia.org/wiki/%C3%87alg%C4%B1_...   \n",
       "34883         https://en.wikipedia.org/wiki/Olanlar_Oldu   \n",
       "\n",
       "                                                    Plot  \n",
       "6      The film opens with two bandits breaking into ...  \n",
       "7      The film is about a family who move to the sub...  \n",
       "14     Before heading out to a baseball game at a nea...  \n",
       "15     The plot is that of a black woman going to the...  \n",
       "16     On a beautiful summer day a father and mother ...  \n",
       "...                                                  ...  \n",
       "34874  Hasan is a twelve-year-old boy living with his...  \n",
       "34875  Through the night, three cars carry a small gr...  \n",
       "34876  The film opens with a Senegalese boy named Kha...  \n",
       "34882  Two musicians, Salih and Gürkan, described the...  \n",
       "34883  Zafer, a sailor living with his mother Döndü i...  \n",
       "\n",
       "[12657 rows x 8 columns]"
      ]
     },
     "execution_count": 149,
     "metadata": {},
     "output_type": "execute_result"
    }
   ],
   "source": [
    "# The 'Genre' attribute.\n",
    "Genre = Wikipedia_Movie_Plots_raw['Genre']\n",
    "# Select five movie genres (classes): Drama, comedy, adventure, romance, western\n",
    "selected_classes_raw_df = Wikipedia_Movie_Plots_raw.loc[(Genre == 'drama') | (Genre == 'comedy') | (Genre == 'adventure') | (Genre == 'romance') | (Genre == 'western')]\n",
    "selected_classes_raw_df"
   ]
  },
  {
   "cell_type": "markdown",
   "metadata": {},
   "source": [
    "### Perform part-of-speech tagging on textual attribute 'Plot'."
   ]
  },
  {
   "cell_type": "markdown",
   "metadata": {},
   "source": [
    "**Define a function for part-of-speech tagging**"
   ]
  },
  {
   "cell_type": "code",
   "execution_count": 150,
   "metadata": {},
   "outputs": [],
   "source": [
    "from nltk import pos_tag, word_tokenize\n",
    "def pos_tagging(text):\n",
    "    # preform word tokenize on all of the text.\n",
    "    tokens = word_tokenize(text)\n",
    "    # preform part-of-speech tagging on all of the word tokenized text.\n",
    "    pos_tagging = pos_tag(tokens)\n",
    "    \n",
    "    return pos_tagging"
   ]
  },
  {
   "cell_type": "markdown",
   "metadata": {},
   "source": [
    "### Apply pos_tagging function to 'Plot' attribute of selected_classes_raw_df."
   ]
  },
  {
   "cell_type": "code",
   "execution_count": 151,
   "metadata": {},
   "outputs": [
    {
     "name": "stderr",
     "output_type": "stream",
     "text": [
      "/Users/jingyang/opt/anaconda3/lib/python3.7/site-packages/ipykernel_launcher.py:1: SettingWithCopyWarning: \n",
      "A value is trying to be set on a copy of a slice from a DataFrame.\n",
      "Try using .loc[row_indexer,col_indexer] = value instead\n",
      "\n",
      "See the caveats in the documentation: https://pandas.pydata.org/pandas-docs/stable/user_guide/indexing.html#returning-a-view-versus-a-copy\n",
      "  \"\"\"Entry point for launching an IPython kernel.\n"
     ]
    }
   ],
   "source": [
    "selected_classes_raw_df['Plot'] = selected_classes_raw_df['Plot'].apply(lambda x: pos_tagging(x))"
   ]
  },
  {
   "cell_type": "code",
   "execution_count": 152,
   "metadata": {},
   "outputs": [
    {
     "data": {
      "text/plain": [
       "numpy.ndarray"
      ]
     },
     "execution_count": 152,
     "metadata": {},
     "output_type": "execute_result"
    }
   ],
   "source": [
    "type(selected_classes_raw_df['Plot'].values)"
   ]
  },
  {
   "cell_type": "markdown",
   "metadata": {},
   "source": [
    "### Extract the nouns of attribute 'Plot' using lambda. <a href='#1'>[17]"
   ]
  },
  {
   "cell_type": "code",
   "execution_count": 153,
   "metadata": {},
   "outputs": [
    {
     "name": "stderr",
     "output_type": "stream",
     "text": [
      "/Users/jingyang/opt/anaconda3/lib/python3.7/site-packages/pandas/core/generic.py:5303: SettingWithCopyWarning: \n",
      "A value is trying to be set on a copy of a slice from a DataFrame.\n",
      "Try using .loc[row_indexer,col_indexer] = value instead\n",
      "\n",
      "See the caveats in the documentation: https://pandas.pydata.org/pandas-docs/stable/user_guide/indexing.html#returning-a-view-versus-a-copy\n",
      "  self[name] = value\n"
     ]
    }
   ],
   "source": [
    "selected_classes_raw_df.Plot = selected_classes_raw_df.Plot.apply(lambda x: [(t[0],) for t in x if t[1]=='NN' or t[1]=='NNP' or t[1]=='NNS' or t[1]=='NNPS'])\n",
    "\n"
   ]
  },
  {
   "cell_type": "code",
   "execution_count": 154,
   "metadata": {},
   "outputs": [
    {
     "data": {
      "text/plain": [
       "6        [(film,), (bandits,), (railroad,), (telegraph,...\n",
       "7        [(film,), (family,), (suburbs,), (life,), (Thi...\n",
       "14       [(baseball,), (game,), (ballpark,), (sports,),...\n",
       "15       [(plot,), (woman,), (dentist,), (toothache,), ...\n",
       "16       [(summer,), (day,), (father,), (mother,), (dau...\n",
       "                               ...                        \n",
       "34874    [(Hasan,), (boy,), (living,), (siblings,), (mo...\n",
       "34875    [(night,), (cars,), (group,), (men,), (–,), (p...\n",
       "34876    [(film,), (boy,), (Khadim,), (sister,), (Aya,)...\n",
       "34882    [(musicians,), (Salih,), (Gürkan,), (adventure...\n",
       "34883    [(Zafer,), (sailor,), (living,), (mother,), (D...\n",
       "Name: Plot, Length: 12657, dtype: object"
      ]
     },
     "execution_count": 154,
     "metadata": {},
     "output_type": "execute_result"
    }
   ],
   "source": [
    "selected_classes_raw_df.Plot"
   ]
  },
  {
   "cell_type": "code",
   "execution_count": 155,
   "metadata": {},
   "outputs": [],
   "source": [
    "# Function that convert list of tuples to list of strings.\n",
    "def to_text(words):\n",
    "    # using list comprehension.\n",
    "    text = [item for t in words for item in t]\n",
    "    \n",
    "    return text"
   ]
  },
  {
   "cell_type": "markdown",
   "metadata": {},
   "source": [
    "### Apply to_text() function to all of the rows of 'Plot' using lambda."
   ]
  },
  {
   "cell_type": "code",
   "execution_count": 156,
   "metadata": {},
   "outputs": [
    {
     "name": "stderr",
     "output_type": "stream",
     "text": [
      "/Users/jingyang/opt/anaconda3/lib/python3.7/site-packages/ipykernel_launcher.py:1: SettingWithCopyWarning: \n",
      "A value is trying to be set on a copy of a slice from a DataFrame.\n",
      "Try using .loc[row_indexer,col_indexer] = value instead\n",
      "\n",
      "See the caveats in the documentation: https://pandas.pydata.org/pandas-docs/stable/user_guide/indexing.html#returning-a-view-versus-a-copy\n",
      "  \"\"\"Entry point for launching an IPython kernel.\n"
     ]
    }
   ],
   "source": [
    "selected_classes_raw_df['Plot'] = selected_classes_raw_df['Plot'].apply(lambda x: to_text(x))"
   ]
  },
  {
   "cell_type": "code",
   "execution_count": 157,
   "metadata": {},
   "outputs": [
    {
     "data": {
      "text/plain": [
       "list"
      ]
     },
     "execution_count": 157,
     "metadata": {},
     "output_type": "execute_result"
    }
   ],
   "source": [
    "type(selected_classes_raw_df['Plot'].values[0])"
   ]
  },
  {
   "cell_type": "markdown",
   "metadata": {},
   "source": [
    "**Define a function that convert a list to string using join() function**<a href='#1'>[16]"
   ]
  },
  {
   "cell_type": "code",
   "execution_count": 158,
   "metadata": {},
   "outputs": [],
   "source": [
    "# Function that join all the strings in lists of 'Plot' attribute, resulting in a string type.\n",
    "def join_words(words):\n",
    "    # initialize an empty string.\n",
    "    strl = \" \"\n",
    "    # return string\n",
    "    return (strl.join(words))\n"
   ]
  },
  {
   "cell_type": "markdown",
   "metadata": {},
   "source": [
    "### Apply join_words() function to all of the rows of 'Plot' using lambda."
   ]
  },
  {
   "cell_type": "code",
   "execution_count": 159,
   "metadata": {},
   "outputs": [
    {
     "name": "stderr",
     "output_type": "stream",
     "text": [
      "/Users/jingyang/opt/anaconda3/lib/python3.7/site-packages/ipykernel_launcher.py:1: SettingWithCopyWarning: \n",
      "A value is trying to be set on a copy of a slice from a DataFrame.\n",
      "Try using .loc[row_indexer,col_indexer] = value instead\n",
      "\n",
      "See the caveats in the documentation: https://pandas.pydata.org/pandas-docs/stable/user_guide/indexing.html#returning-a-view-versus-a-copy\n",
      "  \"\"\"Entry point for launching an IPython kernel.\n"
     ]
    }
   ],
   "source": [
    "selected_classes_raw_df['Plot'] = selected_classes_raw_df['Plot'].apply(lambda x: join_words(x))"
   ]
  },
  {
   "cell_type": "code",
   "execution_count": 160,
   "metadata": {},
   "outputs": [
    {
     "data": {
      "text/plain": [
       "str"
      ]
     },
     "execution_count": 160,
     "metadata": {},
     "output_type": "execute_result"
    }
   ],
   "source": [
    "type(selected_classes_raw_df['Plot'].values[0])"
   ]
  },
  {
   "cell_type": "markdown",
   "metadata": {},
   "source": [
    "### Apply remove_stopwords() function to the 'Plot' attribute using lambda. (Remove stop words)"
   ]
  },
  {
   "cell_type": "code",
   "execution_count": 161,
   "metadata": {},
   "outputs": [
    {
     "name": "stderr",
     "output_type": "stream",
     "text": [
      "/Users/jingyang/opt/anaconda3/lib/python3.7/site-packages/ipykernel_launcher.py:1: SettingWithCopyWarning: \n",
      "A value is trying to be set on a copy of a slice from a DataFrame.\n",
      "Try using .loc[row_indexer,col_indexer] = value instead\n",
      "\n",
      "See the caveats in the documentation: https://pandas.pydata.org/pandas-docs/stable/user_guide/indexing.html#returning-a-view-versus-a-copy\n",
      "  \"\"\"Entry point for launching an IPython kernel.\n"
     ]
    }
   ],
   "source": [
    "selected_classes_raw_df['Plot'] = selected_classes_raw_df['Plot'].apply(lambda x: remove_stopwords(x))"
   ]
  },
  {
   "cell_type": "code",
   "execution_count": 162,
   "metadata": {},
   "outputs": [
    {
     "name": "stderr",
     "output_type": "stream",
     "text": [
      "/Users/jingyang/opt/anaconda3/lib/python3.7/site-packages/ipykernel_launcher.py:1: SettingWithCopyWarning: \n",
      "A value is trying to be set on a copy of a slice from a DataFrame.\n",
      "Try using .loc[row_indexer,col_indexer] = value instead\n",
      "\n",
      "See the caveats in the documentation: https://pandas.pydata.org/pandas-docs/stable/user_guide/indexing.html#returning-a-view-versus-a-copy\n",
      "  \"\"\"Entry point for launching an IPython kernel.\n"
     ]
    }
   ],
   "source": [
    "selected_classes_raw_df['Plot'] = selected_classes_raw_df['Plot'].apply(lambda x: remove_non_letter(x))"
   ]
  },
  {
   "cell_type": "markdown",
   "metadata": {},
   "source": [
    "### Apply stemming() function to the 'Plot' attribute using lambda.(Perform stemming)"
   ]
  },
  {
   "cell_type": "code",
   "execution_count": 163,
   "metadata": {},
   "outputs": [
    {
     "name": "stderr",
     "output_type": "stream",
     "text": [
      "/Users/jingyang/opt/anaconda3/lib/python3.7/site-packages/ipykernel_launcher.py:1: SettingWithCopyWarning: \n",
      "A value is trying to be set on a copy of a slice from a DataFrame.\n",
      "Try using .loc[row_indexer,col_indexer] = value instead\n",
      "\n",
      "See the caveats in the documentation: https://pandas.pydata.org/pandas-docs/stable/user_guide/indexing.html#returning-a-view-versus-a-copy\n",
      "  \"\"\"Entry point for launching an IPython kernel.\n"
     ]
    }
   ],
   "source": [
    "selected_classes_raw_df['Plot'] = selected_classes_raw_df['Plot'].apply(lambda x: stemming(x))"
   ]
  },
  {
   "cell_type": "code",
   "execution_count": null,
   "metadata": {},
   "outputs": [],
   "source": []
  },
  {
   "cell_type": "code",
   "execution_count": 164,
   "metadata": {},
   "outputs": [
    {
     "data": {
      "text/plain": [
       "array(['film bandit railroad telegraph offic oper gunpoint train order engin locomot tender station water tank oper train bandit express car messeng box valuabl dynamit other fireman forc engin train locomot bandit passeng train belong passeng loot bandit escap locomot valley hors telegraph offic bound oper awaken daughter meal water relief danc hall stranger local fire feet door telegraph oper rush robberi men poss bandit shootout kill mail',\n",
       "       'film famili suburb life thing wife crockeri arrest',\n",
       "       'basebal game ballpark sport Mr brown highbal cocktail ballpark game game revers player base backward basebal pitcher hand game Mr brown home friend brown hous wife friend proce husband intox',\n",
       "       'plot woman dentist toothach ga way walk home situat laugh everyon catch laughter vendor polic offic',\n",
       "       'summer day father mother daughter dolli outing river mother gypsi ware gypsi mother father gypsi return camp plan dolli parent rescu crew gypsi dolli camp dolli barrel rescu parti camp gypsi escap wagon wagon river barrel water barrel dolli downstream current boy river barrel dolli parent'],\n",
       "      dtype=object)"
      ]
     },
     "execution_count": 164,
     "metadata": {},
     "output_type": "execute_result"
    }
   ],
   "source": [
    "# Check the first 5 rows of 'Plot'.\n",
    "selected_classes_raw_df['Plot'].values[0:5]"
   ]
  },
  {
   "cell_type": "markdown",
   "metadata": {},
   "source": [
    "## Obtain a bag-of-words tf-idf weighted vector representation using only the nouns."
   ]
  },
  {
   "cell_type": "code",
   "execution_count": 165,
   "metadata": {},
   "outputs": [
    {
     "data": {
      "text/plain": [
       "(12657, 50440)"
      ]
     },
     "execution_count": 165,
     "metadata": {},
     "output_type": "execute_result"
    }
   ],
   "source": [
    "Plot = selected_classes_raw_df['Plot'].values\n",
    "count_vect = CountVectorizer()\n",
    "X_counts = count_vect.fit_transform(Plot)\n",
    "X_counts.shape"
   ]
  },
  {
   "cell_type": "code",
   "execution_count": 166,
   "metadata": {},
   "outputs": [
    {
     "data": {
      "text/plain": [
       "(12657, 50440)"
      ]
     },
     "execution_count": 166,
     "metadata": {},
     "output_type": "execute_result"
    }
   ],
   "source": [
    "tfidf_transformer = TfidfTransformer()\n",
    "X_tfidf = tfidf_transformer.fit_transform(X_counts)\n",
    "X_tfidf.shape"
   ]
  },
  {
   "cell_type": "markdown",
   "metadata": {},
   "source": [
    "## Repeat Task 5."
   ]
  },
  {
   "cell_type": "markdown",
   "metadata": {},
   "source": [
    "### Split the data randomly into training and testing sets (70-30 %)."
   ]
  },
  {
   "cell_type": "code",
   "execution_count": 167,
   "metadata": {},
   "outputs": [],
   "source": [
    "X = X_tfidf\n",
    "y = selected_classes_raw_df['Genre'].values\n",
    "X_train, X_test, y_train, y_test = train_test_split(X, y, test_size=0.3)"
   ]
  },
  {
   "cell_type": "markdown",
   "metadata": {},
   "source": [
    "### Train SVM and report confusion matrix. <a href='#1'>[14]"
   ]
  },
  {
   "cell_type": "code",
   "execution_count": 168,
   "metadata": {},
   "outputs": [
    {
     "data": {
      "text/plain": [
       "SGDClassifier(alpha=0.001, max_iter=5, random_state=42, tol=None)"
      ]
     },
     "execution_count": 168,
     "metadata": {},
     "output_type": "execute_result"
    }
   ],
   "source": [
    "clf = SGDClassifier(loss='hinge', penalty='l2', alpha=1e-3, random_state=42, max_iter=5, tol=None)\n",
    "# fit the SVM SGDClassifier to our data.\n",
    "clf.fit(X_train, y_train)"
   ]
  },
  {
   "cell_type": "code",
   "execution_count": 169,
   "metadata": {},
   "outputs": [
    {
     "name": "stdout",
     "output_type": "stream",
     "text": [
      "Accuracy of SVM:  0.6190100052659294\n"
     ]
    }
   ],
   "source": [
    "# make prediction.\n",
    "predicted = clf.predict(X_test)\n",
    "# prin the Accuracy of SVM.\n",
    "print(\"Accuracy of SVM: \", accuracy_score(y_test, predicted))"
   ]
  },
  {
   "cell_type": "markdown",
   "metadata": {},
   "source": [
    "### Report confusion matrix."
   ]
  },
  {
   "cell_type": "code",
   "execution_count": 170,
   "metadata": {},
   "outputs": [
    {
     "data": {
      "text/plain": [
       "array([[  18,   16,  120,    0,    3],\n",
       "       [   1,  467,  831,    4,    4],\n",
       "       [   4,  102, 1694,    0,    6],\n",
       "       [   0,    9,  255,    4,    0],\n",
       "       [   0,    5,   87,    0,  168]])"
      ]
     },
     "execution_count": 170,
     "metadata": {},
     "output_type": "execute_result"
    }
   ],
   "source": [
    "metrics.confusion_matrix(y_test, predicted)"
   ]
  },
  {
   "cell_type": "code",
   "execution_count": 171,
   "metadata": {},
   "outputs": [
    {
     "data": {
      "text/plain": [
       "<matplotlib.axes._subplots.AxesSubplot at 0x180c300d0>"
      ]
     },
     "execution_count": 171,
     "metadata": {},
     "output_type": "execute_result"
    },
    {
     "data": {
      "image/png": "[encoded data removed]",
      "text/plain": [
       "<Figure size 432x288 with 1 Axes>"
      ]
     },
     "metadata": {},
     "output_type": "display_data"
    }
   ],
   "source": [
    "mat = confusion_matrix(y_test, predicted)\n",
    "\n",
    "sns.heatmap(mat.T, square=True, annot=True, fmt='d', cbar=False,\n",
    "            xticklabels=selected_classes_raw_df['Genre'].unique(), yticklabels=selected_classes_raw_df['Genre'].unique())"
   ]
  },
  {
   "cell_type": "markdown",
   "metadata": {},
   "source": [
    "### Classification report."
   ]
  },
  {
   "cell_type": "code",
   "execution_count": 172,
   "metadata": {},
   "outputs": [
    {
     "name": "stdout",
     "output_type": "stream",
     "text": [
      "              precision    recall  f1-score   support\n",
      "\n",
      "   adventure       0.78      0.11      0.20       157\n",
      "      comedy       0.78      0.36      0.49      1307\n",
      "       drama       0.57      0.94      0.71      1806\n",
      "     romance       0.50      0.01      0.03       268\n",
      "     western       0.93      0.65      0.76       260\n",
      "\n",
      "    accuracy                           0.62      3798\n",
      "   macro avg       0.71      0.41      0.44      3798\n",
      "weighted avg       0.67      0.62      0.57      3798\n",
      "\n"
     ]
    }
   ],
   "source": [
    "print(metrics.classification_report(y_test, predicted))"
   ]
  },
  {
   "cell_type": "markdown",
   "metadata": {},
   "source": [
    "## Train Multinomial NB and report confusion matrix.<a href='#1'>[14]"
   ]
  },
  {
   "cell_type": "code",
   "execution_count": 173,
   "metadata": {},
   "outputs": [
    {
     "data": {
      "text/plain": [
       "MultinomialNB()"
      ]
     },
     "execution_count": 173,
     "metadata": {},
     "output_type": "execute_result"
    }
   ],
   "source": [
    "clf = MultinomialNB()\n",
    "# fit Multinomial NB classifier to our data.\n",
    "clf.fit(X_train, y_train)"
   ]
  },
  {
   "cell_type": "code",
   "execution_count": 174,
   "metadata": {},
   "outputs": [
    {
     "name": "stdout",
     "output_type": "stream",
     "text": [
      "Accuracy of Multinomial NB:  0.5389678778304371\n"
     ]
    }
   ],
   "source": [
    "# make prediction\n",
    "predicted = clf.predict(X_test)\n",
    "# print the Accuracy of Multinomial NB.\n",
    "print(\"Accuracy of Multinomial NB: \", accuracy_score(y_test, predicted))"
   ]
  },
  {
   "cell_type": "markdown",
   "metadata": {},
   "source": [
    "### Report confusion matrix"
   ]
  },
  {
   "cell_type": "code",
   "execution_count": 175,
   "metadata": {},
   "outputs": [
    {
     "data": {
      "text/plain": [
       "array([[   0,    4,  153,    0,    0],\n",
       "       [   0,  276, 1031,    0,    0],\n",
       "       [   0,   35, 1771,    0,    0],\n",
       "       [   0,    6,  262,    0,    0],\n",
       "       [   0,    8,  252,    0,    0]])"
      ]
     },
     "execution_count": 175,
     "metadata": {},
     "output_type": "execute_result"
    }
   ],
   "source": [
    "metrics.confusion_matrix(y_test, predicted)"
   ]
  },
  {
   "cell_type": "code",
   "execution_count": 176,
   "metadata": {},
   "outputs": [
    {
     "data": {
      "text/plain": [
       "<matplotlib.axes._subplots.AxesSubplot at 0x182ecf0d0>"
      ]
     },
     "execution_count": 176,
     "metadata": {},
     "output_type": "execute_result"
    },
    {
     "data": {
      "image/png": "[encoded data removed]",
      "text/plain": [
       "<Figure size 432x288 with 1 Axes>"
      ]
     },
     "metadata": {},
     "output_type": "display_data"
    }
   ],
   "source": [
    "mat = confusion_matrix(y_test, predicted)\n",
    "\n",
    "sns.heatmap(mat.T, square=True, annot=True, fmt='d', cbar=False,\n",
    "            xticklabels=selected_classes_raw_df['Genre'].unique(), yticklabels=selected_classes_raw_df['Genre'].unique())"
   ]
  },
  {
   "cell_type": "markdown",
   "metadata": {},
   "source": [
    "### Classification report"
   ]
  },
  {
   "cell_type": "code",
   "execution_count": 177,
   "metadata": {},
   "outputs": [
    {
     "name": "stdout",
     "output_type": "stream",
     "text": [
      "              precision    recall  f1-score   support\n",
      "\n",
      "   adventure       0.00      0.00      0.00       157\n",
      "      comedy       0.84      0.21      0.34      1307\n",
      "       drama       0.51      0.98      0.67      1806\n",
      "     romance       0.00      0.00      0.00       268\n",
      "     western       0.00      0.00      0.00       260\n",
      "\n",
      "    accuracy                           0.54      3798\n",
      "   macro avg       0.27      0.24      0.20      3798\n",
      "weighted avg       0.53      0.54      0.44      3798\n",
      "\n"
     ]
    },
    {
     "name": "stderr",
     "output_type": "stream",
     "text": [
      "/Users/jingyang/opt/anaconda3/lib/python3.7/site-packages/sklearn/metrics/_classification.py:1221: UndefinedMetricWarning: Precision and F-score are ill-defined and being set to 0.0 in labels with no predicted samples. Use `zero_division` parameter to control this behavior.\n",
      "  _warn_prf(average, modifier, msg_start, len(result))\n"
     ]
    }
   ],
   "source": [
    "print(metrics.classification_report(y_test, predicted))"
   ]
  },
  {
   "cell_type": "code",
   "execution_count": 191,
   "metadata": {},
   "outputs": [
    {
     "name": "stdout",
     "output_type": "stream",
     "text": [
      "Accuracy of SVM(SVC):  0.6721958925750395\n"
     ]
    }
   ],
   "source": [
    "from sklearn import svm\n",
    "# initialize our svm.SVC model wity kernel is 'linear'.\n",
    "linear_svc = svm.SVC(kernel='linear')\n",
    "# fit svm.SVC to our data.\n",
    "linear_svc.fit(X_train, y_train)\n",
    "# make prediction.\n",
    "predicted = linear_svc.predict(X_test)\n",
    "# print the Accuracy of SVM.\n",
    "print(\"Accuracy of SVM(SVC): \", accuracy_score(y_test, predicted))"
   ]
  },
  {
   "cell_type": "code",
   "execution_count": 192,
   "metadata": {},
   "outputs": [
    {
     "data": {
      "text/plain": [
       "array([[  37,   31,   87,    0,    2],\n",
       "       [   6,  798,  487,   12,    4],\n",
       "       [   6,  307, 1467,   17,    9],\n",
       "       [   0,   43,  174,   51,    0],\n",
       "       [   2,   14,   44,    0,  200]])"
      ]
     },
     "execution_count": 192,
     "metadata": {},
     "output_type": "execute_result"
    }
   ],
   "source": [
    "from sklearn import metrics\n",
    "metrics.confusion_matrix(y_test, predicted)"
   ]
  },
  {
   "cell_type": "code",
   "execution_count": 193,
   "metadata": {},
   "outputs": [
    {
     "data": {
      "text/plain": [
       "<matplotlib.axes._subplots.AxesSubplot at 0x180bcff90>"
      ]
     },
     "execution_count": 193,
     "metadata": {},
     "output_type": "execute_result"
    },
    {
     "data": {
      "image/png": "[encoded data removed]",
      "text/plain": [
       "<Figure size 432x288 with 1 Axes>"
      ]
     },
     "metadata": {},
     "output_type": "display_data"
    }
   ],
   "source": [
    "mat = confusion_matrix(y_test, predicted)\n",
    "\n",
    "sns.heatmap(mat.T, square=True, annot=True, fmt='d', cbar=False,\n",
    "            xticklabels=selected_classes_raw_df['Genre'].unique(), yticklabels=selected_classes_raw_df['Genre'].unique())"
   ]
  },
  {
   "cell_type": "code",
   "execution_count": 194,
   "metadata": {},
   "outputs": [
    {
     "name": "stdout",
     "output_type": "stream",
     "text": [
      "              precision    recall  f1-score   support\n",
      "\n",
      "   adventure       0.73      0.24      0.36       157\n",
      "      comedy       0.67      0.61      0.64      1307\n",
      "       drama       0.65      0.81      0.72      1806\n",
      "     romance       0.64      0.19      0.29       268\n",
      "     western       0.93      0.77      0.84       260\n",
      "\n",
      "    accuracy                           0.67      3798\n",
      "   macro avg       0.72      0.52      0.57      3798\n",
      "weighted avg       0.68      0.67      0.66      3798\n",
      "\n"
     ]
    }
   ],
   "source": [
    "print(metrics.classification_report(y_test, predicted))"
   ]
  },
  {
   "cell_type": "code",
   "execution_count": 182,
   "metadata": {},
   "outputs": [
    {
     "name": "stdout",
     "output_type": "stream",
     "text": [
      "Fitting 5 folds for each of 4 candidates, totalling 20 fits\n",
      "[CV] kernel=linear ...................................................\n"
     ]
    },
    {
     "name": "stderr",
     "output_type": "stream",
     "text": [
      "[Parallel(n_jobs=1)]: Using backend SequentialBackend with 1 concurrent workers.\n"
     ]
    },
    {
     "name": "stdout",
     "output_type": "stream",
     "text": [
      "[CV] ....................... kernel=linear, score=0.640, total=  38.0s\n",
      "[CV] kernel=linear ...................................................\n"
     ]
    },
    {
     "name": "stderr",
     "output_type": "stream",
     "text": [
      "[Parallel(n_jobs=1)]: Done   1 out of   1 | elapsed:   38.0s remaining:    0.0s\n"
     ]
    },
    {
     "name": "stdout",
     "output_type": "stream",
     "text": [
      "[CV] ....................... kernel=linear, score=0.659, total=  43.4s\n",
      "[CV] kernel=linear ...................................................\n"
     ]
    },
    {
     "name": "stderr",
     "output_type": "stream",
     "text": [
      "[Parallel(n_jobs=1)]: Done   2 out of   2 | elapsed:  1.4min remaining:    0.0s\n"
     ]
    },
    {
     "name": "stdout",
     "output_type": "stream",
     "text": [
      "[CV] ....................... kernel=linear, score=0.635, total=  39.1s\n",
      "[CV] kernel=linear ...................................................\n",
      "[CV] ....................... kernel=linear, score=0.638, total=  41.4s\n",
      "[CV] kernel=linear ...................................................\n",
      "[CV] ....................... kernel=linear, score=0.670, total=  38.4s\n",
      "[CV] kernel=poly .....................................................\n",
      "[CV] ......................... kernel=poly, score=0.481, total=  55.2s\n",
      "[CV] kernel=poly .....................................................\n",
      "[CV] ......................... kernel=poly, score=0.479, total=  58.5s\n",
      "[CV] kernel=poly .....................................................\n",
      "[CV] ......................... kernel=poly, score=0.477, total=  58.3s\n",
      "[CV] kernel=poly .....................................................\n",
      "[CV] ......................... kernel=poly, score=0.477, total=  59.3s\n",
      "[CV] kernel=poly .....................................................\n",
      "[CV] ......................... kernel=poly, score=0.486, total= 1.0min\n",
      "[CV] kernel=rbf ......................................................\n",
      "[CV] .......................... kernel=rbf, score=0.608, total=  53.1s\n",
      "[CV] kernel=rbf ......................................................\n",
      "[CV] .......................... kernel=rbf, score=0.611, total=  53.7s\n",
      "[CV] kernel=rbf ......................................................\n",
      "[CV] .......................... kernel=rbf, score=0.610, total=  53.8s\n",
      "[CV] kernel=rbf ......................................................\n",
      "[CV] .......................... kernel=rbf, score=0.607, total=  47.4s\n",
      "[CV] kernel=rbf ......................................................\n",
      "[CV] .......................... kernel=rbf, score=0.625, total=  55.9s\n",
      "[CV] kernel=sigmoid ..................................................\n",
      "[CV] ...................... kernel=sigmoid, score=0.643, total=  34.1s\n",
      "[CV] kernel=sigmoid ..................................................\n",
      "[CV] ...................... kernel=sigmoid, score=0.654, total=  33.6s\n",
      "[CV] kernel=sigmoid ..................................................\n",
      "[CV] ...................... kernel=sigmoid, score=0.638, total=  37.9s\n",
      "[CV] kernel=sigmoid ..................................................\n",
      "[CV] ...................... kernel=sigmoid, score=0.637, total=  33.9s\n",
      "[CV] kernel=sigmoid ..................................................\n",
      "[CV] ...................... kernel=sigmoid, score=0.667, total=  33.8s\n"
     ]
    },
    {
     "name": "stderr",
     "output_type": "stream",
     "text": [
      "[Parallel(n_jobs=1)]: Done  20 out of  20 | elapsed: 15.5min finished\n"
     ]
    },
    {
     "data": {
      "text/plain": [
       "GridSearchCV(estimator=SVC(),\n",
       "             param_grid={'kernel': ['linear', 'poly', 'rbf', 'sigmoid']},\n",
       "             verbose=3)"
      ]
     },
     "execution_count": 182,
     "metadata": {},
     "output_type": "execute_result"
    }
   ],
   "source": [
    "# import GridSearchCV which exhaustive search over specified parameter values for an estimator.\n",
    "from sklearn.model_selection import GridSearchCV\n",
    "from sklearn.svm import SVC\n",
    "# Set the GridSearchCV hyperparameters 'kernel' of SVC to be 'linear', 'poly', 'rbf', 'sigmoid', 'precomputed'.\n",
    "param_grid_svc = {'kernel': ['linear', 'poly', 'rbf', 'sigmoid']}\n",
    "# GridSearchCV with our SVC model.\n",
    "grid_search = GridSearchCV(SVC(), param_grid_svc, refit=True, verbose=3)\n",
    "# fitting the model for GridSearchCV.\n",
    "grid_search.fit(X_train, y_train)"
   ]
  },
  {
   "cell_type": "code",
   "execution_count": 184,
   "metadata": {},
   "outputs": [
    {
     "name": "stdout",
     "output_type": "stream",
     "text": [
      "grid_search best params :  {'kernel': 'linear'} grid_search best estimator  SVC(kernel='linear')\n"
     ]
    }
   ],
   "source": [
    "# print best parameter and estimator after tuning.\n",
    "print(\"grid_search best params : \", grid_search.best_params_, \"grid_search best estimator \", grid_search.best_estimator_)\n",
    "\n",
    "\n",
    "\n"
   ]
  },
  {
   "cell_type": "code",
   "execution_count": 186,
   "metadata": {},
   "outputs": [
    {
     "name": "stdout",
     "output_type": "stream",
     "text": [
      "Accuracy of SVM(SVC) after tuning kernel hyperparameter:  0.6721958925750395\n"
     ]
    }
   ],
   "source": [
    "# make predictions.\n",
    "grid_predictions = grid_search.predict(X_test)\n",
    "# print the Accuracy of SVM.\n",
    "print(\"Accuracy of SVM(SVC) after tuning kernel hyperparameter: \", accuracy_score(y_test, grid_predictions))"
   ]
  },
  {
   "cell_type": "code",
   "execution_count": 187,
   "metadata": {},
   "outputs": [
    {
     "data": {
      "text/plain": [
       "array([[  37,   31,   87,    0,    2],\n",
       "       [   6,  798,  487,   12,    4],\n",
       "       [   6,  307, 1467,   17,    9],\n",
       "       [   0,   43,  174,   51,    0],\n",
       "       [   2,   14,   44,    0,  200]])"
      ]
     },
     "execution_count": 187,
     "metadata": {},
     "output_type": "execute_result"
    }
   ],
   "source": [
    "metrics.confusion_matrix(y_test, grid_predictions)"
   ]
  },
  {
   "cell_type": "code",
   "execution_count": 188,
   "metadata": {},
   "outputs": [
    {
     "data": {
      "image/png": "[encoded data removed]",
      "text/plain": [
       "<Figure size 1080x720 with 2 Axes>"
      ]
     },
     "metadata": {},
     "output_type": "display_data"
    }
   ],
   "source": [
    "from sklearn.metrics import confusion_matrix\n",
    "conf_mat = confusion_matrix(y_test, grid_predictions)\n",
    "fig, ax = plt.subplots(figsize=(15,10))\n",
    "sns.heatmap(conf_mat, annot=True, fmt='d',\n",
    "            xticklabels=selected_classes_raw_df['Genre'].unique(), yticklabels=selected_classes_raw_df['Genre'].unique())\n",
    "plt.ylabel('Actual')\n",
    "plt.xlabel('Predicted')\n",
    "plt.show()"
   ]
  },
  {
   "cell_type": "code",
   "execution_count": 189,
   "metadata": {},
   "outputs": [
    {
     "name": "stdout",
     "output_type": "stream",
     "text": [
      "              precision    recall  f1-score   support\n",
      "\n",
      "   adventure       0.73      0.24      0.36       157\n",
      "      comedy       0.67      0.61      0.64      1307\n",
      "       drama       0.65      0.81      0.72      1806\n",
      "     romance       0.64      0.19      0.29       268\n",
      "     western       0.93      0.77      0.84       260\n",
      "\n",
      "    accuracy                           0.67      3798\n",
      "   macro avg       0.72      0.52      0.57      3798\n",
      "weighted avg       0.68      0.67      0.66      3798\n",
      "\n"
     ]
    }
   ],
   "source": [
    "# print classification report.\n",
    "print(metrics.classification_report(y_test, grid_predictions))"
   ]
  },
  {
   "cell_type": "markdown",
   "metadata": {},
   "source": [
    "## How does this weighted F1 measure compare with that of Task 5?"
   ]
  },
  {
   "cell_type": "markdown",
   "metadata": {},
   "source": [
    "### According to the above classification reports, in Task 5, we can see that the weighted average F1 measure of the SVM model is 0.69 after tuning the kernel hyperparameter, the weighted average F1 measure of the Multinomial NB model is 0.38, here, we have weighted average F1 measure of the SVM model is 0.66 after tuning hyperparameter kernel, for Multinomial NB model is 0.44. Therefore the weighted F1 measure of SVM model is lower than that of Task 5, but for Multinomial NB is higher than that of Task 5."
   ]
  },
  {
   "cell_type": "markdown",
   "metadata": {},
   "source": [
    "## How does the size of the vocabulary compare with that of Task 5?"
   ]
  },
  {
   "cell_type": "markdown",
   "metadata": {},
   "source": [
    "### According to above bag-of-words tf-idf weighted vector, the shape of the bag-of-words tf-idf weighted vector of corpus in Task 5 is (12657, 54506), in Task 6 is (12657, 50440), therefore, the size of the vocabulary is less than that of Task 5."
   ]
  },
  {
   "cell_type": "markdown",
   "metadata": {},
   "source": [
    "# Task 7.<a id='top'></a>\n",
    "\n",
    "Fix the class imbalance by the resampling strategy of your choice. Repeat Task 5 and compare the performance with what you received in Task 5. Discuss your findings.\n",
    "</a>"
   ]
  },
  {
   "cell_type": "code",
   "execution_count": 195,
   "metadata": {},
   "outputs": [
    {
     "name": "stdout",
     "output_type": "stream",
     "text": [
      "y_train counter:  Counter({'drama': 4158, 'comedy': 3072, 'romance': 655, 'western': 605, 'adventure': 369})\n",
      "y_test counter:  Counter({'drama': 1806, 'comedy': 1307, 'romance': 268, 'western': 260, 'adventure': 157})\n"
     ]
    }
   ],
   "source": [
    "# Check the proportions of each class.\n",
    "from collections import Counter\n",
    "# print the times of each class occurs for training and testing data set.\n",
    "print(\"y_train counter: \", Counter(y_train))\n",
    "print(\"y_test counter: \", Counter(y_test))"
   ]
  },
  {
   "cell_type": "markdown",
   "metadata": {},
   "source": [
    "## Fix the class imbalance by apply the sythetic over-sampling approach SMOTE to our imbalanced data."
   ]
  },
  {
   "cell_type": "code",
   "execution_count": 196,
   "metadata": {},
   "outputs": [
    {
     "name": "stderr",
     "output_type": "stream",
     "text": [
      "/Users/jingyang/opt/anaconda3/lib/python3.7/site-packages/imblearn/utils/_validation.py:638: FutureWarning: Pass sampling_strategy=not majority as keyword args. From version 0.9 passing these as positional arguments will result in an error\n",
      "  FutureWarning)\n"
     ]
    }
   ],
   "source": [
    "# import the SMOTE from imblearn.over_sampling library.\n",
    "import imblearn\n",
    "from imblearn.over_sampling import SMOTE\n",
    "# resample all classes but the majority class.\n",
    "sm = SMOTE('not majority')\n",
    "# fit sythetic over-sampling approach SMOTE to our data.\n",
    "X_train_sm, y_train_sm = sm.fit_sample(X_train, y_train)"
   ]
  },
  {
   "cell_type": "code",
   "execution_count": 197,
   "metadata": {},
   "outputs": [
    {
     "data": {
      "text/plain": [
       "Counter({'comedy': 4158,\n",
       "         'romance': 4158,\n",
       "         'drama': 4158,\n",
       "         'western': 4158,\n",
       "         'adventure': 4158})"
      ]
     },
     "execution_count": 197,
     "metadata": {},
     "output_type": "execute_result"
    }
   ],
   "source": [
    "# check fixed imbalanced class.\n",
    "Counter(y_train_sm)"
   ]
  },
  {
   "cell_type": "code",
   "execution_count": 198,
   "metadata": {},
   "outputs": [],
   "source": [
    "# resample all classes but the majority class.\n",
    "sm = SMOTE('not majority')\n",
    "# fit sythetic over-sampling approach SMOTE to our data.\n",
    "X_test_sm, y_test_sm = sm.fit_sample(X_test, y_test)"
   ]
  },
  {
   "cell_type": "code",
   "execution_count": 199,
   "metadata": {},
   "outputs": [
    {
     "data": {
      "text/plain": [
       "Counter({'drama': 1806,\n",
       "         'comedy': 1806,\n",
       "         'western': 1806,\n",
       "         'adventure': 1806,\n",
       "         'romance': 1806})"
      ]
     },
     "execution_count": 199,
     "metadata": {},
     "output_type": "execute_result"
    }
   ],
   "source": [
    "# check fixed imbalanced class.\n",
    "Counter(y_test_sm)"
   ]
  },
  {
   "cell_type": "markdown",
   "metadata": {},
   "source": [
    "# Repeat Task 5."
   ]
  },
  {
   "cell_type": "markdown",
   "metadata": {},
   "source": [
    "### Train SVM and report confusion matrix. <a href='#1'>[14]"
   ]
  },
  {
   "cell_type": "code",
   "execution_count": 200,
   "metadata": {},
   "outputs": [
    {
     "data": {
      "text/plain": [
       "SGDClassifier(alpha=0.001, max_iter=5, random_state=42, tol=None)"
      ]
     },
     "execution_count": 200,
     "metadata": {},
     "output_type": "execute_result"
    }
   ],
   "source": [
    "clf = SGDClassifier(loss='hinge', penalty='l2', alpha=1e-3, random_state=42, max_iter=5, tol=None)\n",
    "# fit SVM SGDClassifier to our data.\n",
    "clf.fit(X_train_sm, y_train_sm)"
   ]
  },
  {
   "cell_type": "code",
   "execution_count": 201,
   "metadata": {},
   "outputs": [
    {
     "name": "stdout",
     "output_type": "stream",
     "text": [
      "Accuracy of SVM:  0.6906976744186046\n"
     ]
    }
   ],
   "source": [
    "# make prediction.\n",
    "predicted = clf.predict(X_test_sm)\n",
    "# print the Accuracy of SVM model.\n",
    "print(\"Accuracy of SVM: \", accuracy_score(y_test_sm, predicted))"
   ]
  },
  {
   "cell_type": "markdown",
   "metadata": {},
   "source": [
    "### Report confusion matrix."
   ]
  },
  {
   "cell_type": "code",
   "execution_count": 202,
   "metadata": {},
   "outputs": [
    {
     "data": {
      "text/plain": [
       "array([[1552,   30,   38,   31,  155],\n",
       "       [ 220,  947,  124,  307,  208],\n",
       "       [ 243,  354,  462,  490,  257],\n",
       "       [  44,  142,   86, 1502,   32],\n",
       "       [  23,    6,    0,    3, 1774]])"
      ]
     },
     "execution_count": 202,
     "metadata": {},
     "output_type": "execute_result"
    }
   ],
   "source": [
    "metrics.confusion_matrix(y_test_sm, predicted)"
   ]
  },
  {
   "cell_type": "code",
   "execution_count": 203,
   "metadata": {},
   "outputs": [
    {
     "data": {
      "text/plain": [
       "<matplotlib.axes._subplots.AxesSubplot at 0x183510b50>"
      ]
     },
     "execution_count": 203,
     "metadata": {},
     "output_type": "execute_result"
    },
    {
     "data": {
      "image/png": "[encoded data removed]",
      "text/plain": [
       "<Figure size 432x288 with 1 Axes>"
      ]
     },
     "metadata": {},
     "output_type": "display_data"
    }
   ],
   "source": [
    "mat = confusion_matrix(y_test_sm, predicted)\n",
    "\n",
    "sns.heatmap(mat.T, square=True, annot=True, fmt='d', cbar=False,\n",
    "            xticklabels=selected_classes_raw_df['Genre'].unique(), yticklabels=selected_classes_raw_df['Genre'].unique())"
   ]
  },
  {
   "cell_type": "markdown",
   "metadata": {},
   "source": [
    "### Classification report."
   ]
  },
  {
   "cell_type": "code",
   "execution_count": 204,
   "metadata": {},
   "outputs": [
    {
     "name": "stdout",
     "output_type": "stream",
     "text": [
      "              precision    recall  f1-score   support\n",
      "\n",
      "   adventure       0.75      0.86      0.80      1806\n",
      "      comedy       0.64      0.52      0.58      1806\n",
      "       drama       0.65      0.26      0.37      1806\n",
      "     romance       0.64      0.83      0.73      1806\n",
      "     western       0.73      0.98      0.84      1806\n",
      "\n",
      "    accuracy                           0.69      9030\n",
      "   macro avg       0.68      0.69      0.66      9030\n",
      "weighted avg       0.68      0.69      0.66      9030\n",
      "\n"
     ]
    }
   ],
   "source": [
    "print(metrics.classification_report(y_test_sm, predicted))"
   ]
  },
  {
   "cell_type": "markdown",
   "metadata": {},
   "source": [
    "## Train Multinomial NB and report confusion matrix.<a href='#1'>[14]"
   ]
  },
  {
   "cell_type": "code",
   "execution_count": 205,
   "metadata": {},
   "outputs": [
    {
     "name": "stdout",
     "output_type": "stream",
     "text": [
      "Accuracy of Multinomial NB:  0.7304540420819491\n"
     ]
    }
   ],
   "source": [
    "clf = MultinomialNB()\n",
    "# fit Multinomial NB classifier to our data.\n",
    "clf.fit(X_train_sm, y_train_sm)\n",
    "# make prediction.\n",
    "predicted = clf.predict(X_test_sm)\n",
    "# print the Accuracy of Multinomial NB.\n",
    "print(\"Accuracy of Multinomial NB: \", accuracy_score(y_test_sm, predicted))"
   ]
  },
  {
   "cell_type": "markdown",
   "metadata": {},
   "source": [
    "### Report confusion matrix."
   ]
  },
  {
   "cell_type": "code",
   "execution_count": 206,
   "metadata": {},
   "outputs": [
    {
     "data": {
      "text/plain": [
       "array([[1403,  132,  183,    5,   83],\n",
       "       [  75, 1321,  235,  143,   32],\n",
       "       [ 110,  538,  794,  269,   95],\n",
       "       [  19,  268,  203, 1316,    0],\n",
       "       [  19,   18,    7,    0, 1762]])"
      ]
     },
     "execution_count": 206,
     "metadata": {},
     "output_type": "execute_result"
    }
   ],
   "source": [
    "metrics.confusion_matrix(y_test_sm, predicted)"
   ]
  },
  {
   "cell_type": "code",
   "execution_count": 207,
   "metadata": {},
   "outputs": [
    {
     "data": {
      "text/plain": [
       "<matplotlib.axes._subplots.AxesSubplot at 0x183543e90>"
      ]
     },
     "execution_count": 207,
     "metadata": {},
     "output_type": "execute_result"
    },
    {
     "data": {
      "image/png": "[encoded data removed]",
      "text/plain": [
       "<Figure size 432x288 with 1 Axes>"
      ]
     },
     "metadata": {},
     "output_type": "display_data"
    }
   ],
   "source": [
    "mat = confusion_matrix(y_test_sm, predicted)\n",
    "\n",
    "sns.heatmap(mat.T, square=True, annot=True, fmt='d', cbar=False,\n",
    "            xticklabels=selected_classes_raw_df['Genre'].unique(), yticklabels=selected_classes_raw_df['Genre'].unique())"
   ]
  },
  {
   "cell_type": "markdown",
   "metadata": {},
   "source": [
    "### Classification report."
   ]
  },
  {
   "cell_type": "code",
   "execution_count": 208,
   "metadata": {},
   "outputs": [
    {
     "name": "stdout",
     "output_type": "stream",
     "text": [
      "              precision    recall  f1-score   support\n",
      "\n",
      "   adventure       0.86      0.78      0.82      1806\n",
      "      comedy       0.58      0.73      0.65      1806\n",
      "       drama       0.56      0.44      0.49      1806\n",
      "     romance       0.76      0.73      0.74      1806\n",
      "     western       0.89      0.98      0.93      1806\n",
      "\n",
      "    accuracy                           0.73      9030\n",
      "   macro avg       0.73      0.73      0.73      9030\n",
      "weighted avg       0.73      0.73      0.73      9030\n",
      "\n"
     ]
    }
   ],
   "source": [
    "print(metrics.classification_report(y_test_sm, predicted))"
   ]
  },
  {
   "cell_type": "markdown",
   "metadata": {},
   "source": [
    "## Compare the performance with what you received in Task 5. Discuss your findings."
   ]
  },
  {
   "cell_type": "code",
   "execution_count": 209,
   "metadata": {},
   "outputs": [
    {
     "name": "stdout",
     "output_type": "stream",
     "text": [
      "Accuracy of SVM(SVC):  0.6246954595791805\n"
     ]
    }
   ],
   "source": [
    "from sklearn import svm\n",
    "# initialize our svm.SVC model wity kernel is 'linear'.\n",
    "linear_svc = svm.SVC(kernel='linear')\n",
    "# fit svm.SVC to our data.\n",
    "linear_svc.fit(X_train_sm, y_train_sm)\n",
    "# make prediction.\n",
    "predicted = linear_svc.predict(X_test_sm)\n",
    "# print the Accuracy of SVM.\n",
    "print(\"Accuracy of SVM(SVC): \", accuracy_score(y_test_sm, predicted))"
   ]
  },
  {
   "cell_type": "code",
   "execution_count": 210,
   "metadata": {},
   "outputs": [
    {
     "data": {
      "text/plain": [
       "array([[ 763,  263,  743,   19,   18],\n",
       "       [  10, 1236,  512,   40,    8],\n",
       "       [  27,  379, 1314,   75,   11],\n",
       "       [   2,  299,  773,  732,    0],\n",
       "       [  18,   52,  140,    0, 1596]])"
      ]
     },
     "execution_count": 210,
     "metadata": {},
     "output_type": "execute_result"
    }
   ],
   "source": [
    "from sklearn import metrics\n",
    "metrics.confusion_matrix(y_test_sm, predicted)"
   ]
  },
  {
   "cell_type": "code",
   "execution_count": 211,
   "metadata": {},
   "outputs": [
    {
     "data": {
      "text/plain": [
       "<matplotlib.axes._subplots.AxesSubplot at 0x1833915d0>"
      ]
     },
     "execution_count": 211,
     "metadata": {},
     "output_type": "execute_result"
    },
    {
     "data": {
      "image/png": "[encoded data removed]",
      "text/plain": [
       "<Figure size 432x288 with 1 Axes>"
      ]
     },
     "metadata": {},
     "output_type": "display_data"
    }
   ],
   "source": [
    "mat = confusion_matrix(y_test_sm, predicted)\n",
    "\n",
    "sns.heatmap(mat.T, square=True, annot=True, fmt='d', cbar=False,\n",
    "            xticklabels=selected_classes_raw_df['Genre'].unique(), yticklabels=selected_classes_raw_df['Genre'].unique())"
   ]
  },
  {
   "cell_type": "code",
   "execution_count": 212,
   "metadata": {},
   "outputs": [
    {
     "name": "stdout",
     "output_type": "stream",
     "text": [
      "              precision    recall  f1-score   support\n",
      "\n",
      "   adventure       0.93      0.42      0.58      1806\n",
      "      comedy       0.55      0.68      0.61      1806\n",
      "       drama       0.38      0.73      0.50      1806\n",
      "     romance       0.85      0.41      0.55      1806\n",
      "     western       0.98      0.88      0.93      1806\n",
      "\n",
      "    accuracy                           0.62      9030\n",
      "   macro avg       0.74      0.62      0.63      9030\n",
      "weighted avg       0.74      0.62      0.63      9030\n",
      "\n"
     ]
    }
   ],
   "source": [
    "print(metrics.classification_report(y_test_sm, predicted))"
   ]
  },
  {
   "cell_type": "code",
   "execution_count": 213,
   "metadata": {},
   "outputs": [
    {
     "name": "stdout",
     "output_type": "stream",
     "text": [
      "Fitting 5 folds for each of 4 candidates, totalling 20 fits\n",
      "[CV] kernel=linear ...................................................\n"
     ]
    },
    {
     "name": "stderr",
     "output_type": "stream",
     "text": [
      "[Parallel(n_jobs=1)]: Using backend SequentialBackend with 1 concurrent workers.\n"
     ]
    },
    {
     "name": "stdout",
     "output_type": "stream",
     "text": [
      "[CV] ....................... kernel=linear, score=0.872, total= 2.1min\n",
      "[CV] kernel=linear ...................................................\n"
     ]
    },
    {
     "name": "stderr",
     "output_type": "stream",
     "text": [
      "[Parallel(n_jobs=1)]: Done   1 out of   1 | elapsed:  2.1min remaining:    0.0s\n"
     ]
    },
    {
     "name": "stdout",
     "output_type": "stream",
     "text": [
      "[CV] ....................... kernel=linear, score=0.886, total= 1.8min\n",
      "[CV] kernel=linear ...................................................\n"
     ]
    },
    {
     "name": "stderr",
     "output_type": "stream",
     "text": [
      "[Parallel(n_jobs=1)]: Done   2 out of   2 | elapsed:  3.9min remaining:    0.0s\n"
     ]
    },
    {
     "name": "stdout",
     "output_type": "stream",
     "text": [
      "[CV] ....................... kernel=linear, score=0.886, total= 2.2min\n",
      "[CV] kernel=linear ...................................................\n",
      "[CV] ....................... kernel=linear, score=0.899, total= 1.9min\n",
      "[CV] kernel=linear ...................................................\n",
      "[CV] ....................... kernel=linear, score=0.928, total= 1.9min\n",
      "[CV] kernel=poly .....................................................\n",
      "[CV] ......................... kernel=poly, score=0.872, total= 4.2min\n",
      "[CV] kernel=poly .....................................................\n",
      "[CV] ......................... kernel=poly, score=0.878, total= 3.7min\n",
      "[CV] kernel=poly .....................................................\n",
      "[CV] ......................... kernel=poly, score=0.881, total= 3.9min\n",
      "[CV] kernel=poly .....................................................\n",
      "[CV] ......................... kernel=poly, score=0.893, total= 3.9min\n",
      "[CV] kernel=poly .....................................................\n",
      "[CV] ......................... kernel=poly, score=0.957, total= 4.0min\n",
      "[CV] kernel=rbf ......................................................\n",
      "[CV] .......................... kernel=rbf, score=0.757, total= 2.8min\n",
      "[CV] kernel=rbf ......................................................\n",
      "[CV] .......................... kernel=rbf, score=0.877, total= 2.3min\n",
      "[CV] kernel=rbf ......................................................\n",
      "[CV] .......................... kernel=rbf, score=0.879, total= 2.3min\n",
      "[CV] kernel=rbf ......................................................\n",
      "[CV] .......................... kernel=rbf, score=0.912, total= 2.4min\n",
      "[CV] kernel=rbf ......................................................\n",
      "[CV] .......................... kernel=rbf, score=0.951, total= 2.4min\n",
      "[CV] kernel=sigmoid ..................................................\n",
      "[CV] ...................... kernel=sigmoid, score=0.856, total= 1.8min\n",
      "[CV] kernel=sigmoid ..................................................\n",
      "[CV] ...................... kernel=sigmoid, score=0.871, total= 1.8min\n",
      "[CV] kernel=sigmoid ..................................................\n",
      "[CV] ...................... kernel=sigmoid, score=0.874, total= 1.9min\n",
      "[CV] kernel=sigmoid ..................................................\n",
      "[CV] ...................... kernel=sigmoid, score=0.886, total= 2.0min\n",
      "[CV] kernel=sigmoid ..................................................\n",
      "[CV] ...................... kernel=sigmoid, score=0.912, total= 1.8min\n"
     ]
    },
    {
     "name": "stderr",
     "output_type": "stream",
     "text": [
      "[Parallel(n_jobs=1)]: Done  20 out of  20 | elapsed: 50.9min finished\n"
     ]
    },
    {
     "data": {
      "text/plain": [
       "GridSearchCV(estimator=SVC(),\n",
       "             param_grid={'kernel': ['linear', 'poly', 'rbf', 'sigmoid']},\n",
       "             verbose=3)"
      ]
     },
     "execution_count": 213,
     "metadata": {},
     "output_type": "execute_result"
    }
   ],
   "source": [
    "# import GridSearchCV which exhaustive search over specified parameter values for an estimator.\n",
    "from sklearn.model_selection import GridSearchCV\n",
    "from sklearn.svm import SVC\n",
    "# Set the GridSearchCV hyperparameters 'kernel' of SVC to be 'linear', 'poly', 'rbf', 'sigmoid', 'precomputed'.\n",
    "param_grid_svc = {'kernel': ['linear', 'poly', 'rbf', 'sigmoid']}\n",
    "# GridSearchCV with our SVC model.\n",
    "grid_search = GridSearchCV(SVC(), param_grid_svc, refit=True, verbose=3)\n",
    "# fitting the model for GridSearchCV.\n",
    "grid_search.fit(X_train_sm, y_train_sm)"
   ]
  },
  {
   "cell_type": "markdown",
   "metadata": {},
   "source": [
    "## Compare the performance with what you received in Task 5. Discuss your findings."
   ]
  },
  {
   "cell_type": "markdown",
   "metadata": {},
   "source": [
    "## According to the above classification reports, in Task 5, we can see that the weighted average F1 measure of the SVM model is 0.69 after tuning the kernel hyperparameter, the weighted average F1 measure of the Multinomial NB model is 0.38, here, we have weighted average F1 measure of the SVM model is 0.73 after tuning hyperparameter kernel, for Multinomial NB model is 0.73. Therefore the weighted F1 measure of SVM model is higher than that of Task 5, the weighted F1 measure of Multinomial NB model is higher than that of Task 5. After fix the class imbalance by the resampling strategy, the performance of our SVM and Multinomial NB model perform better and have higher weighted F1 measure, and score."
   ]
  },
  {
   "cell_type": "markdown",
   "metadata": {
    "colab_type": "text",
    "id": "YPgT8O5FV-uZ"
   },
   "source": [
    "### References:\n",
    "\n",
    "1. https://medium.com/ibm-data-science-experience/markdown-for-jupyter-notebooks-cheatsheet-386c05aeebed <a id='3'></a>\n",
    "2. https://seaborn.pydata.org/tutorial/categorical.html <a id='3'></a>\n",
    "3. https://stackoverflow.com/questions/37461239/plot-the-50-least-frequent-words-with-nltk <a id='3'></a>\n",
    "4. https://andrewpwheeler.com/2016/06/08/sentence-length-in-academic-articles/ <a id='3'></a>\n",
    "5. https://www.nltk.org/book/ch02.html <a id='3'></a>\n",
    "6. https://stackoverflow.com/questions/24273822/how-do-i-find-the-percentage-of-the-most-common-element-in-a-list <a id='3'></a>\n",
    "7. https://www.geeksforgeeks.org/get-all-rows-in-a-pandas-dataframe-containing-given-substring/ <a id='3'></a>\n",
    "8. https://www.geeksforgeeks.org/python-string-split/ <a id='3'></a>\n",
    "9. https://www.programiz.com/python-programming/methods/string/join <a id='3'></a>\n",
    "10. https://docs.python.org/3/library/re.html <a id='3'></a>\n",
    "11. https://docs.python.org/2/library/collections.html <a id='3'></a>\n",
    "12. https://www.geeksforgeeks.org/python-stemming-words-with-nltk/ <a id='3'></a>\n",
    "13. https://towardsdatascience.com/machine-learning-text-processing-1d5a2d638958 <a id='3'></a>\n",
    "14. https://scikit-learn.org/stable/tutorial/text_analytics/working_with_text_data.html <a id='3'></a>\n",
    "15. https://datatofish.com/select-rows-pandas-dataframe/ <a id='3'></a>\n",
    "16. https://www.geeksforgeeks.org/python-program-to-convert-a-list-to-string/ <a id='3'></a>\n",
    "17. https://stackoverflow.com/questions/39483108/how-to-get-only-word-for-selected-tag-in-nltk-part-of-speech-pos-tagging <a id='3'></a>\n",
    "18. https://www.geeksforgeeks.org/svm-hyperparameter-tuning-using-gridsearchcv-ml/ <a id='3'></a>\n",
    "19. https://scikit-learn.org/stable/modules/generated/sklearn.model_selection.GridSearchCV.html <a id='3'></a>\n",
    "20. https://scikit-learn.org/stable/modules/svm.html <a id='3'></a>\n",
    "21. https://scikit-learn.org/stable/tutorial/text_analytics/working_with_text_data.html <a id='3'></a>"
   ]
  }
 ],
 "metadata": {
  "colab": {
   "authorship_tag": "ABX9TyNF40vY5lHLkevSDM/UNTXs",
   "name": "CSCI4146_Assignment_Template.ipynb",
   "provenance": []
  },
  "kernelspec": {
   "display_name": "Python 3",
   "language": "python",
   "name": "python3"
  },
  "language_info": {
   "codemirror_mode": {
    "name": "ipython",
    "version": 3
   },
   "file_extension": ".py",
   "mimetype": "text/x-python",
   "name": "python",
   "nbconvert_exporter": "python",
   "pygments_lexer": "ipython3",
   "version": "3.7.4"
  }
 },
 "nbformat": 4,
 "nbformat_minor": 1
}
